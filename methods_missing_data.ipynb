{
 "cells": [
  {
   "cell_type": "markdown",
   "metadata": {},
   "source": [
    "# Serão realizados vários procedimentos de estimação de dados faltantes levando em conta a natureza do dado faltante e em seguida será realizado uma previsão de um tipo de alga marinha pelo algoritmo de Árvore de Regressão."
   ]
  },
  {
   "cell_type": "code",
   "execution_count": null,
   "metadata": {},
   "outputs": [],
   "source": [
    "require(rpart)\n",
    "require(rpart.plot)\n",
    "require(DMwR2)\n",
    "require(\"TeachingSampling\")\n",
    "require(ggplot2)\n",
    "require(nortest)\n",
    "require(e1071)\n",
    "require(mice)"
   ]
  },
  {
   "cell_type": "code",
   "execution_count": null,
   "metadata": {},
   "outputs": [],
   "source": [
    "data(algae, package=\"DMwR2\")"
   ]
  },
  {
   "cell_type": "code",
   "execution_count": null,
   "metadata": {},
   "outputs": [],
   "source": [
    "algae[c(62,199),]"
   ]
  },
  {
   "cell_type": "code",
   "execution_count": null,
   "metadata": {},
   "outputs": [],
   "source": [
    "dados=algae[-c(62,199),]\n",
    "head(dados)"
   ]
  },
  {
   "cell_type": "code",
   "execution_count": null,
   "metadata": {},
   "outputs": [],
   "source": [
    "#Proporção de dados faltantes\n",
    "nrow(dados[!complete.cases(dados),])/nrow(dados)"
   ]
  },
  {
   "cell_type": "markdown",
   "metadata": {},
   "source": [
    "### Valores faltantes nas linhas"
   ]
  },
  {
   "cell_type": "code",
   "execution_count": null,
   "metadata": {},
   "outputs": [],
   "source": [
    "\n",
    "apply(dados,1,function(x) sum(is.na(x)))"
   ]
  },
  {
   "cell_type": "markdown",
   "metadata": {},
   "source": [
    "### Valores faltantes nas colunas"
   ]
  },
  {
   "cell_type": "code",
   "execution_count": null,
   "metadata": {},
   "outputs": [],
   "source": [
    "\n",
    "dados=algae[-c(62,199),]\n",
    "apply(dados,2,function(x) sum(is.na(x)))"
   ]
  },
  {
   "cell_type": "markdown",
   "metadata": {},
   "source": [
    "## Pré-Processamento de dados com alguns métodos de estimação de dados faltantes."
   ]
  },
  {
   "cell_type": "markdown",
   "metadata": {},
   "source": [
    "### Estimação dos valores faltantes tirando as linhas com valores faltantes"
   ]
  },
  {
   "cell_type": "code",
   "execution_count": null,
   "metadata": {},
   "outputs": [],
   "source": [
    "dados=dados[complete.cases(dados),]"
   ]
  },
  {
   "cell_type": "code",
   "execution_count": null,
   "metadata": {},
   "outputs": [],
   "source": [
    "##Valores faltantes nas colunas\n",
    "apply(dados,2,function(x) sum(is.na(x)))"
   ]
  },
  {
   "cell_type": "markdown",
   "metadata": {},
   "source": [
    "# Estimação dos valores faltantes pela média, mediana."
   ]
  },
  {
   "cell_type": "code",
   "execution_count": null,
   "metadata": {},
   "outputs": [],
   "source": [
    "#dados=AjeitaDados(dados)\n",
    "dados=algae[-c(62,199),]\n",
    "##Variáveis que tem valores faltantes\n",
    "apply(dados,2,function(x) sum(is.na(x)))"
   ]
  },
  {
   "cell_type": "markdown",
   "metadata": {},
   "source": [
    "#### Variável mxPH"
   ]
  },
  {
   "cell_type": "code",
   "execution_count": null,
   "metadata": {},
   "outputs": [],
   "source": [
    "(ggplot(dados)+aes(mxPH)+geom_histogram(aes(y=..density..),color=\"black\",fill=\"#00AFBB\")\n",
    "+geom_rug()+geom_density()+theme_test())"
   ]
  },
  {
   "cell_type": "code",
   "execution_count": null,
   "metadata": {},
   "outputs": [],
   "source": [
    "skewness(dados$mxPH,na.rm=T)\n",
    "kurtosis(dados$mxPH,na.rm=T)"
   ]
  },
  {
   "cell_type": "code",
   "execution_count": null,
   "metadata": {},
   "outputs": [],
   "source": [
    "(ggplot(dados)+aes(1,mxPH)+geom_boxplot(fill=\"#00AFBB\",color=\"black\")\n",
    "  +geom_rug()+geom_hline(aes(yintercept=mean(dados$mxPH,na.rm=T),color=\"red\"))+theme_test())"
   ]
  },
  {
   "cell_type": "code",
   "execution_count": null,
   "metadata": {},
   "outputs": [],
   "source": [
    "##Proporção dos outliers\n",
    "6/198"
   ]
  },
  {
   "cell_type": "code",
   "execution_count": null,
   "metadata": {},
   "outputs": [],
   "source": [
    "qqnorm(dados$mxPH)\n",
    "qqline(dados$mxPH,col=\"red\")"
   ]
  },
  {
   "cell_type": "code",
   "execution_count": null,
   "metadata": {},
   "outputs": [],
   "source": [
    "shapiro.test(dados$mxPH)\n",
    "lillie.test(dados$mxPH)"
   ]
  },
  {
   "cell_type": "markdown",
   "metadata": {},
   "source": [
    "#### A variável mxPH pode ser considerada com distribuição normal com evidências do histograma e sua densidade estimada, assimetria e curtose, box-plot e a proporção de outlier chega perto de 5%, e um dos dois testes de hipóteses realizados não-rejeitam normalidade a nível de 1%, com isso o valor a ser imputado será a média."
   ]
  },
  {
   "cell_type": "code",
   "execution_count": null,
   "metadata": {},
   "outputs": [],
   "source": [
    "dados$mxPH[which(is.na(dados$mxPH))]=mean(dados$mxPH,na.rm=T)"
   ]
  },
  {
   "cell_type": "code",
   "execution_count": null,
   "metadata": {},
   "outputs": [],
   "source": [
    "apply(dados,2,function(x) sum(is.na(x)))"
   ]
  },
  {
   "cell_type": "markdown",
   "metadata": {},
   "source": [
    "### Variável mnO2"
   ]
  },
  {
   "cell_type": "code",
   "execution_count": null,
   "metadata": {},
   "outputs": [],
   "source": [
    "(ggplot(dados)+aes(mnO2)+geom_histogram(aes(y=..density..),color=\"black\",fill=\"#00AFBB\")\n",
    "  +geom_rug()+geom_density()+theme_test())"
   ]
  },
  {
   "cell_type": "code",
   "execution_count": null,
   "metadata": {},
   "outputs": [],
   "source": [
    "skewness(dados$mnO2,na.rm=T)\n",
    "kurtosis(dados$mnO2,na.rm=T)"
   ]
  },
  {
   "cell_type": "code",
   "execution_count": null,
   "metadata": {},
   "outputs": [],
   "source": [
    "(ggplot(dados)+aes(1,mnO2)+geom_boxplot(fill=\"#00AFBB\",color=\"black\")\n",
    "  +geom_rug()+geom_hline(aes(yintercept=mean(dados$mnO2,na.rm=T),color=\"red\")+theme_test()))"
   ]
  },
  {
   "cell_type": "code",
   "execution_count": null,
   "metadata": {},
   "outputs": [],
   "source": [
    "qqnorm(dados$mnO2)\n",
    "qqline(dados$mnO2,col=\"red\")"
   ]
  },
  {
   "cell_type": "code",
   "execution_count": null,
   "metadata": {},
   "outputs": [],
   "source": [
    "shapiro.test(dados$mnO2)\n",
    "lillie.test(dados$mnO2)"
   ]
  },
  {
   "cell_type": "markdown",
   "metadata": {},
   "source": [
    "#### A variável mnO2 não pode ser considerada com distribuição normal pelas evidências do histograma e sua densidade estimada, assimetria e curtose, box-plot e os dois testes de hipóteses realizados rejeitaram normalidade, com isso o valor a ser imputado será a mediana."
   ]
  },
  {
   "cell_type": "code",
   "execution_count": null,
   "metadata": {},
   "outputs": [],
   "source": [
    "x=which(is.na(dados$mnO2))\n",
    "dados$mnO2[x]=median(dados$mnO2,na.rm=T)"
   ]
  },
  {
   "cell_type": "code",
   "execution_count": null,
   "metadata": {},
   "outputs": [],
   "source": [
    "apply(dados,2,function(x) sum(is.na(x)))"
   ]
  },
  {
   "cell_type": "markdown",
   "metadata": {},
   "source": [
    "### Variável Cl"
   ]
  },
  {
   "cell_type": "code",
   "execution_count": null,
   "metadata": {},
   "outputs": [],
   "source": [
    "(ggplot(dados)+aes(Cl)+geom_histogram(aes(y=..density..),color=\"black\",fill=\"#00AFBB\")\n",
    "  +geom_rug()+geom_density()+theme_test())"
   ]
  },
  {
   "cell_type": "code",
   "execution_count": null,
   "metadata": {},
   "outputs": [],
   "source": [
    "skewness(dados$Cl,na.rm=T)\n",
    "kurtosis(dados$Cl,na.rm=T)"
   ]
  },
  {
   "cell_type": "code",
   "execution_count": null,
   "metadata": {},
   "outputs": [],
   "source": [
    "(ggplot(dados)+aes(1,Cl)+geom_boxplot(fill=\"#00AFBB\",color=\"black\")\n",
    "  +geom_rug()+geom_hline(aes(yintercept=mean(dados$Cl,na.rm=T),color=\"red\"))+theme_test())"
   ]
  },
  {
   "cell_type": "code",
   "execution_count": null,
   "metadata": {},
   "outputs": [],
   "source": [
    "qqnorm(dados$Cl)\n",
    "qqline(dados$Cl,col=\"red\")"
   ]
  },
  {
   "cell_type": "code",
   "execution_count": null,
   "metadata": {},
   "outputs": [],
   "source": [
    "shapiro.test(dados$Cl)\n",
    "lillie.test(dados$Cl)"
   ]
  },
  {
   "cell_type": "markdown",
   "metadata": {},
   "source": [
    "####  A variável Cl não pode ser considerada com distribuição normal pelas evidências do histograma e sua densidade estimada, assimetria e calda bem mais pesado que a normal, box-plot e os dois testes de hipóteses realizados rejeitaram normalidade, com isso o valor a ser imputado será a mediana por ser mais robusta nessa situação."
   ]
  },
  {
   "cell_type": "code",
   "execution_count": null,
   "metadata": {},
   "outputs": [],
   "source": [
    "dados$Cl[which(is.na(dados$Cl))]=median(dados$Cl,na.rm=T)"
   ]
  },
  {
   "cell_type": "code",
   "execution_count": null,
   "metadata": {},
   "outputs": [],
   "source": [
    "apply(dados,2,function(x) sum(is.na(x)))"
   ]
  },
  {
   "cell_type": "markdown",
   "metadata": {},
   "source": [
    "# Variável PO4"
   ]
  },
  {
   "cell_type": "code",
   "execution_count": null,
   "metadata": {},
   "outputs": [],
   "source": [
    "(ggplot(dados)+aes(PO4)+geom_histogram(aes(y=..density..),color=\"black\",fill=\"#00AFBB\")\n",
    "  +geom_rug()+geom_density()+theme_test())"
   ]
  },
  {
   "cell_type": "code",
   "execution_count": null,
   "metadata": {},
   "outputs": [],
   "source": [
    "skewness(dados$PO4,na.rm=T)\n",
    "kurtosis(dados$PO4,na.rm=T)"
   ]
  },
  {
   "cell_type": "code",
   "execution_count": null,
   "metadata": {},
   "outputs": [],
   "source": [
    "(ggplot(dados)+aes(1,PO4)+geom_boxplot(fill=\"#00AFBB\",color=\"black\")\n",
    "  +geom_rug()+geom_hline(aes(yintercept=mean(dados$PO4,na.rm=T),color=\"red\"))+theme_test())"
   ]
  },
  {
   "cell_type": "code",
   "execution_count": null,
   "metadata": {},
   "outputs": [],
   "source": [
    "qqnorm(dados$PO4)\n",
    "qqline(dados$PO4,col=\"red\")"
   ]
  },
  {
   "cell_type": "code",
   "execution_count": null,
   "metadata": {},
   "outputs": [],
   "source": [
    "shapiro.test(dados$PO4)\n",
    "lillie.test(dados$PO4)"
   ]
  },
  {
   "cell_type": "code",
   "execution_count": null,
   "metadata": {},
   "outputs": [],
   "source": [
    "dados$PO4[which(is.na(dados$PO4))]=median(dados$PO4,na.rm=T)"
   ]
  },
  {
   "cell_type": "code",
   "execution_count": null,
   "metadata": {},
   "outputs": [],
   "source": [
    "apply(dados,2,function(x) sum(is.na(x)))"
   ]
  },
  {
   "cell_type": "markdown",
   "metadata": {},
   "source": [
    "#### A variável PO4 não pode ser considerada com distribuição normal pelas evidências do histograma e sua densidade estimada, assimetria e calda bem mais pesado que a normal, box-plot e os dois testes de hipóteses realizados rejeitaram normalidade, com isso o valor a ser imputado será a mediana por ser mais robusta nessa situação.¶"
   ]
  },
  {
   "cell_type": "markdown",
   "metadata": {},
   "source": [
    "### Variável Chla"
   ]
  },
  {
   "cell_type": "code",
   "execution_count": null,
   "metadata": {},
   "outputs": [],
   "source": [
    "(ggplot(dados)+aes(Chla)+geom_histogram(aes(y=..density..),color=\"black\",fill=\"#00AFBB\")\n",
    "  +geom_rug()+geom_density())"
   ]
  },
  {
   "cell_type": "code",
   "execution_count": null,
   "metadata": {},
   "outputs": [],
   "source": [
    "skewness(dados$Chla,na.rm=T)\n",
    "kurtosis(dados$Chla,na.rm=T)"
   ]
  },
  {
   "cell_type": "code",
   "execution_count": null,
   "metadata": {},
   "outputs": [],
   "source": [
    "(ggplot(dados)+aes(1,Chla)+geom_boxplot(fill=\"#00AFBB\",color=\"black\")\n",
    "  +geom_rug()+geom_hline(aes(yintercept=mean(dados$Chla,na.rm=T),color=\"red\")))"
   ]
  },
  {
   "cell_type": "code",
   "execution_count": null,
   "metadata": {},
   "outputs": [],
   "source": [
    "qqnorm(dados$Chla)\n",
    "qqline(dados$Chla,col=\"red\")"
   ]
  },
  {
   "cell_type": "code",
   "execution_count": null,
   "metadata": {},
   "outputs": [],
   "source": [
    "shapiro.test(dados$Chla)\n",
    "lillie.test(dados$Chla)"
   ]
  },
  {
   "cell_type": "markdown",
   "metadata": {},
   "source": [
    "#### A variável Chla não pode ser considerada com distribuição normal pelas evidências do histograma e sua densidade estimada, assimetria e calda bem mais pesado que a normal, box-plot e os dois testes de hipóteses realizados rejeitaram normalidade, com isso o valor a ser imputado será a mediana por ser mais robusta nessa situação."
   ]
  },
  {
   "cell_type": "code",
   "execution_count": null,
   "metadata": {},
   "outputs": [],
   "source": [
    "dados$Chla[which(is.na(dados$Chla))]=median(dados$Chla,na.rm=T)"
   ]
  },
  {
   "cell_type": "code",
   "execution_count": null,
   "metadata": {},
   "outputs": [],
   "source": [
    "apply(dados,2,function(x) sum(is.na(x)))"
   ]
  },
  {
   "cell_type": "markdown",
   "metadata": {},
   "source": [
    "# Estimando pela correlação entre as variáveis"
   ]
  },
  {
   "cell_type": "code",
   "execution_count": null,
   "metadata": {},
   "outputs": [],
   "source": [
    "dados=algae[-c(62,199),]\n",
    "apply(dados,2,function(x) sum(is.na(x)))"
   ]
  },
  {
   "cell_type": "markdown",
   "metadata": {},
   "source": [
    "# Matriz de correlações"
   ]
  },
  {
   "cell_type": "code",
   "execution_count": null,
   "metadata": {},
   "outputs": [],
   "source": [
    "symnum(cor(dados[,4:18],use=\"complete.obs\"))"
   ]
  },
  {
   "cell_type": "markdown",
   "metadata": {},
   "source": [
    "### Variável PO4"
   ]
  },
  {
   "cell_type": "code",
   "execution_count": null,
   "metadata": {},
   "outputs": [],
   "source": [
    "cor(dados$PO4, dados$oPO4, use = \"complete.obs\")"
   ]
  },
  {
   "cell_type": "code",
   "execution_count": null,
   "metadata": {},
   "outputs": [],
   "source": [
    "ggplot(dados)+aes(oPO4,PO4)+geom_point()+geom_smooth(method=\"lm\",se=F)+theme_test()"
   ]
  },
  {
   "cell_type": "code",
   "execution_count": null,
   "metadata": {},
   "outputs": [],
   "source": [
    "model=lm(dados$PO4 ~ dados$oPO4, data=dados)\n",
    "summary(model)"
   ]
  },
  {
   "cell_type": "code",
   "execution_count": null,
   "metadata": {},
   "outputs": [],
   "source": [
    "pos=which(is.na(dados$PO4))\n",
    "dados$PO4[pos]=model$coefficients%*%t(t(c(1,dados$oPO4[pos])))"
   ]
  },
  {
   "cell_type": "code",
   "execution_count": null,
   "metadata": {},
   "outputs": [],
   "source": [
    "apply(dados,2,function(x) sum(is.na(x)))"
   ]
  },
  {
   "cell_type": "markdown",
   "metadata": {},
   "source": [
    "### Variável Chla"
   ]
  },
  {
   "cell_type": "code",
   "execution_count": null,
   "metadata": {},
   "outputs": [],
   "source": [
    "cor(dados$mxPH, dados$Chla, use = \"complete.obs\")"
   ]
  },
  {
   "cell_type": "code",
   "execution_count": null,
   "metadata": {},
   "outputs": [],
   "source": [
    "ggplot(dados)+aes(mxPH,Chla)+geom_point()+geom_smooth(method=\"lm\",se=F)+theme_test()"
   ]
  },
  {
   "cell_type": "code",
   "execution_count": null,
   "metadata": {},
   "outputs": [],
   "source": [
    "model=lm(dados$Chla ~ dados$mxPH, data=dados)\n",
    "summary(model)"
   ]
  },
  {
   "cell_type": "code",
   "execution_count": null,
   "metadata": {},
   "outputs": [],
   "source": [
    "pos=which(is.na(dados$Chla))\n",
    "dados$Chla[pos]=cbind(rep(1,length(pos)),dados$mxPH[pos])%*%t(t(model$coefficients))"
   ]
  },
  {
   "cell_type": "code",
   "execution_count": null,
   "metadata": {},
   "outputs": [],
   "source": [
    "apply(dados,2,function(x) sum(is.na(x)))"
   ]
  },
  {
   "cell_type": "markdown",
   "metadata": {},
   "source": [
    "# Variável mxPH"
   ]
  },
  {
   "cell_type": "code",
   "execution_count": null,
   "metadata": {},
   "outputs": [],
   "source": [
    "cor(dados$mxPH, dados$Chla, use = \"complete.obs\")"
   ]
  },
  {
   "cell_type": "code",
   "execution_count": null,
   "metadata": {},
   "outputs": [],
   "source": [
    "ggplot(dados)+aes(Chla,mxPH)+geom_point()+geom_smooth(method=\"lm\",se=F)+theme_test()"
   ]
  },
  {
   "cell_type": "code",
   "execution_count": null,
   "metadata": {},
   "outputs": [],
   "source": [
    "model=lm(dados$mxPH ~ dados$Chla, data=dados)\n",
    "summary(model)"
   ]
  },
  {
   "cell_type": "code",
   "execution_count": null,
   "metadata": {},
   "outputs": [],
   "source": [
    "pos=which(is.na(dados$mxPH))\n",
    "dados$mxPH[pos]=cbind(rep(1,length(pos)),dados$Chla[pos])%*%t(t(model$coefficients))"
   ]
  },
  {
   "cell_type": "code",
   "execution_count": null,
   "metadata": {},
   "outputs": [],
   "source": [
    "apply(dados,2,function(x) sum(is.na(x)))"
   ]
  },
  {
   "cell_type": "markdown",
   "metadata": {},
   "source": [
    "# Variável Cl"
   ]
  },
  {
   "cell_type": "code",
   "execution_count": null,
   "metadata": {},
   "outputs": [],
   "source": [
    "cor(dados$Cl, dados$PO4, use = \"complete.obs\")"
   ]
  },
  {
   "cell_type": "code",
   "execution_count": null,
   "metadata": {},
   "outputs": [],
   "source": [
    "ggplot(dados)+aes(PO4,Cl)+geom_point()+geom_smooth(method=\"lm\",se=F)+theme_test()"
   ]
  },
  {
   "cell_type": "code",
   "execution_count": null,
   "metadata": {},
   "outputs": [],
   "source": [
    "model=lm(dados$Cl ~ dados$PO4, data=dados)\n",
    "summary(model)"
   ]
  },
  {
   "cell_type": "code",
   "execution_count": null,
   "metadata": {},
   "outputs": [],
   "source": [
    "pos=which(is.na(dados$Cl))\n",
    "dados$Cl[pos]=cbind(rep(1,length(pos)),dados$PO4[pos])%*%t(t(model$coefficients))"
   ]
  },
  {
   "cell_type": "code",
   "execution_count": null,
   "metadata": {},
   "outputs": [],
   "source": [
    "apply(dados,2,function(x) sum(is.na(x)))"
   ]
  },
  {
   "cell_type": "markdown",
   "metadata": {},
   "source": [
    "# Variável mnO2"
   ]
  },
  {
   "cell_type": "code",
   "execution_count": null,
   "metadata": {},
   "outputs": [],
   "source": [
    "cor(dados$mnO2, dados$PO4, use = \"complete.obs\")"
   ]
  },
  {
   "cell_type": "code",
   "execution_count": null,
   "metadata": {},
   "outputs": [],
   "source": [
    "ggplot(dados)+aes(PO4,mnO2)+geom_point()+geom_smooth(method=\"lm\",se=F)+theme_test()"
   ]
  },
  {
   "cell_type": "code",
   "execution_count": null,
   "metadata": {},
   "outputs": [],
   "source": [
    "model=lm(dados$mnO2 ~ dados$PO4, data=dados)\n",
    "summary(model)"
   ]
  },
  {
   "cell_type": "code",
   "execution_count": null,
   "metadata": {},
   "outputs": [],
   "source": [
    "pos=which(is.na(dados$mnO2))\n",
    "dados$mnO2[pos]=cbind(rep(1,length(pos)),dados$PO4[pos])%*%t(t(model$coefficients))"
   ]
  },
  {
   "cell_type": "code",
   "execution_count": null,
   "metadata": {},
   "outputs": [],
   "source": [
    "apply(dados,2,function(x) sum(is.na(x)))"
   ]
  },
  {
   "cell_type": "markdown",
   "metadata": {},
   "source": [
    "# Imputação KNN"
   ]
  },
  {
   "cell_type": "code",
   "execution_count": null,
   "metadata": {},
   "outputs": [],
   "source": [
    "dados=algae[-c(62,199),]\n",
    "apply(dados,2,function(x) sum(is.na(x)))"
   ]
  },
  {
   "cell_type": "markdown",
   "metadata": {},
   "source": [
    "### 1 Vizinho mais próximo"
   ]
  },
  {
   "cell_type": "code",
   "execution_count": null,
   "metadata": {},
   "outputs": [],
   "source": [
    "dados=knnImputation(dados,1,scale=T,meth=\"median\")\n",
    "apply(dados,2,function(x) sum(is.na(x)))"
   ]
  },
  {
   "cell_type": "markdown",
   "metadata": {},
   "source": [
    "### 10 Vizinhos mais próximos"
   ]
  },
  {
   "cell_type": "code",
   "execution_count": null,
   "metadata": {},
   "outputs": [],
   "source": [
    "dados=algae[-c(62,199),]\n",
    "apply(dados,2,function(x) sum(is.na(x)))"
   ]
  },
  {
   "cell_type": "code",
   "execution_count": null,
   "metadata": {},
   "outputs": [],
   "source": [
    "dados=knnImputation(dados,10,scale=T,meth=\"weighAvg\")\n",
    "apply(dados,2,function(x) sum(is.na(x)))"
   ]
  },
  {
   "cell_type": "markdown",
   "metadata": {},
   "source": [
    "### Imputaçao multipla"
   ]
  },
  {
   "cell_type": "code",
   "execution_count": null,
   "metadata": {},
   "outputs": [],
   "source": [
    "dados=algae[-c(62,199),]\n",
    "apply(dados,2,function(x) sum(is.na(x)))"
   ]
  },
  {
   "cell_type": "code",
   "execution_count": null,
   "metadata": {},
   "outputs": [],
   "source": [
    "#dados=AjeitaDados(dados)\n",
    "nrow(dados)"
   ]
  },
  {
   "cell_type": "code",
   "execution_count": null,
   "metadata": {},
   "outputs": [],
   "source": [
    "md.pattern(dados)"
   ]
  },
  {
   "cell_type": "code",
   "execution_count": null,
   "metadata": {},
   "outputs": [],
   "source": [
    "imputacao=mice(dados,m=5,method=\"pmm\",maxit=50)"
   ]
  },
  {
   "cell_type": "code",
   "execution_count": null,
   "metadata": {},
   "outputs": [],
   "source": [
    "summary(imputacao)"
   ]
  },
  {
   "cell_type": "code",
   "execution_count": null,
   "metadata": {},
   "outputs": [],
   "source": [
    "imputacao$imp[c(4,5,6,10,11)]"
   ]
  },
  {
   "cell_type": "code",
   "execution_count": null,
   "metadata": {},
   "outputs": [],
   "source": [
    "# Banco de dados específico\n",
    "head(complete(imputacao,4))"
   ]
  }
 ],
 "metadata": {
  "kernelspec": {
   "display_name": "R",
   "language": "R",
   "name": "ir"
  },
  "language_info": {
   "codemirror_mode": "r",
   "file_extension": ".r",
   "mimetype": "text/x-r-source",
   "name": "R",
   "pygments_lexer": "r",
   "version": "3.6.1"
  }
 },
 "nbformat": 4,
 "nbformat_minor": 2
}
