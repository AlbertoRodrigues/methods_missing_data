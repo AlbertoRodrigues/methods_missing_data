{
 "cells": [
  {
   "cell_type": "markdown",
   "metadata": {},
   "source": [
    "# Serão realizados vários procedimentos de estimação de dados faltantes levando em conta a natureza do dado faltante e em seguida será realizado uma previsão de um tipo de alga marinha pelo algoritmo de Árvore de Regressão."
   ]
  },
  {
   "cell_type": "code",
   "execution_count": 2,
   "metadata": {},
   "outputs": [
    {
     "name": "stderr",
     "output_type": "stream",
     "text": [
      "Loading required package: rpart.plot\n",
      "\n",
      "Warning message in library(package, lib.loc = lib.loc, character.only = TRUE, logical.return = TRUE, :\n",
      "\"there is no package called 'rpart.plot'\"\n",
      "Loading required package: TeachingSampling\n",
      "\n",
      "Warning message in library(package, lib.loc = lib.loc, character.only = TRUE, logical.return = TRUE, :\n",
      "\"there is no package called 'TeachingSampling'\"\n"
     ]
    }
   ],
   "source": [
    "require(rpart)\n",
    "require(rpart.plot)\n",
    "require(DMwR)\n",
    "require(\"TeachingSampling\")\n",
    "require(ggplot2)\n",
    "require(nortest)\n",
    "require(e1071)\n",
    "require(mice)"
   ]
  },
  {
   "cell_type": "code",
   "execution_count": null,
   "metadata": {},
   "outputs": [],
   "source": [
    "data(algae)"
   ]
  },
  {
   "cell_type": "code",
   "execution_count": null,
   "metadata": {},
   "outputs": [],
   "source": [
    "#Observações com muitas variáveis faltantes, como são apenas 2 observações retirei dos dados.\n",
    "algae[c(62,199),] \n",
    "dados=algae[-c(62,199),]"
   ]
  },
  {
   "cell_type": "code",
   "execution_count": null,
   "metadata": {},
   "outputs": [],
   "source": [
    "head(dados)"
   ]
  },
  {
   "cell_type": "code",
   "execution_count": null,
   "metadata": {},
   "outputs": [],
   "source": [
    "#Proporção de dados faltantes\n",
    "nrow(dados[!complete.cases(dados),])/nrow(dados)"
   ]
  },
  {
   "cell_type": "markdown",
   "metadata": {},
   "source": [
    "# Função que põem os nomes das linhas certas"
   ]
  },
  {
   "cell_type": "code",
   "execution_count": null,
   "metadata": {},
   "outputs": [],
   "source": [
    "AjeitaDados=function(y){\n",
    "y=algae[-c(62,199),]\n",
    "x=apply(y,1,function(x) sum(is.na(x)));x\n",
    "x=data.frame(x)\n",
    "acocha=as.numeric(rownames(x));acocha\n",
    "length(acocha)\n",
    "acocha[62:197]=acocha[62:197]-1\n",
    "acocha[198]=acocha[198]-2\n",
    "acocha\n",
    "rownames(x)=as.character(acocha);rownames(x)\n",
    "x=cbind(rownames(x),x);x\n",
    "rownames(y)=as.character(x[,1])\n",
    "return(y)\n",
    "}"
   ]
  },
  {
   "cell_type": "code",
   "execution_count": null,
   "metadata": {},
   "outputs": [],
   "source": [
    "dados=AjeitaDados(dados)"
   ]
  },
  {
   "cell_type": "code",
   "execution_count": null,
   "metadata": {},
   "outputs": [],
   "source": [
    "##Valores faltantes nas linhas\n",
    "x=apply(dados,1,function(x) sum(is.na(x)))\n",
    "x[x!=0]"
   ]
  },
  {
   "cell_type": "code",
   "execution_count": null,
   "metadata": {},
   "outputs": [],
   "source": [
    "##Valores faltantes nas colunas\n",
    "apply(dados,2,function(x) sum(is.na(x)))"
   ]
  },
  {
   "cell_type": "markdown",
   "metadata": {},
   "source": [
    "# Pré-Processamento de Dados e Avaliação de modelos por Àrvore de Regressão com alguns métodos de estimação de dados faltantes."
   ]
  },
  {
   "cell_type": "code",
   "execution_count": null,
   "metadata": {},
   "outputs": [],
   "source": [
    "#Estimando os valores faltantes pelo método do pacote rpart\n",
    "metricas=c()\n",
    "set.seed(7)\n",
    "for(i in 1:10){\n",
    "amostra=S.SI(nrow(dados),floor(nrow(dados)*0.7))\n",
    "treino=dados[amostra,]\n",
    "teste=dados[-amostra,]\n",
    "modelo1=rpart(a1 ~ ., data = treino[, 1:12])\n",
    "rpart.plot(modelo1, type=0, varlen=10)\n",
    "##Avaliação da performance do modelo\n",
    "metricas=append(metricas,mean((teste$a1-predict(modelo1,teste[,1:11]))^2))\n",
    "}"
   ]
  },
  {
   "cell_type": "code",
   "execution_count": null,
   "metadata": {},
   "outputs": [],
   "source": [
    "metricas\n",
    "m1=cbind(mean(metricas),sd(metricas))"
   ]
  },
  {
   "cell_type": "code",
   "execution_count": null,
   "metadata": {},
   "outputs": [],
   "source": [
    "##Estimação dos valores faltantes tirando as linhas com valores faltantes\n",
    "dados=AjeitaDados(dados)\n",
    "dados2=dados[complete.cases(dados),]\n",
    "metricas=c()\n",
    "set.seed(7)\n",
    "for(i in 1:10){\n",
    "amostra1=S.SI(nrow(dados2),floor(nrow(dados2)*0.7))\n",
    "treino=dados2[amostra1,]\n",
    "teste=dados2[-amostra1,]\n",
    "modelo2 <- rpart(a1 ~ ., data = treino[, 1:12])\n",
    "rpart.plot(modelo2, type=0, varlen=10)\n",
    "##Avaliação do modelo\n",
    "metricas=append(metricas,mean((teste$a1-predict(modelo2,teste[1:11]))^2))\n",
    "}"
   ]
  },
  {
   "cell_type": "code",
   "execution_count": null,
   "metadata": {},
   "outputs": [],
   "source": [
    "metricas\n",
    "m2=cbind(mean(metricas),sd(metricas))\n",
    "m=rbind(m1,m2)"
   ]
  },
  {
   "cell_type": "markdown",
   "metadata": {},
   "source": [
    "# Estimação dos valores faltantes pela média, mediana."
   ]
  },
  {
   "cell_type": "code",
   "execution_count": null,
   "metadata": {},
   "outputs": [],
   "source": [
    "dados=AjeitaDados(dados)\n",
    "##Variáveis que tem valores faltantes\n",
    "apply(dados,2,function(x) sum(is.na(x)))"
   ]
  },
  {
   "cell_type": "markdown",
   "metadata": {},
   "source": [
    "# Variável mxPH"
   ]
  },
  {
   "cell_type": "code",
   "execution_count": null,
   "metadata": {},
   "outputs": [],
   "source": [
    "(ggplot(dados)+aes(mxPH)+geom_histogram(aes(y=..density..),color=\"black\",fill=\"blue\")\n",
    "+geom_rug()+geom_density())"
   ]
  },
  {
   "cell_type": "code",
   "execution_count": null,
   "metadata": {},
   "outputs": [],
   "source": [
    "skewness(dados$mxPH,na.rm=T)\n",
    "kurtosis(dados$mxPH,na.rm=T)"
   ]
  },
  {
   "cell_type": "code",
   "execution_count": null,
   "metadata": {},
   "outputs": [],
   "source": [
    "(ggplot(dados)+aes(1,mxPH)+geom_boxplot(fill=\"blue\",color=\"black\")\n",
    "  +geom_rug()+geom_hline(aes(yintercept=mean(dados$mxPH,na.rm=T),color=\"red\")))"
   ]
  },
  {
   "cell_type": "code",
   "execution_count": null,
   "metadata": {},
   "outputs": [],
   "source": [
    "##Proporção dos outliers\n",
    "6/198"
   ]
  },
  {
   "cell_type": "code",
   "execution_count": null,
   "metadata": {},
   "outputs": [],
   "source": [
    "qqnorm(dados$mxPH)\n",
    "qqline(dados$mxPH,col=\"red\")"
   ]
  },
  {
   "cell_type": "code",
   "execution_count": null,
   "metadata": {},
   "outputs": [],
   "source": [
    "shapiro.test(dados$mxPH)\n",
    "lillie.test(dados$mxPH)"
   ]
  },
  {
   "cell_type": "markdown",
   "metadata": {},
   "source": [
    "# Conclusão: a variável mxPH pode ser considerada com distribuição normal com evidências do histograma e sua densidade estimada, assimetria e curtose, box-plot e a proporção de outlier chega perto de 5%, e um dos dois testes de hipóteses realizados não-rejeitam normalidade a nível de 1%, com isso o valor a ser imputado será a média."
   ]
  },
  {
   "cell_type": "code",
   "execution_count": null,
   "metadata": {},
   "outputs": [],
   "source": [
    "x=which(is.na(dados$mxPH))\n",
    "dados$mxPH[x]=mean(dados$mxPH,na.rm=T)"
   ]
  },
  {
   "cell_type": "code",
   "execution_count": null,
   "metadata": {},
   "outputs": [],
   "source": [
    "apply(dados,2,function(x) sum(is.na(x)))"
   ]
  },
  {
   "cell_type": "markdown",
   "metadata": {},
   "source": [
    "# Variável mnO2"
   ]
  },
  {
   "cell_type": "code",
   "execution_count": null,
   "metadata": {},
   "outputs": [],
   "source": [
    "(ggplot(dados)+aes(mnO2)+geom_histogram(aes(y=..density..),color=\"black\",fill=\"blue\")\n",
    "  +geom_rug()+geom_density())"
   ]
  },
  {
   "cell_type": "code",
   "execution_count": null,
   "metadata": {},
   "outputs": [],
   "source": [
    "skewness(dados$mnO2,na.rm=T)\n",
    "kurtosis(dados$mnO2,na.rm=T)"
   ]
  },
  {
   "cell_type": "code",
   "execution_count": null,
   "metadata": {},
   "outputs": [],
   "source": [
    "(ggplot(dados)+aes(1,mnO2)+geom_boxplot(fill=\"blue\",color=\"black\")\n",
    "  +geom_rug()+geom_hline(aes(yintercept=mean(dados$mnO2,na.rm=T),color=\"red\")))"
   ]
  },
  {
   "cell_type": "code",
   "execution_count": null,
   "metadata": {},
   "outputs": [],
   "source": [
    "qqnorm(dados$mnO2)\n",
    "qqline(dados$mnO2,col=\"red\")"
   ]
  },
  {
   "cell_type": "code",
   "execution_count": null,
   "metadata": {},
   "outputs": [],
   "source": [
    "shapiro.test(dados$mnO2)\n",
    "lillie.test(dados$mnO2)"
   ]
  },
  {
   "cell_type": "markdown",
   "metadata": {},
   "source": [
    "# Conclusão: a variável mnO2 não pode ser considerada com distribuição normal pelas evidências do histograma e sua densidade estimada, assimetria e curtose, box-plot e os dois testes de hipóteses realizados rejeitaram normalidade, com isso o valor a ser imputado será a mediana."
   ]
  },
  {
   "cell_type": "code",
   "execution_count": null,
   "metadata": {},
   "outputs": [],
   "source": [
    "x=which(is.na(dados$mnO2))\n",
    "dados$mnO2[x]=median(dados$mnO2,na.rm=T)"
   ]
  },
  {
   "cell_type": "code",
   "execution_count": null,
   "metadata": {},
   "outputs": [],
   "source": [
    "apply(dados,2,function(x) sum(is.na(x)))"
   ]
  },
  {
   "cell_type": "markdown",
   "metadata": {},
   "source": [
    "# Variável Cl"
   ]
  },
  {
   "cell_type": "code",
   "execution_count": null,
   "metadata": {},
   "outputs": [],
   "source": [
    "(ggplot(dados)+aes(Cl)+geom_histogram(aes(y=..density..),color=\"black\",fill=\"blue\")\n",
    "  +geom_rug()+geom_density())"
   ]
  },
  {
   "cell_type": "code",
   "execution_count": null,
   "metadata": {},
   "outputs": [],
   "source": [
    "skewness(dados$Cl,na.rm=T)\n",
    "kurtosis(dados$Cl,na.rm=T)"
   ]
  },
  {
   "cell_type": "code",
   "execution_count": null,
   "metadata": {},
   "outputs": [],
   "source": [
    "(ggplot(dados)+aes(1,Cl)+geom_boxplot(fill=\"blue\",color=\"black\")\n",
    "  +geom_rug()+geom_hline(aes(yintercept=mean(dados$Cl,na.rm=T),color=\"red\")))"
   ]
  },
  {
   "cell_type": "code",
   "execution_count": null,
   "metadata": {},
   "outputs": [],
   "source": [
    "qqnorm(dados$Cl)\n",
    "qqline(dados$Cl,col=\"red\")"
   ]
  },
  {
   "cell_type": "code",
   "execution_count": null,
   "metadata": {},
   "outputs": [],
   "source": [
    "shapiro.test(dados$Cl)\n",
    "lillie.test(dados$Cl)"
   ]
  },
  {
   "cell_type": "markdown",
   "metadata": {},
   "source": [
    "# Conclusão: a variável Cl não pode ser considerada com distribuição normal pelas evidências do histograma e sua densidade estimada, assimetria e calda bem mais pesado que a normal, box-plot e os dois testes de hipóteses realizados rejeitaram normalidade, com isso o valor a ser imputado será a mediana por ser mais robusta nessa situação."
   ]
  },
  {
   "cell_type": "code",
   "execution_count": null,
   "metadata": {},
   "outputs": [],
   "source": [
    "x=which(is.na(dados$Cl));x\n",
    "dados$Cl[x]=median(dados$Cl,na.rm=T)"
   ]
  },
  {
   "cell_type": "code",
   "execution_count": null,
   "metadata": {},
   "outputs": [],
   "source": [
    "apply(dados,2,function(x) sum(is.na(x)))"
   ]
  },
  {
   "cell_type": "markdown",
   "metadata": {},
   "source": [
    "# Variável PO4"
   ]
  },
  {
   "cell_type": "code",
   "execution_count": null,
   "metadata": {},
   "outputs": [],
   "source": [
    "(ggplot(dados)+aes(PO4)+geom_histogram(aes(y=..density..),color=\"black\",fill=\"blue\")\n",
    "  +geom_rug()+geom_density())"
   ]
  },
  {
   "cell_type": "code",
   "execution_count": null,
   "metadata": {},
   "outputs": [],
   "source": [
    "skewness(dados$PO4,na.rm=T)\n",
    "kurtosis(dados$PO4,na.rm=T)"
   ]
  },
  {
   "cell_type": "code",
   "execution_count": null,
   "metadata": {},
   "outputs": [],
   "source": [
    "(ggplot(dados)+aes(1,PO4)+geom_boxplot(fill=\"blue\",color=\"black\")\n",
    "  +geom_rug()+geom_hline(aes(yintercept=mean(dados$PO4,na.rm=T),color=\"red\")))"
   ]
  },
  {
   "cell_type": "code",
   "execution_count": null,
   "metadata": {},
   "outputs": [],
   "source": [
    "qqnorm(dados$PO4)\n",
    "qqline(dados$PO4,col=\"red\")"
   ]
  },
  {
   "cell_type": "code",
   "execution_count": null,
   "metadata": {},
   "outputs": [],
   "source": [
    "shapiro.test(dados$PO4)\n",
    "lillie.test(dados$PO4)"
   ]
  },
  {
   "cell_type": "code",
   "execution_count": null,
   "metadata": {},
   "outputs": [],
   "source": [
    "x=which(is.na(dados$PO4))\n",
    "dados$PO4[x]=median(dados$PO4,na.rm=T)"
   ]
  },
  {
   "cell_type": "code",
   "execution_count": null,
   "metadata": {},
   "outputs": [],
   "source": [
    "apply(dados,2,function(x) sum(is.na(x)))"
   ]
  },
  {
   "cell_type": "markdown",
   "metadata": {},
   "source": [
    "# Conclusão: a variável PO4 não pode ser considerada com distribuição normal pelas evidências do histograma e sua densidade estimada, assimetria e calda bem mais pesado que a normal, box-plot e os dois testes de hipóteses realizados rejeitaram normalidade, com isso o valor a ser imputado será a mediana por ser mais robusta nessa situação.¶"
   ]
  },
  {
   "cell_type": "markdown",
   "metadata": {},
   "source": [
    "# Variável Chla"
   ]
  },
  {
   "cell_type": "code",
   "execution_count": null,
   "metadata": {},
   "outputs": [],
   "source": [
    "(ggplot(dados)+aes(Chla)+geom_histogram(aes(y=..density..),color=\"black\",fill=\"blue\")\n",
    "  +geom_rug()+geom_density())"
   ]
  },
  {
   "cell_type": "code",
   "execution_count": null,
   "metadata": {},
   "outputs": [],
   "source": [
    "skewness(dados$Chla,na.rm=T)\n",
    "kurtosis(dados$Chla,na.rm=T)"
   ]
  },
  {
   "cell_type": "code",
   "execution_count": null,
   "metadata": {},
   "outputs": [],
   "source": [
    "(ggplot(dados)+aes(1,Chla)+geom_boxplot(fill=\"blue\",color=\"black\")\n",
    "  +geom_rug()+geom_hline(aes(yintercept=mean(dados$Chla,na.rm=T),color=\"red\")))"
   ]
  },
  {
   "cell_type": "code",
   "execution_count": null,
   "metadata": {},
   "outputs": [],
   "source": [
    "qqnorm(dados$Chla)\n",
    "qqline(dados$Chla,col=\"red\")"
   ]
  },
  {
   "cell_type": "code",
   "execution_count": null,
   "metadata": {},
   "outputs": [],
   "source": [
    "shapiro.test(dados$Chla)\n",
    "lillie.test(dados$Chla)"
   ]
  },
  {
   "cell_type": "markdown",
   "metadata": {},
   "source": [
    "# Conclusão: a variável Chla não pode ser considerada com distribuição normal pelas evidências do histograma e sua densidade estimada, assimetria e calda bem mais pesado que a normal, box-plot e os dois testes de hipóteses realizados rejeitaram normalidade, com isso o valor a ser imputado será a mediana por ser mais robusta nessa situação."
   ]
  },
  {
   "cell_type": "code",
   "execution_count": null,
   "metadata": {},
   "outputs": [],
   "source": [
    "x=which(is.na(dados$Chla));x\n",
    "dados$Chla[x]=median(dados$Chla,na.rm=T)"
   ]
  },
  {
   "cell_type": "code",
   "execution_count": null,
   "metadata": {},
   "outputs": [],
   "source": [
    "apply(dados,2,function(x) sum(is.na(x)))"
   ]
  },
  {
   "cell_type": "code",
   "execution_count": null,
   "metadata": {},
   "outputs": [],
   "source": [
    "metricas=c()\n",
    "set.seed(7)\n",
    "for(i in 1:10){\n",
    "amostra=S.SI(nrow(dados),floor(nrow(dados)*0.7))\n",
    "treino=dados[amostra,]\n",
    "teste=dados[-amostra,]\n",
    "modelo3=rpart(a1 ~ ., data = treino[, 1:12])\n",
    "rpart.plot(modelo3, type=0, varlen=10)\n",
    "##Avaliação da performance do modelo\n",
    "metricas=append(metricas,mean((teste$a1-predict(modelo3,teste[,1:11]))^2))\n",
    "}"
   ]
  },
  {
   "cell_type": "code",
   "execution_count": null,
   "metadata": {},
   "outputs": [],
   "source": [
    "metricas\n",
    "m3=cbind(mean(metricas),sd(metricas))\n",
    "m=rbind(m,m3)"
   ]
  },
  {
   "cell_type": "markdown",
   "metadata": {},
   "source": [
    "# Estimando pela correlação entre as variáveis"
   ]
  },
  {
   "cell_type": "code",
   "execution_count": null,
   "metadata": {},
   "outputs": [],
   "source": [
    "dados=AjeitaDados(dados)\n",
    "apply(dados,2,function(x) sum(is.na(x)))"
   ]
  },
  {
   "cell_type": "markdown",
   "metadata": {},
   "source": [
    "# Matriz de correlações"
   ]
  },
  {
   "cell_type": "code",
   "execution_count": null,
   "metadata": {},
   "outputs": [],
   "source": [
    "symnum(cor(dados[,4:18],use=\"complete.obs\"))"
   ]
  },
  {
   "cell_type": "markdown",
   "metadata": {},
   "source": [
    "# Variável PO4"
   ]
  },
  {
   "cell_type": "code",
   "execution_count": null,
   "metadata": {},
   "outputs": [],
   "source": [
    "#0.91196460\n",
    "ggplot(dados)+aes(oPO4,PO4)+geom_point()+geom_smooth(method=\"lm\",se=F)"
   ]
  },
  {
   "cell_type": "code",
   "execution_count": null,
   "metadata": {},
   "outputs": [],
   "source": [
    "x=lm(dados$PO4 ~ dados$oPO4, data=dados)\n",
    "summary(x)"
   ]
  },
  {
   "cell_type": "code",
   "execution_count": null,
   "metadata": {},
   "outputs": [],
   "source": [
    "a=which(is.na(dados$PO4))\n",
    "dados$PO4[a]=x$coefficients%*%t(t(c(1,dados$oPO4[a])))"
   ]
  },
  {
   "cell_type": "code",
   "execution_count": null,
   "metadata": {},
   "outputs": [],
   "source": [
    "apply(dados,2,function(x) sum(is.na(x)))"
   ]
  },
  {
   "cell_type": "markdown",
   "metadata": {},
   "source": [
    "# Variável Chla"
   ]
  },
  {
   "cell_type": "code",
   "execution_count": null,
   "metadata": {},
   "outputs": [],
   "source": [
    "#0.443046449\n",
    "ggplot(dados)+aes(mxPH,Chla)+geom_point()+geom_smooth(method=\"lm\",se=F)"
   ]
  },
  {
   "cell_type": "code",
   "execution_count": null,
   "metadata": {},
   "outputs": [],
   "source": [
    "x=lm(dados$Chla ~ dados$mxPH, data=dados)\n",
    "summary(x)"
   ]
  },
  {
   "cell_type": "code",
   "execution_count": null,
   "metadata": {},
   "outputs": [],
   "source": [
    "a=which(is.na(dados$Chla));a\n",
    "dados$Chla[a]=cbind(rep(1,length(a)),dados$mxPH[a])%*%t(t(x$coefficients))"
   ]
  },
  {
   "cell_type": "code",
   "execution_count": null,
   "metadata": {},
   "outputs": [],
   "source": [
    "apply(dados,2,function(x) sum(is.na(x)))"
   ]
  },
  {
   "cell_type": "markdown",
   "metadata": {},
   "source": [
    "# Variável mxPH"
   ]
  },
  {
   "cell_type": "code",
   "execution_count": null,
   "metadata": {},
   "outputs": [],
   "source": [
    "#0.443046449\n",
    "ggplot(dados)+aes(Chla,mxPH)+geom_point()+geom_smooth(method=\"lm\",se=F)"
   ]
  },
  {
   "cell_type": "code",
   "execution_count": null,
   "metadata": {},
   "outputs": [],
   "source": [
    "x=lm(dados$mxPH ~ dados$Chla, data=dados)\n",
    "summary(x)"
   ]
  },
  {
   "cell_type": "code",
   "execution_count": null,
   "metadata": {},
   "outputs": [],
   "source": [
    "a=which(is.na(dados$mxPH))\n",
    "dados$mxPH[a]=cbind(rep(1,length(a)),dados$Chla[a])%*%t(t(x$coefficients))"
   ]
  },
  {
   "cell_type": "code",
   "execution_count": null,
   "metadata": {},
   "outputs": [],
   "source": [
    "apply(dados,2,function(x) sum(is.na(x)))"
   ]
  },
  {
   "cell_type": "markdown",
   "metadata": {},
   "source": [
    "# Variável Cl"
   ]
  },
  {
   "cell_type": "code",
   "execution_count": null,
   "metadata": {},
   "outputs": [],
   "source": [
    "#0.4590139\n",
    "ggplot(dados)+aes(PO4,Cl)+geom_point()+geom_smooth(method=\"lm\",se=F)"
   ]
  },
  {
   "cell_type": "code",
   "execution_count": null,
   "metadata": {},
   "outputs": [],
   "source": [
    "x=lm(dados$Cl ~ dados$PO4, data=dados)\n",
    "summary(x)"
   ]
  },
  {
   "cell_type": "code",
   "execution_count": null,
   "metadata": {},
   "outputs": [],
   "source": [
    "a=which(is.na(dados$Cl))\n",
    "dados$Cl[a]=cbind(rep(1,length(a)),dados$PO4[a])%*%t(t(x$coefficients))"
   ]
  },
  {
   "cell_type": "code",
   "execution_count": null,
   "metadata": {},
   "outputs": [],
   "source": [
    "apply(dados,2,function(x) sum(is.na(x)))"
   ]
  },
  {
   "cell_type": "markdown",
   "metadata": {},
   "source": [
    "# Variável mnO2"
   ]
  },
  {
   "cell_type": "code",
   "execution_count": null,
   "metadata": {},
   "outputs": [],
   "source": [
    "#-0.4889931\n",
    "ggplot(dados)+aes(PO4,mnO2)+geom_point()+geom_smooth(method=\"lm\",se=F)"
   ]
  },
  {
   "cell_type": "code",
   "execution_count": null,
   "metadata": {},
   "outputs": [],
   "source": [
    "x=lm(dados$mnO2 ~ dados$PO4, data=dados)\n",
    "summary(x)"
   ]
  },
  {
   "cell_type": "code",
   "execution_count": null,
   "metadata": {},
   "outputs": [],
   "source": [
    "a=which(is.na(dados$mnO2))\n",
    "dados$mnO2[a]=cbind(rep(1,length(a)),dados$PO4[a])%*%t(t(x$coefficients))"
   ]
  },
  {
   "cell_type": "code",
   "execution_count": null,
   "metadata": {},
   "outputs": [],
   "source": [
    "apply(dados,2,function(x) sum(is.na(x)))"
   ]
  },
  {
   "cell_type": "code",
   "execution_count": null,
   "metadata": {},
   "outputs": [],
   "source": [
    "metricas=c()\n",
    "set.seed(7)\n",
    "for(i in 1:10){\n",
    "amostra=S.SI(nrow(dados),floor(nrow(dados)*0.7))\n",
    "treino=dados[amostra,]\n",
    "teste=dados[-amostra,]\n",
    "modelo4=rpart(a1 ~ ., data = treino[, 1:12])\n",
    "rpart.plot(modelo4, type=0, varlen=10)\n",
    "##Avaliação da performance do modelo\n",
    "metricas=append(metricas,mean((teste$a1-predict(modelo4,teste[,1:11]))^2))\n",
    "}"
   ]
  },
  {
   "cell_type": "code",
   "execution_count": null,
   "metadata": {},
   "outputs": [],
   "source": [
    "metricas"
   ]
  },
  {
   "cell_type": "code",
   "execution_count": null,
   "metadata": {},
   "outputs": [],
   "source": [
    "m4=cbind(mean(metricas),sd(metricas))\n",
    "m=rbind(m,m4)"
   ]
  },
  {
   "cell_type": "markdown",
   "metadata": {},
   "source": [
    "# Imputação KNN"
   ]
  },
  {
   "cell_type": "code",
   "execution_count": null,
   "metadata": {},
   "outputs": [],
   "source": [
    "dados=AjeitaDados(dados)\n",
    "apply(dados,2,function(x) sum(is.na(x)))"
   ]
  },
  {
   "cell_type": "markdown",
   "metadata": {},
   "source": [
    "# 1 Vizinho mais próximo"
   ]
  },
  {
   "cell_type": "code",
   "execution_count": null,
   "metadata": {},
   "outputs": [],
   "source": [
    "dados=knnImputation(dados,1,scale=T,meth=\"median\")\n",
    "apply(dados,2,function(x) sum(is.na(x)))"
   ]
  },
  {
   "cell_type": "code",
   "execution_count": null,
   "metadata": {},
   "outputs": [],
   "source": [
    "metricas=c()\n",
    "set.seed(7)\n",
    "for(i in 1:10){\n",
    "amostra=S.SI(nrow(dados),floor(nrow(dados)*0.7))\n",
    "treino=dados[amostra,]\n",
    "teste=dados[-amostra,]\n",
    "modelo5=rpart(a1 ~ ., data = treino[, 1:12])\n",
    "rpart.plot(modelo5, type=0, varlen=10)\n",
    "##Avaliação do modelo\n",
    "metricas=append(metricas,mean((teste$a1-predict(modelo5,teste[,1:11]))^2))\n",
    "}"
   ]
  },
  {
   "cell_type": "code",
   "execution_count": null,
   "metadata": {},
   "outputs": [],
   "source": [
    "metricas"
   ]
  },
  {
   "cell_type": "code",
   "execution_count": null,
   "metadata": {},
   "outputs": [],
   "source": [
    "m5=cbind(mean(metricas),sd(metricas))\n",
    "m=rbind(m,m5)"
   ]
  },
  {
   "cell_type": "markdown",
   "metadata": {},
   "source": [
    "# K Vizinhos mais próximos"
   ]
  },
  {
   "cell_type": "code",
   "execution_count": null,
   "metadata": {},
   "outputs": [],
   "source": [
    "#Método pela função kernel\n",
    "set.seed(7)\n",
    "for (i in 2:10){\n",
    "  metricas=c()\n",
    "  dados=AjeitaDados(dados)\n",
    "  dados=knnImputation(dados,i,scale=T,meth=\"weighAvg\")\n",
    "  for(j in 1:10){\n",
    "    amostra=S.SI(nrow(dados),floor(nrow(dados)*0.7))\n",
    "    treino=dados[amostra,]\n",
    "    teste=dados[-amostra,]\n",
    "    modelo=rpart(a1 ~ ., data = treino[, 1:12])\n",
    "    ##Avaliação do modelo\n",
    "    metricas=append(metricas,mean((teste$a1-predict(modelo,teste[,1:11]))^2))\n",
    "    m6=cbind(mean(metricas),sd(metricas))           \n",
    "                }\n",
    "    m=rbind(m,m6)\n",
    "}"
   ]
  },
  {
   "cell_type": "code",
   "execution_count": null,
   "metadata": {},
   "outputs": [],
   "source": [
    "#Método pela mediana\n",
    "set.seed(7)\n",
    "for (i in 2:10){\n",
    "  metricas=c()\n",
    "  dados=AjeitaDados(dados)\n",
    "  dados=knnImputation(dados,i,scale=T,meth=\"median\")\n",
    "  for(j in 1:10){\n",
    "    amostra=S.SI(nrow(dados),floor(nrow(dados)*0.7))\n",
    "    treino=dados[amostra,]\n",
    "    teste=dados[-amostra,]\n",
    "    modelo=rpart(a1 ~ ., data = treino[, 1:12])\n",
    "    ##Avaliação do modelo\n",
    "    metricas=append(metricas,mean((teste$a1-predict(modelo,teste[,1:11]))^2))\n",
    "    m6=cbind(mean(metricas),sd(metricas))           \n",
    "  }\n",
    "  m=rbind(m,m6)\n",
    "}"
   ]
  },
  {
   "cell_type": "markdown",
   "metadata": {},
   "source": [
    "# IMPUTAÇÃO MULTIPLA"
   ]
  },
  {
   "cell_type": "code",
   "execution_count": null,
   "metadata": {},
   "outputs": [],
   "source": [
    "dados=AjeitaDados(dados)\n",
    "nrow(dados)"
   ]
  },
  {
   "cell_type": "code",
   "execution_count": null,
   "metadata": {},
   "outputs": [],
   "source": [
    "md.pattern(dados)"
   ]
  },
  {
   "cell_type": "code",
   "execution_count": null,
   "metadata": {},
   "outputs": [],
   "source": [
    "apply(dados,2,function(x) sum(is.na(x)))"
   ]
  },
  {
   "cell_type": "code",
   "execution_count": null,
   "metadata": {},
   "outputs": [],
   "source": [
    "imputacao=mice(dados,m=5,method=\"pmm\",maxit=50)\n",
    "summary(imputacao)"
   ]
  },
  {
   "cell_type": "code",
   "execution_count": null,
   "metadata": {},
   "outputs": [],
   "source": [
    "##Valores imputados por banco de dados\n",
    "imputacao$imp[c(4,5,6,10,11)]"
   ]
  },
  {
   "cell_type": "code",
   "execution_count": null,
   "metadata": {},
   "outputs": [],
   "source": [
    "# Banco de dados específico\n",
    "head(complete(imputacao,4))"
   ]
  },
  {
   "cell_type": "code",
   "execution_count": null,
   "metadata": {},
   "outputs": [],
   "source": [
    "metricas2=c()\n",
    "set.seed(7)\n",
    "for(j in 1:10){\n",
    "amostra=S.SI(nrow(dados),floor(nrow(dados)*0.7))\n",
    "treino=dados[amostra,]\n",
    "teste=dados[-amostra,]\n",
    "metricas=c()\n",
    "for (i in 1:5){\n",
    "  dados=complete(imputacao,i)\n",
    "  modelo=rpart(a1 ~ ., data = treino[, 1:12])\n",
    "  ##Avaliação do modelo\n",
    "  t=mean((teste$a1-predict(modelo,teste[,1:11]))^2)\n",
    "  metricas=append(metricas,t)\n",
    "              }\n",
    "metricas2=append(metricas2,mean(metricas))\n",
    "            }\n",
    "metricas2\n",
    "m7=cbind(mean(metricas2),sd(metricas2))\n",
    "m=rbind(m,m7)\n"
   ]
  },
  {
   "cell_type": "code",
   "execution_count": null,
   "metadata": {},
   "outputs": [],
   "source": [
    "(rownames(m)=c(\"rpart\",\"Tirando linhas\",\"Medidas de Tendência\",\"Regressão Linear\",\n",
    "               \"1 vizinho\",\"2 vizinhos/Kernel\",\"3 vizinhos/Kernel\",\"4 vizinhos/Kernel\",\"5 vizinhos/Kernel\",\n",
    "               \"6 vizinhos/Kernel\",\"7 vizinhos/Kernel\",\"8 vizinhos/Kernel\",\"9 vizinhos/Kernel\"\n",
    "               ,\"10 vizinhos/Kernel\",\"2 vizinhos/Mediana\",\"3 vizinhos/Mediana\",\"4 vizinhos/Mediana\"\n",
    "               ,\"5 vizinhos/Mediana\",\"6 vizinhos/Mediana\",\"7 vizinhos/Mediana\",\"8 vizinhos/Mediana\"\n",
    "               ,\"9 vizinhos/Mediana\",\"10 vizinhos/Mediana\",\"I.M\")) \n",
    "colnames(m)=c(\"Média da Performance\",\"Desvio-Padrão da Performance\")\n"
   ]
  },
  {
   "cell_type": "code",
   "execution_count": null,
   "metadata": {},
   "outputs": [],
   "source": [
    "m[sort(m[,1],index.return=T)$ix,]"
   ]
  }
 ],
 "metadata": {
  "kernelspec": {
   "display_name": "R",
   "language": "R",
   "name": "ir"
  },
  "language_info": {
   "codemirror_mode": "r",
   "file_extension": ".r",
   "mimetype": "text/x-r-source",
   "name": "R",
   "pygments_lexer": "r",
   "version": "3.6.1"
  }
 },
 "nbformat": 4,
 "nbformat_minor": 2
}
