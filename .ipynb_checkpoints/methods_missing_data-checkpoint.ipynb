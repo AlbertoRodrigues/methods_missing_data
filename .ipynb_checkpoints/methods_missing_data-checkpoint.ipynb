{
 "cells": [
  {
   "cell_type": "markdown",
   "metadata": {},
   "source": [
    "# Serão realizados vários procedimentos de estimação de dados faltantes levando em conta a natureza do dado faltante e em seguida será realizado uma previsão de um tipo de alga marinha pelo algoritmo de Árvore de Regressão."
   ]
  },
  {
   "cell_type": "code",
   "execution_count": 1,
   "metadata": {},
   "outputs": [
    {
     "name": "stderr",
     "output_type": "stream",
     "text": [
      "Loading required package: rpart\n",
      "\n",
      "Loading required package: rpart.plot\n",
      "\n",
      "Warning message in library(package, lib.loc = lib.loc, character.only = TRUE, logical.return = TRUE, :\n",
      "\"there is no package called 'rpart.plot'\"\n",
      "Loading required package: DMwR2\n",
      "\n",
      "Warning message:\n",
      "\"package 'DMwR2' was built under R version 3.6.3\"\n",
      "Registered S3 method overwritten by 'xts':\n",
      "  method     from\n",
      "  as.zoo.xts zoo \n",
      "\n",
      "Registered S3 method overwritten by 'quantmod':\n",
      "  method            from\n",
      "  as.zoo.data.frame zoo \n",
      "\n",
      "Loading required package: TeachingSampling\n",
      "\n",
      "Warning message in library(package, lib.loc = lib.loc, character.only = TRUE, logical.return = TRUE, :\n",
      "\"there is no package called 'TeachingSampling'\"\n",
      "Loading required package: ggplot2\n",
      "\n",
      "Warning message:\n",
      "\"package 'ggplot2' was built under R version 3.6.3\"\n",
      "Loading required package: nortest\n",
      "\n",
      "Loading required package: e1071\n",
      "\n",
      "Loading required package: mice\n",
      "\n",
      "Loading required package: lattice\n",
      "\n",
      "\n",
      "Attaching package: 'mice'\n",
      "\n",
      "\n",
      "The following objects are masked from 'package:base':\n",
      "\n",
      "    cbind, rbind\n",
      "\n",
      "\n"
     ]
    }
   ],
   "source": [
    "require(rpart)\n",
    "require(rpart.plot)\n",
    "require(DMwR2)\n",
    "require(\"TeachingSampling\")\n",
    "require(ggplot2)\n",
    "require(nortest)\n",
    "require(e1071)\n",
    "require(mice)"
   ]
  },
  {
   "cell_type": "code",
   "execution_count": 2,
   "metadata": {},
   "outputs": [],
   "source": [
    "data(algae, package=\"DMwR2\")"
   ]
  },
  {
   "cell_type": "code",
   "execution_count": 10,
   "metadata": {},
   "outputs": [
    {
     "data": {
      "text/html": [
       "<table class=\"dataframe\">\n",
       "<caption>A tibble: 2 × 18</caption>\n",
       "<thead>\n",
       "\t<tr><th scope=col>season</th><th scope=col>size</th><th scope=col>speed</th><th scope=col>mxPH</th><th scope=col>mnO2</th><th scope=col>Cl</th><th scope=col>NO3</th><th scope=col>NH4</th><th scope=col>oPO4</th><th scope=col>PO4</th><th scope=col>Chla</th><th scope=col>a1</th><th scope=col>a2</th><th scope=col>a3</th><th scope=col>a4</th><th scope=col>a5</th><th scope=col>a6</th><th scope=col>a7</th></tr>\n",
       "\t<tr><th scope=col>&lt;fct&gt;</th><th scope=col>&lt;fct&gt;</th><th scope=col>&lt;fct&gt;</th><th scope=col>&lt;dbl&gt;</th><th scope=col>&lt;dbl&gt;</th><th scope=col>&lt;dbl&gt;</th><th scope=col>&lt;dbl&gt;</th><th scope=col>&lt;dbl&gt;</th><th scope=col>&lt;dbl&gt;</th><th scope=col>&lt;dbl&gt;</th><th scope=col>&lt;dbl&gt;</th><th scope=col>&lt;dbl&gt;</th><th scope=col>&lt;dbl&gt;</th><th scope=col>&lt;dbl&gt;</th><th scope=col>&lt;dbl&gt;</th><th scope=col>&lt;dbl&gt;</th><th scope=col>&lt;dbl&gt;</th><th scope=col>&lt;dbl&gt;</th></tr>\n",
       "</thead>\n",
       "<tbody>\n",
       "\t<tr><td>summer</td><td>small</td><td>medium</td><td>6.4</td><td> NA</td><td>NA</td><td>NA</td><td>NA</td><td>NA</td><td>14</td><td>NA</td><td>19.4</td><td> 0.0</td><td>0.0</td><td>2</td><td>0</td><td>3.9</td><td>1.7</td></tr>\n",
       "\t<tr><td>winter</td><td>large</td><td>medium</td><td>8.0</td><td>7.6</td><td>NA</td><td>NA</td><td>NA</td><td>NA</td><td>NA</td><td>NA</td><td> 0.0</td><td>12.5</td><td>3.7</td><td>1</td><td>0</td><td>0.0</td><td>4.9</td></tr>\n",
       "</tbody>\n",
       "</table>\n"
      ],
      "text/latex": [
       "A tibble: 2 × 18\n",
       "\\begin{tabular}{llllllllllllllllll}\n",
       " season & size & speed & mxPH & mnO2 & Cl & NO3 & NH4 & oPO4 & PO4 & Chla & a1 & a2 & a3 & a4 & a5 & a6 & a7\\\\\n",
       " <fct> & <fct> & <fct> & <dbl> & <dbl> & <dbl> & <dbl> & <dbl> & <dbl> & <dbl> & <dbl> & <dbl> & <dbl> & <dbl> & <dbl> & <dbl> & <dbl> & <dbl>\\\\\n",
       "\\hline\n",
       "\t summer & small & medium & 6.4 &  NA & NA & NA & NA & NA & 14 & NA & 19.4 &  0.0 & 0.0 & 2 & 0 & 3.9 & 1.7\\\\\n",
       "\t winter & large & medium & 8.0 & 7.6 & NA & NA & NA & NA & NA & NA &  0.0 & 12.5 & 3.7 & 1 & 0 & 0.0 & 4.9\\\\\n",
       "\\end{tabular}\n"
      ],
      "text/markdown": [
       "\n",
       "A tibble: 2 × 18\n",
       "\n",
       "| season &lt;fct&gt; | size &lt;fct&gt; | speed &lt;fct&gt; | mxPH &lt;dbl&gt; | mnO2 &lt;dbl&gt; | Cl &lt;dbl&gt; | NO3 &lt;dbl&gt; | NH4 &lt;dbl&gt; | oPO4 &lt;dbl&gt; | PO4 &lt;dbl&gt; | Chla &lt;dbl&gt; | a1 &lt;dbl&gt; | a2 &lt;dbl&gt; | a3 &lt;dbl&gt; | a4 &lt;dbl&gt; | a5 &lt;dbl&gt; | a6 &lt;dbl&gt; | a7 &lt;dbl&gt; |\n",
       "|---|---|---|---|---|---|---|---|---|---|---|---|---|---|---|---|---|---|\n",
       "| summer | small | medium | 6.4 |  NA | NA | NA | NA | NA | 14 | NA | 19.4 |  0.0 | 0.0 | 2 | 0 | 3.9 | 1.7 |\n",
       "| winter | large | medium | 8.0 | 7.6 | NA | NA | NA | NA | NA | NA |  0.0 | 12.5 | 3.7 | 1 | 0 | 0.0 | 4.9 |\n",
       "\n"
      ],
      "text/plain": [
       "  season size  speed  mxPH mnO2 Cl NO3 NH4 oPO4 PO4 Chla a1   a2   a3  a4 a5\n",
       "1 summer small medium 6.4   NA  NA NA  NA  NA   14  NA   19.4  0.0 0.0 2  0 \n",
       "2 winter large medium 8.0  7.6  NA NA  NA  NA   NA  NA    0.0 12.5 3.7 1  0 \n",
       "  a6  a7 \n",
       "1 3.9 1.7\n",
       "2 0.0 4.9"
      ]
     },
     "metadata": {},
     "output_type": "display_data"
    }
   ],
   "source": [
    "algae[c(62,199),]"
   ]
  },
  {
   "cell_type": "code",
   "execution_count": 11,
   "metadata": {},
   "outputs": [
    {
     "data": {
      "text/html": [
       "<table class=\"dataframe\">\n",
       "<caption>A tibble: 6 × 18</caption>\n",
       "<thead>\n",
       "\t<tr><th scope=col>season</th><th scope=col>size</th><th scope=col>speed</th><th scope=col>mxPH</th><th scope=col>mnO2</th><th scope=col>Cl</th><th scope=col>NO3</th><th scope=col>NH4</th><th scope=col>oPO4</th><th scope=col>PO4</th><th scope=col>Chla</th><th scope=col>a1</th><th scope=col>a2</th><th scope=col>a3</th><th scope=col>a4</th><th scope=col>a5</th><th scope=col>a6</th><th scope=col>a7</th></tr>\n",
       "\t<tr><th scope=col>&lt;fct&gt;</th><th scope=col>&lt;fct&gt;</th><th scope=col>&lt;fct&gt;</th><th scope=col>&lt;dbl&gt;</th><th scope=col>&lt;dbl&gt;</th><th scope=col>&lt;dbl&gt;</th><th scope=col>&lt;dbl&gt;</th><th scope=col>&lt;dbl&gt;</th><th scope=col>&lt;dbl&gt;</th><th scope=col>&lt;dbl&gt;</th><th scope=col>&lt;dbl&gt;</th><th scope=col>&lt;dbl&gt;</th><th scope=col>&lt;dbl&gt;</th><th scope=col>&lt;dbl&gt;</th><th scope=col>&lt;dbl&gt;</th><th scope=col>&lt;dbl&gt;</th><th scope=col>&lt;dbl&gt;</th><th scope=col>&lt;dbl&gt;</th></tr>\n",
       "</thead>\n",
       "<tbody>\n",
       "\t<tr><td>winter</td><td>small</td><td>medium</td><td>8.00</td><td> 9.8</td><td>60.800</td><td> 6.238</td><td>578.000</td><td>105.000</td><td>170.000</td><td>50.0</td><td> 0.0</td><td> 0.0</td><td> 0.0</td><td>0.0</td><td>34.2</td><td> 8.3</td><td>0.0</td></tr>\n",
       "\t<tr><td>spring</td><td>small</td><td>medium</td><td>8.35</td><td> 8.0</td><td>57.750</td><td> 1.288</td><td>370.000</td><td>428.750</td><td>558.750</td><td> 1.3</td><td> 1.4</td><td> 7.6</td><td> 4.8</td><td>1.9</td><td> 6.7</td><td> 0.0</td><td>2.1</td></tr>\n",
       "\t<tr><td>autumn</td><td>small</td><td>medium</td><td>8.10</td><td>11.4</td><td>40.020</td><td> 5.330</td><td>346.667</td><td>125.667</td><td>187.057</td><td>15.6</td><td> 3.3</td><td>53.6</td><td> 1.9</td><td>0.0</td><td> 0.0</td><td> 0.0</td><td>9.7</td></tr>\n",
       "\t<tr><td>spring</td><td>small</td><td>medium</td><td>8.07</td><td> 4.8</td><td>77.364</td><td> 2.302</td><td> 98.182</td><td> 61.182</td><td>138.700</td><td> 1.4</td><td> 3.1</td><td>41.0</td><td>18.9</td><td>0.0</td><td> 1.4</td><td> 0.0</td><td>1.4</td></tr>\n",
       "\t<tr><td>autumn</td><td>small</td><td>medium</td><td>8.06</td><td> 9.0</td><td>55.350</td><td>10.416</td><td>233.700</td><td> 58.222</td><td> 97.580</td><td>10.5</td><td> 9.2</td><td> 2.9</td><td> 7.5</td><td>0.0</td><td> 7.5</td><td> 4.1</td><td>1.0</td></tr>\n",
       "\t<tr><td>winter</td><td>small</td><td>high  </td><td>8.25</td><td>13.1</td><td>65.750</td><td> 9.248</td><td>430.000</td><td> 18.250</td><td> 56.667</td><td>28.4</td><td>15.1</td><td>14.6</td><td> 1.4</td><td>0.0</td><td>22.5</td><td>12.6</td><td>2.9</td></tr>\n",
       "</tbody>\n",
       "</table>\n"
      ],
      "text/latex": [
       "A tibble: 6 × 18\n",
       "\\begin{tabular}{llllllllllllllllll}\n",
       " season & size & speed & mxPH & mnO2 & Cl & NO3 & NH4 & oPO4 & PO4 & Chla & a1 & a2 & a3 & a4 & a5 & a6 & a7\\\\\n",
       " <fct> & <fct> & <fct> & <dbl> & <dbl> & <dbl> & <dbl> & <dbl> & <dbl> & <dbl> & <dbl> & <dbl> & <dbl> & <dbl> & <dbl> & <dbl> & <dbl> & <dbl>\\\\\n",
       "\\hline\n",
       "\t winter & small & medium & 8.00 &  9.8 & 60.800 &  6.238 & 578.000 & 105.000 & 170.000 & 50.0 &  0.0 &  0.0 &  0.0 & 0.0 & 34.2 &  8.3 & 0.0\\\\\n",
       "\t spring & small & medium & 8.35 &  8.0 & 57.750 &  1.288 & 370.000 & 428.750 & 558.750 &  1.3 &  1.4 &  7.6 &  4.8 & 1.9 &  6.7 &  0.0 & 2.1\\\\\n",
       "\t autumn & small & medium & 8.10 & 11.4 & 40.020 &  5.330 & 346.667 & 125.667 & 187.057 & 15.6 &  3.3 & 53.6 &  1.9 & 0.0 &  0.0 &  0.0 & 9.7\\\\\n",
       "\t spring & small & medium & 8.07 &  4.8 & 77.364 &  2.302 &  98.182 &  61.182 & 138.700 &  1.4 &  3.1 & 41.0 & 18.9 & 0.0 &  1.4 &  0.0 & 1.4\\\\\n",
       "\t autumn & small & medium & 8.06 &  9.0 & 55.350 & 10.416 & 233.700 &  58.222 &  97.580 & 10.5 &  9.2 &  2.9 &  7.5 & 0.0 &  7.5 &  4.1 & 1.0\\\\\n",
       "\t winter & small & high   & 8.25 & 13.1 & 65.750 &  9.248 & 430.000 &  18.250 &  56.667 & 28.4 & 15.1 & 14.6 &  1.4 & 0.0 & 22.5 & 12.6 & 2.9\\\\\n",
       "\\end{tabular}\n"
      ],
      "text/markdown": [
       "\n",
       "A tibble: 6 × 18\n",
       "\n",
       "| season &lt;fct&gt; | size &lt;fct&gt; | speed &lt;fct&gt; | mxPH &lt;dbl&gt; | mnO2 &lt;dbl&gt; | Cl &lt;dbl&gt; | NO3 &lt;dbl&gt; | NH4 &lt;dbl&gt; | oPO4 &lt;dbl&gt; | PO4 &lt;dbl&gt; | Chla &lt;dbl&gt; | a1 &lt;dbl&gt; | a2 &lt;dbl&gt; | a3 &lt;dbl&gt; | a4 &lt;dbl&gt; | a5 &lt;dbl&gt; | a6 &lt;dbl&gt; | a7 &lt;dbl&gt; |\n",
       "|---|---|---|---|---|---|---|---|---|---|---|---|---|---|---|---|---|---|\n",
       "| winter | small | medium | 8.00 |  9.8 | 60.800 |  6.238 | 578.000 | 105.000 | 170.000 | 50.0 |  0.0 |  0.0 |  0.0 | 0.0 | 34.2 |  8.3 | 0.0 |\n",
       "| spring | small | medium | 8.35 |  8.0 | 57.750 |  1.288 | 370.000 | 428.750 | 558.750 |  1.3 |  1.4 |  7.6 |  4.8 | 1.9 |  6.7 |  0.0 | 2.1 |\n",
       "| autumn | small | medium | 8.10 | 11.4 | 40.020 |  5.330 | 346.667 | 125.667 | 187.057 | 15.6 |  3.3 | 53.6 |  1.9 | 0.0 |  0.0 |  0.0 | 9.7 |\n",
       "| spring | small | medium | 8.07 |  4.8 | 77.364 |  2.302 |  98.182 |  61.182 | 138.700 |  1.4 |  3.1 | 41.0 | 18.9 | 0.0 |  1.4 |  0.0 | 1.4 |\n",
       "| autumn | small | medium | 8.06 |  9.0 | 55.350 | 10.416 | 233.700 |  58.222 |  97.580 | 10.5 |  9.2 |  2.9 |  7.5 | 0.0 |  7.5 |  4.1 | 1.0 |\n",
       "| winter | small | high   | 8.25 | 13.1 | 65.750 |  9.248 | 430.000 |  18.250 |  56.667 | 28.4 | 15.1 | 14.6 |  1.4 | 0.0 | 22.5 | 12.6 | 2.9 |\n",
       "\n"
      ],
      "text/plain": [
       "  season size  speed  mxPH mnO2 Cl     NO3    NH4     oPO4    PO4     Chla a1  \n",
       "1 winter small medium 8.00  9.8 60.800  6.238 578.000 105.000 170.000 50.0  0.0\n",
       "2 spring small medium 8.35  8.0 57.750  1.288 370.000 428.750 558.750  1.3  1.4\n",
       "3 autumn small medium 8.10 11.4 40.020  5.330 346.667 125.667 187.057 15.6  3.3\n",
       "4 spring small medium 8.07  4.8 77.364  2.302  98.182  61.182 138.700  1.4  3.1\n",
       "5 autumn small medium 8.06  9.0 55.350 10.416 233.700  58.222  97.580 10.5  9.2\n",
       "6 winter small high   8.25 13.1 65.750  9.248 430.000  18.250  56.667 28.4 15.1\n",
       "  a2   a3   a4  a5   a6   a7 \n",
       "1  0.0  0.0 0.0 34.2  8.3 0.0\n",
       "2  7.6  4.8 1.9  6.7  0.0 2.1\n",
       "3 53.6  1.9 0.0  0.0  0.0 9.7\n",
       "4 41.0 18.9 0.0  1.4  0.0 1.4\n",
       "5  2.9  7.5 0.0  7.5  4.1 1.0\n",
       "6 14.6  1.4 0.0 22.5 12.6 2.9"
      ]
     },
     "metadata": {},
     "output_type": "display_data"
    }
   ],
   "source": [
    "dados=algae[-c(62,199),]\n",
    "head(dados)"
   ]
  },
  {
   "cell_type": "code",
   "execution_count": 5,
   "metadata": {},
   "outputs": [
    {
     "data": {
      "text/html": [
       "0.08"
      ],
      "text/latex": [
       "0.08"
      ],
      "text/markdown": [
       "0.08"
      ],
      "text/plain": [
       "[1] 0.08"
      ]
     },
     "metadata": {},
     "output_type": "display_data"
    }
   ],
   "source": [
    "#Proporção de dados faltantes\n",
    "nrow(dados[!complete.cases(dados),])/nrow(dados)"
   ]
  },
  {
   "cell_type": "markdown",
   "metadata": {},
   "source": [
    "### Valores faltantes nas linhas"
   ]
  },
  {
   "cell_type": "code",
   "execution_count": 76,
   "metadata": {},
   "outputs": [
    {
     "data": {
      "text/html": [
       "<style>\n",
       ".list-inline {list-style: none; margin:0; padding: 0}\n",
       ".list-inline>li {display: inline-block}\n",
       ".list-inline>li:not(:last-child)::after {content: \"\\00b7\"; padding: 0 .5ex}\n",
       "</style>\n",
       "<ol class=list-inline><li>0</li><li>0</li><li>0</li><li>0</li><li>0</li><li>0</li><li>0</li><li>0</li><li>0</li><li>0</li><li>0</li><li>0</li><li>0</li><li>0</li><li>0</li><li>0</li><li>0</li><li>0</li><li>0</li><li>0</li><li>0</li><li>0</li><li>0</li><li>0</li><li>0</li><li>0</li><li>0</li><li>0</li><li>0</li><li>0</li><li>0</li><li>0</li><li>0</li><li>0</li><li>0</li><li>0</li><li>0</li><li>0</li><li>0</li><li>0</li><li>0</li><li>0</li><li>0</li><li>0</li><li>0</li><li>0</li><li>0</li><li>0</li><li>0</li><li>0</li><li>0</li><li>0</li><li>0</li><li>0</li><li>0</li><li>0</li><li>0</li><li>0</li><li>0</li><li>0</li><li>0</li><li>0</li><li>0</li><li>0</li><li>0</li><li>0</li><li>0</li><li>0</li><li>0</li><li>0</li><li>0</li><li>0</li><li>0</li><li>0</li><li>0</li><li>0</li><li>0</li><li>0</li><li>0</li><li>0</li><li>0</li><li>0</li><li>0</li><li>0</li><li>0</li><li>0</li><li>0</li><li>0</li><li>0</li><li>0</li><li>0</li><li>0</li><li>0</li><li>0</li><li>0</li><li>0</li><li>0</li><li>0</li><li>0</li><li>0</li><li>0</li><li>0</li><li>0</li><li>0</li><li>0</li><li>0</li><li>0</li><li>0</li><li>0</li><li>0</li><li>0</li><li>0</li><li>0</li><li>0</li><li>0</li><li>0</li><li>0</li><li>0</li><li>0</li><li>0</li><li>0</li><li>0</li><li>0</li><li>0</li><li>0</li><li>0</li><li>0</li><li>0</li><li>0</li><li>0</li><li>0</li><li>0</li><li>0</li><li>0</li><li>0</li><li>0</li><li>0</li><li>0</li><li>0</li><li>0</li><li>0</li><li>0</li><li>0</li><li>0</li><li>0</li><li>0</li><li>0</li><li>0</li><li>0</li><li>0</li><li>0</li><li>0</li><li>0</li><li>0</li><li>0</li><li>0</li><li>0</li><li>0</li><li>0</li><li>0</li><li>0</li><li>0</li><li>0</li><li>0</li><li>0</li><li>0</li><li>0</li><li>0</li><li>0</li><li>0</li><li>0</li><li>0</li><li>0</li><li>0</li><li>0</li><li>0</li><li>0</li><li>0</li><li>0</li><li>0</li><li>0</li><li>0</li><li>0</li><li>0</li></ol>\n"
      ],
      "text/latex": [
       "\\begin{enumerate*}\n",
       "\\item 0\n",
       "\\item 0\n",
       "\\item 0\n",
       "\\item 0\n",
       "\\item 0\n",
       "\\item 0\n",
       "\\item 0\n",
       "\\item 0\n",
       "\\item 0\n",
       "\\item 0\n",
       "\\item 0\n",
       "\\item 0\n",
       "\\item 0\n",
       "\\item 0\n",
       "\\item 0\n",
       "\\item 0\n",
       "\\item 0\n",
       "\\item 0\n",
       "\\item 0\n",
       "\\item 0\n",
       "\\item 0\n",
       "\\item 0\n",
       "\\item 0\n",
       "\\item 0\n",
       "\\item 0\n",
       "\\item 0\n",
       "\\item 0\n",
       "\\item 0\n",
       "\\item 0\n",
       "\\item 0\n",
       "\\item 0\n",
       "\\item 0\n",
       "\\item 0\n",
       "\\item 0\n",
       "\\item 0\n",
       "\\item 0\n",
       "\\item 0\n",
       "\\item 0\n",
       "\\item 0\n",
       "\\item 0\n",
       "\\item 0\n",
       "\\item 0\n",
       "\\item 0\n",
       "\\item 0\n",
       "\\item 0\n",
       "\\item 0\n",
       "\\item 0\n",
       "\\item 0\n",
       "\\item 0\n",
       "\\item 0\n",
       "\\item 0\n",
       "\\item 0\n",
       "\\item 0\n",
       "\\item 0\n",
       "\\item 0\n",
       "\\item 0\n",
       "\\item 0\n",
       "\\item 0\n",
       "\\item 0\n",
       "\\item 0\n",
       "\\item 0\n",
       "\\item 0\n",
       "\\item 0\n",
       "\\item 0\n",
       "\\item 0\n",
       "\\item 0\n",
       "\\item 0\n",
       "\\item 0\n",
       "\\item 0\n",
       "\\item 0\n",
       "\\item 0\n",
       "\\item 0\n",
       "\\item 0\n",
       "\\item 0\n",
       "\\item 0\n",
       "\\item 0\n",
       "\\item 0\n",
       "\\item 0\n",
       "\\item 0\n",
       "\\item 0\n",
       "\\item 0\n",
       "\\item 0\n",
       "\\item 0\n",
       "\\item 0\n",
       "\\item 0\n",
       "\\item 0\n",
       "\\item 0\n",
       "\\item 0\n",
       "\\item 0\n",
       "\\item 0\n",
       "\\item 0\n",
       "\\item 0\n",
       "\\item 0\n",
       "\\item 0\n",
       "\\item 0\n",
       "\\item 0\n",
       "\\item 0\n",
       "\\item 0\n",
       "\\item 0\n",
       "\\item 0\n",
       "\\item 0\n",
       "\\item 0\n",
       "\\item 0\n",
       "\\item 0\n",
       "\\item 0\n",
       "\\item 0\n",
       "\\item 0\n",
       "\\item 0\n",
       "\\item 0\n",
       "\\item 0\n",
       "\\item 0\n",
       "\\item 0\n",
       "\\item 0\n",
       "\\item 0\n",
       "\\item 0\n",
       "\\item 0\n",
       "\\item 0\n",
       "\\item 0\n",
       "\\item 0\n",
       "\\item 0\n",
       "\\item 0\n",
       "\\item 0\n",
       "\\item 0\n",
       "\\item 0\n",
       "\\item 0\n",
       "\\item 0\n",
       "\\item 0\n",
       "\\item 0\n",
       "\\item 0\n",
       "\\item 0\n",
       "\\item 0\n",
       "\\item 0\n",
       "\\item 0\n",
       "\\item 0\n",
       "\\item 0\n",
       "\\item 0\n",
       "\\item 0\n",
       "\\item 0\n",
       "\\item 0\n",
       "\\item 0\n",
       "\\item 0\n",
       "\\item 0\n",
       "\\item 0\n",
       "\\item 0\n",
       "\\item 0\n",
       "\\item 0\n",
       "\\item 0\n",
       "\\item 0\n",
       "\\item 0\n",
       "\\item 0\n",
       "\\item 0\n",
       "\\item 0\n",
       "\\item 0\n",
       "\\item 0\n",
       "\\item 0\n",
       "\\item 0\n",
       "\\item 0\n",
       "\\item 0\n",
       "\\item 0\n",
       "\\item 0\n",
       "\\item 0\n",
       "\\item 0\n",
       "\\item 0\n",
       "\\item 0\n",
       "\\item 0\n",
       "\\item 0\n",
       "\\item 0\n",
       "\\item 0\n",
       "\\item 0\n",
       "\\item 0\n",
       "\\item 0\n",
       "\\item 0\n",
       "\\item 0\n",
       "\\item 0\n",
       "\\item 0\n",
       "\\item 0\n",
       "\\item 0\n",
       "\\item 0\n",
       "\\item 0\n",
       "\\item 0\n",
       "\\item 0\n",
       "\\item 0\n",
       "\\item 0\n",
       "\\item 0\n",
       "\\end{enumerate*}\n"
      ],
      "text/markdown": [
       "1. 0\n",
       "2. 0\n",
       "3. 0\n",
       "4. 0\n",
       "5. 0\n",
       "6. 0\n",
       "7. 0\n",
       "8. 0\n",
       "9. 0\n",
       "10. 0\n",
       "11. 0\n",
       "12. 0\n",
       "13. 0\n",
       "14. 0\n",
       "15. 0\n",
       "16. 0\n",
       "17. 0\n",
       "18. 0\n",
       "19. 0\n",
       "20. 0\n",
       "21. 0\n",
       "22. 0\n",
       "23. 0\n",
       "24. 0\n",
       "25. 0\n",
       "26. 0\n",
       "27. 0\n",
       "28. 0\n",
       "29. 0\n",
       "30. 0\n",
       "31. 0\n",
       "32. 0\n",
       "33. 0\n",
       "34. 0\n",
       "35. 0\n",
       "36. 0\n",
       "37. 0\n",
       "38. 0\n",
       "39. 0\n",
       "40. 0\n",
       "41. 0\n",
       "42. 0\n",
       "43. 0\n",
       "44. 0\n",
       "45. 0\n",
       "46. 0\n",
       "47. 0\n",
       "48. 0\n",
       "49. 0\n",
       "50. 0\n",
       "51. 0\n",
       "52. 0\n",
       "53. 0\n",
       "54. 0\n",
       "55. 0\n",
       "56. 0\n",
       "57. 0\n",
       "58. 0\n",
       "59. 0\n",
       "60. 0\n",
       "61. 0\n",
       "62. 0\n",
       "63. 0\n",
       "64. 0\n",
       "65. 0\n",
       "66. 0\n",
       "67. 0\n",
       "68. 0\n",
       "69. 0\n",
       "70. 0\n",
       "71. 0\n",
       "72. 0\n",
       "73. 0\n",
       "74. 0\n",
       "75. 0\n",
       "76. 0\n",
       "77. 0\n",
       "78. 0\n",
       "79. 0\n",
       "80. 0\n",
       "81. 0\n",
       "82. 0\n",
       "83. 0\n",
       "84. 0\n",
       "85. 0\n",
       "86. 0\n",
       "87. 0\n",
       "88. 0\n",
       "89. 0\n",
       "90. 0\n",
       "91. 0\n",
       "92. 0\n",
       "93. 0\n",
       "94. 0\n",
       "95. 0\n",
       "96. 0\n",
       "97. 0\n",
       "98. 0\n",
       "99. 0\n",
       "100. 0\n",
       "101. 0\n",
       "102. 0\n",
       "103. 0\n",
       "104. 0\n",
       "105. 0\n",
       "106. 0\n",
       "107. 0\n",
       "108. 0\n",
       "109. 0\n",
       "110. 0\n",
       "111. 0\n",
       "112. 0\n",
       "113. 0\n",
       "114. 0\n",
       "115. 0\n",
       "116. 0\n",
       "117. 0\n",
       "118. 0\n",
       "119. 0\n",
       "120. 0\n",
       "121. 0\n",
       "122. 0\n",
       "123. 0\n",
       "124. 0\n",
       "125. 0\n",
       "126. 0\n",
       "127. 0\n",
       "128. 0\n",
       "129. 0\n",
       "130. 0\n",
       "131. 0\n",
       "132. 0\n",
       "133. 0\n",
       "134. 0\n",
       "135. 0\n",
       "136. 0\n",
       "137. 0\n",
       "138. 0\n",
       "139. 0\n",
       "140. 0\n",
       "141. 0\n",
       "142. 0\n",
       "143. 0\n",
       "144. 0\n",
       "145. 0\n",
       "146. 0\n",
       "147. 0\n",
       "148. 0\n",
       "149. 0\n",
       "150. 0\n",
       "151. 0\n",
       "152. 0\n",
       "153. 0\n",
       "154. 0\n",
       "155. 0\n",
       "156. 0\n",
       "157. 0\n",
       "158. 0\n",
       "159. 0\n",
       "160. 0\n",
       "161. 0\n",
       "162. 0\n",
       "163. 0\n",
       "164. 0\n",
       "165. 0\n",
       "166. 0\n",
       "167. 0\n",
       "168. 0\n",
       "169. 0\n",
       "170. 0\n",
       "171. 0\n",
       "172. 0\n",
       "173. 0\n",
       "174. 0\n",
       "175. 0\n",
       "176. 0\n",
       "177. 0\n",
       "178. 0\n",
       "179. 0\n",
       "180. 0\n",
       "181. 0\n",
       "182. 0\n",
       "183. 0\n",
       "184. 0\n",
       "\n",
       "\n"
      ],
      "text/plain": [
       "  [1] 0 0 0 0 0 0 0 0 0 0 0 0 0 0 0 0 0 0 0 0 0 0 0 0 0 0 0 0 0 0 0 0 0 0 0 0 0\n",
       " [38] 0 0 0 0 0 0 0 0 0 0 0 0 0 0 0 0 0 0 0 0 0 0 0 0 0 0 0 0 0 0 0 0 0 0 0 0 0\n",
       " [75] 0 0 0 0 0 0 0 0 0 0 0 0 0 0 0 0 0 0 0 0 0 0 0 0 0 0 0 0 0 0 0 0 0 0 0 0 0\n",
       "[112] 0 0 0 0 0 0 0 0 0 0 0 0 0 0 0 0 0 0 0 0 0 0 0 0 0 0 0 0 0 0 0 0 0 0 0 0 0\n",
       "[149] 0 0 0 0 0 0 0 0 0 0 0 0 0 0 0 0 0 0 0 0 0 0 0 0 0 0 0 0 0 0 0 0 0 0 0 0"
      ]
     },
     "metadata": {},
     "output_type": "display_data"
    }
   ],
   "source": [
    "\n",
    "apply(dados,1,function(x) sum(is.na(x)))"
   ]
  },
  {
   "cell_type": "markdown",
   "metadata": {},
   "source": [
    "### Valores faltantes nas colunas"
   ]
  },
  {
   "cell_type": "code",
   "execution_count": 73,
   "metadata": {},
   "outputs": [
    {
     "data": {
      "text/html": [
       "<style>\n",
       ".dl-inline {width: auto; margin:0; padding: 0}\n",
       ".dl-inline>dt, .dl-inline>dd {float: none; width: auto; display: inline-block}\n",
       ".dl-inline>dt::after {content: \":\\0020\"; padding-right: .5ex}\n",
       ".dl-inline>dt:not(:first-of-type) {padding-left: .5ex}\n",
       "</style><dl class=dl-inline><dt>season</dt><dd>0</dd><dt>size</dt><dd>0</dd><dt>speed</dt><dd>0</dd><dt>mxPH</dt><dd>1</dd><dt>mnO2</dt><dd>1</dd><dt>Cl</dt><dd>8</dd><dt>NO3</dt><dd>0</dd><dt>NH4</dt><dd>0</dd><dt>oPO4</dt><dd>0</dd><dt>PO4</dt><dd>1</dd><dt>Chla</dt><dd>10</dd><dt>a1</dt><dd>0</dd><dt>a2</dt><dd>0</dd><dt>a3</dt><dd>0</dd><dt>a4</dt><dd>0</dd><dt>a5</dt><dd>0</dd><dt>a6</dt><dd>0</dd><dt>a7</dt><dd>0</dd></dl>\n"
      ],
      "text/latex": [
       "\\begin{description*}\n",
       "\\item[season] 0\n",
       "\\item[size] 0\n",
       "\\item[speed] 0\n",
       "\\item[mxPH] 1\n",
       "\\item[mnO2] 1\n",
       "\\item[Cl] 8\n",
       "\\item[NO3] 0\n",
       "\\item[NH4] 0\n",
       "\\item[oPO4] 0\n",
       "\\item[PO4] 1\n",
       "\\item[Chla] 10\n",
       "\\item[a1] 0\n",
       "\\item[a2] 0\n",
       "\\item[a3] 0\n",
       "\\item[a4] 0\n",
       "\\item[a5] 0\n",
       "\\item[a6] 0\n",
       "\\item[a7] 0\n",
       "\\end{description*}\n"
      ],
      "text/markdown": [
       "season\n",
       ":   0size\n",
       ":   0speed\n",
       ":   0mxPH\n",
       ":   1mnO2\n",
       ":   1Cl\n",
       ":   8NO3\n",
       ":   0NH4\n",
       ":   0oPO4\n",
       ":   0PO4\n",
       ":   1Chla\n",
       ":   10a1\n",
       ":   0a2\n",
       ":   0a3\n",
       ":   0a4\n",
       ":   0a5\n",
       ":   0a6\n",
       ":   0a7\n",
       ":   0\n",
       "\n"
      ],
      "text/plain": [
       "season   size  speed   mxPH   mnO2     Cl    NO3    NH4   oPO4    PO4   Chla \n",
       "     0      0      0      1      1      8      0      0      0      1     10 \n",
       "    a1     a2     a3     a4     a5     a6     a7 \n",
       "     0      0      0      0      0      0      0 "
      ]
     },
     "metadata": {},
     "output_type": "display_data"
    }
   ],
   "source": [
    "\n",
    "dados=algae[-c(62,199),]\n",
    "apply(dados,2,function(x) sum(is.na(x)))"
   ]
  },
  {
   "cell_type": "markdown",
   "metadata": {},
   "source": [
    "# Pré-Processamento de Dados e Avaliação de modelos por Àrvore de Regressão com alguns métodos de estimação de dados faltantes."
   ]
  },
  {
   "cell_type": "markdown",
   "metadata": {},
   "source": [
    "### Estimação dos valores faltantes tirando as linhas com valores faltantes"
   ]
  },
  {
   "cell_type": "code",
   "execution_count": 74,
   "metadata": {},
   "outputs": [],
   "source": [
    "dados=dados[complete.cases(dados),]"
   ]
  },
  {
   "cell_type": "code",
   "execution_count": 75,
   "metadata": {},
   "outputs": [
    {
     "data": {
      "text/html": [
       "<style>\n",
       ".dl-inline {width: auto; margin:0; padding: 0}\n",
       ".dl-inline>dt, .dl-inline>dd {float: none; width: auto; display: inline-block}\n",
       ".dl-inline>dt::after {content: \":\\0020\"; padding-right: .5ex}\n",
       ".dl-inline>dt:not(:first-of-type) {padding-left: .5ex}\n",
       "</style><dl class=dl-inline><dt>season</dt><dd>0</dd><dt>size</dt><dd>0</dd><dt>speed</dt><dd>0</dd><dt>mxPH</dt><dd>0</dd><dt>mnO2</dt><dd>0</dd><dt>Cl</dt><dd>0</dd><dt>NO3</dt><dd>0</dd><dt>NH4</dt><dd>0</dd><dt>oPO4</dt><dd>0</dd><dt>PO4</dt><dd>0</dd><dt>Chla</dt><dd>0</dd><dt>a1</dt><dd>0</dd><dt>a2</dt><dd>0</dd><dt>a3</dt><dd>0</dd><dt>a4</dt><dd>0</dd><dt>a5</dt><dd>0</dd><dt>a6</dt><dd>0</dd><dt>a7</dt><dd>0</dd></dl>\n"
      ],
      "text/latex": [
       "\\begin{description*}\n",
       "\\item[season] 0\n",
       "\\item[size] 0\n",
       "\\item[speed] 0\n",
       "\\item[mxPH] 0\n",
       "\\item[mnO2] 0\n",
       "\\item[Cl] 0\n",
       "\\item[NO3] 0\n",
       "\\item[NH4] 0\n",
       "\\item[oPO4] 0\n",
       "\\item[PO4] 0\n",
       "\\item[Chla] 0\n",
       "\\item[a1] 0\n",
       "\\item[a2] 0\n",
       "\\item[a3] 0\n",
       "\\item[a4] 0\n",
       "\\item[a5] 0\n",
       "\\item[a6] 0\n",
       "\\item[a7] 0\n",
       "\\end{description*}\n"
      ],
      "text/markdown": [
       "season\n",
       ":   0size\n",
       ":   0speed\n",
       ":   0mxPH\n",
       ":   0mnO2\n",
       ":   0Cl\n",
       ":   0NO3\n",
       ":   0NH4\n",
       ":   0oPO4\n",
       ":   0PO4\n",
       ":   0Chla\n",
       ":   0a1\n",
       ":   0a2\n",
       ":   0a3\n",
       ":   0a4\n",
       ":   0a5\n",
       ":   0a6\n",
       ":   0a7\n",
       ":   0\n",
       "\n"
      ],
      "text/plain": [
       "season   size  speed   mxPH   mnO2     Cl    NO3    NH4   oPO4    PO4   Chla \n",
       "     0      0      0      0      0      0      0      0      0      0      0 \n",
       "    a1     a2     a3     a4     a5     a6     a7 \n",
       "     0      0      0      0      0      0      0 "
      ]
     },
     "metadata": {},
     "output_type": "display_data"
    }
   ],
   "source": [
    "##Valores faltantes nas colunas\n",
    "apply(dados,2,function(x) sum(is.na(x)))"
   ]
  },
  {
   "cell_type": "markdown",
   "metadata": {},
   "source": [
    "# Estimação dos valores faltantes pela média, mediana."
   ]
  },
  {
   "cell_type": "code",
   "execution_count": 14,
   "metadata": {},
   "outputs": [
    {
     "data": {
      "text/html": [
       "<style>\n",
       ".dl-inline {width: auto; margin:0; padding: 0}\n",
       ".dl-inline>dt, .dl-inline>dd {float: none; width: auto; display: inline-block}\n",
       ".dl-inline>dt::after {content: \":\\0020\"; padding-right: .5ex}\n",
       ".dl-inline>dt:not(:first-of-type) {padding-left: .5ex}\n",
       "</style><dl class=dl-inline><dt>season</dt><dd>0</dd><dt>size</dt><dd>0</dd><dt>speed</dt><dd>0</dd><dt>mxPH</dt><dd>1</dd><dt>mnO2</dt><dd>1</dd><dt>Cl</dt><dd>8</dd><dt>NO3</dt><dd>0</dd><dt>NH4</dt><dd>0</dd><dt>oPO4</dt><dd>0</dd><dt>PO4</dt><dd>1</dd><dt>Chla</dt><dd>10</dd><dt>a1</dt><dd>0</dd><dt>a2</dt><dd>0</dd><dt>a3</dt><dd>0</dd><dt>a4</dt><dd>0</dd><dt>a5</dt><dd>0</dd><dt>a6</dt><dd>0</dd><dt>a7</dt><dd>0</dd></dl>\n"
      ],
      "text/latex": [
       "\\begin{description*}\n",
       "\\item[season] 0\n",
       "\\item[size] 0\n",
       "\\item[speed] 0\n",
       "\\item[mxPH] 1\n",
       "\\item[mnO2] 1\n",
       "\\item[Cl] 8\n",
       "\\item[NO3] 0\n",
       "\\item[NH4] 0\n",
       "\\item[oPO4] 0\n",
       "\\item[PO4] 1\n",
       "\\item[Chla] 10\n",
       "\\item[a1] 0\n",
       "\\item[a2] 0\n",
       "\\item[a3] 0\n",
       "\\item[a4] 0\n",
       "\\item[a5] 0\n",
       "\\item[a6] 0\n",
       "\\item[a7] 0\n",
       "\\end{description*}\n"
      ],
      "text/markdown": [
       "season\n",
       ":   0size\n",
       ":   0speed\n",
       ":   0mxPH\n",
       ":   1mnO2\n",
       ":   1Cl\n",
       ":   8NO3\n",
       ":   0NH4\n",
       ":   0oPO4\n",
       ":   0PO4\n",
       ":   1Chla\n",
       ":   10a1\n",
       ":   0a2\n",
       ":   0a3\n",
       ":   0a4\n",
       ":   0a5\n",
       ":   0a6\n",
       ":   0a7\n",
       ":   0\n",
       "\n"
      ],
      "text/plain": [
       "season   size  speed   mxPH   mnO2     Cl    NO3    NH4   oPO4    PO4   Chla \n",
       "     0      0      0      1      1      8      0      0      0      1     10 \n",
       "    a1     a2     a3     a4     a5     a6     a7 \n",
       "     0      0      0      0      0      0      0 "
      ]
     },
     "metadata": {},
     "output_type": "display_data"
    }
   ],
   "source": [
    "#dados=AjeitaDados(dados)\n",
    "dados=algae[-c(62,199),]\n",
    "##Variáveis que tem valores faltantes\n",
    "apply(dados,2,function(x) sum(is.na(x)))"
   ]
  },
  {
   "cell_type": "markdown",
   "metadata": {},
   "source": [
    "#### Variável mxPH"
   ]
  },
  {
   "cell_type": "code",
   "execution_count": 18,
   "metadata": {},
   "outputs": [
    {
     "name": "stderr",
     "output_type": "stream",
     "text": [
      "`stat_bin()` using `bins = 30`. Pick better value with `binwidth`.\n",
      "\n",
      "Warning message:\n",
      "\"Removed 1 rows containing non-finite values (stat_bin).\"\n",
      "Warning message:\n",
      "\"Removed 1 rows containing non-finite values (stat_density).\"\n"
     ]
    },
    {
     "data": {
      "image/png": "[encoded data removed]",
      "text/plain": [
       "plot without title"
      ]
     },
     "metadata": {
      "image/png": {
       "height": 420,
       "width": 420
      }
     },
     "output_type": "display_data"
    }
   ],
   "source": [
    "(ggplot(dados)+aes(mxPH)+geom_histogram(aes(y=..density..),color=\"black\",fill=\"#00AFBB\")\n",
    "+geom_rug()+geom_density()+theme_test())"
   ]
  },
  {
   "cell_type": "code",
   "execution_count": 16,
   "metadata": {},
   "outputs": [
    {
     "data": {
      "text/html": [
       "-0.701212789974113"
      ],
      "text/latex": [
       "-0.701212789974113"
      ],
      "text/markdown": [
       "-0.701212789974113"
      ],
      "text/plain": [
       "[1] -0.7012128"
      ]
     },
     "metadata": {},
     "output_type": "display_data"
    },
    {
     "data": {
      "text/html": [
       "2.09604018719219"
      ],
      "text/latex": [
       "2.09604018719219"
      ],
      "text/markdown": [
       "2.09604018719219"
      ],
      "text/plain": [
       "[1] 2.09604"
      ]
     },
     "metadata": {},
     "output_type": "display_data"
    }
   ],
   "source": [
    "skewness(dados$mxPH,na.rm=T)\n",
    "kurtosis(dados$mxPH,na.rm=T)"
   ]
  },
  {
   "cell_type": "code",
   "execution_count": 24,
   "metadata": {},
   "outputs": [
    {
     "name": "stderr",
     "output_type": "stream",
     "text": [
      "Warning message:\n",
      "\"Use of `dados$mxPH` is discouraged. Use `mxPH` instead.\"\n",
      "Warning message:\n",
      "\"Removed 1 rows containing non-finite values (stat_boxplot).\"\n"
     ]
    },
    {
     "data": {
      "image/png": "[encoded data removed]",
      "text/plain": [
       "plot without title"
      ]
     },
     "metadata": {
      "image/png": {
       "height": 420,
       "width": 420
      }
     },
     "output_type": "display_data"
    }
   ],
   "source": [
    "(ggplot(dados)+aes(1,mxPH)+geom_boxplot(fill=\"#00AFBB\",color=\"black\")\n",
    "  +geom_rug()+geom_hline(aes(yintercept=mean(dados$mxPH,na.rm=T),color=\"red\"))+theme_test())"
   ]
  },
  {
   "cell_type": "code",
   "execution_count": 20,
   "metadata": {},
   "outputs": [
    {
     "data": {
      "text/html": [
       "0.0303030303030303"
      ],
      "text/latex": [
       "0.0303030303030303"
      ],
      "text/markdown": [
       "0.0303030303030303"
      ],
      "text/plain": [
       "[1] 0.03030303"
      ]
     },
     "metadata": {},
     "output_type": "display_data"
    }
   ],
   "source": [
    "##Proporção dos outliers\n",
    "6/198"
   ]
  },
  {
   "cell_type": "code",
   "execution_count": 21,
   "metadata": {},
   "outputs": [
    {
     "data": {
      "image/png": "[encoded data removed]",
      "text/plain": [
       "Plot with title \"Normal Q-Q Plot\""
      ]
     },
     "metadata": {
      "image/png": {
       "height": 420,
       "width": 420
      }
     },
     "output_type": "display_data"
    }
   ],
   "source": [
    "qqnorm(dados$mxPH)\n",
    "qqline(dados$mxPH,col=\"red\")"
   ]
  },
  {
   "cell_type": "code",
   "execution_count": 22,
   "metadata": {},
   "outputs": [
    {
     "data": {
      "text/plain": [
       "\n",
       "\tShapiro-Wilk normality test\n",
       "\n",
       "data:  dados$mxPH\n",
       "W = 0.96383, p-value = 6.02e-05\n"
      ]
     },
     "metadata": {},
     "output_type": "display_data"
    },
    {
     "data": {
      "text/plain": [
       "\n",
       "\tLilliefors (Kolmogorov-Smirnov) normality test\n",
       "\n",
       "data:  dados$mxPH\n",
       "D = 0.07041, p-value = 0.01886\n"
      ]
     },
     "metadata": {},
     "output_type": "display_data"
    }
   ],
   "source": [
    "shapiro.test(dados$mxPH)\n",
    "lillie.test(dados$mxPH)"
   ]
  },
  {
   "cell_type": "markdown",
   "metadata": {},
   "source": [
    "#### A variável mxPH pode ser considerada com distribuição normal com evidências do histograma e sua densidade estimada, assimetria e curtose, box-plot e a proporção de outlier chega perto de 5%, e um dos dois testes de hipóteses realizados não-rejeitam normalidade a nível de 1%, com isso o valor a ser imputado será a média."
   ]
  },
  {
   "cell_type": "code",
   "execution_count": null,
   "metadata": {},
   "outputs": [],
   "source": [
    "dados$mxPH[which(is.na(dados$mxPH))]=mean(dados$mxPH,na.rm=T)"
   ]
  },
  {
   "cell_type": "code",
   "execution_count": null,
   "metadata": {},
   "outputs": [],
   "source": [
    "apply(dados,2,function(x) sum(is.na(x)))"
   ]
  },
  {
   "cell_type": "markdown",
   "metadata": {},
   "source": [
    "### Variável mnO2"
   ]
  },
  {
   "cell_type": "code",
   "execution_count": 23,
   "metadata": {},
   "outputs": [
    {
     "name": "stderr",
     "output_type": "stream",
     "text": [
      "`stat_bin()` using `bins = 30`. Pick better value with `binwidth`.\n",
      "\n",
      "Warning message:\n",
      "\"Removed 1 rows containing non-finite values (stat_bin).\"\n",
      "Warning message:\n",
      "\"Removed 1 rows containing non-finite values (stat_density).\"\n"
     ]
    },
    {
     "data": {
      "image/png": "[encoded data removed]",
      "text/plain": [
       "plot without title"
      ]
     },
     "metadata": {
      "image/png": {
       "height": 420,
       "width": 420
      }
     },
     "output_type": "display_data"
    }
   ],
   "source": [
    "(ggplot(dados)+aes(mnO2)+geom_histogram(aes(y=..density..),color=\"black\",fill=\"#00AFBB\")\n",
    "  +geom_rug()+geom_density()+theme_test())"
   ]
  },
  {
   "cell_type": "code",
   "execution_count": null,
   "metadata": {},
   "outputs": [],
   "source": [
    "skewness(dados$mnO2,na.rm=T)\n",
    "kurtosis(dados$mnO2,na.rm=T)"
   ]
  },
  {
   "cell_type": "code",
   "execution_count": null,
   "metadata": {},
   "outputs": [],
   "source": [
    "(ggplot(dados)+aes(1,mnO2)+geom_boxplot(fill=\"#00AFBB\",color=\"black\")\n",
    "  +geom_rug()+geom_hline(aes(yintercept=mean(dados$mnO2,na.rm=T),color=\"red\")+theme_test()))"
   ]
  },
  {
   "cell_type": "code",
   "execution_count": null,
   "metadata": {},
   "outputs": [],
   "source": [
    "qqnorm(dados$mnO2)\n",
    "qqline(dados$mnO2,col=\"red\")"
   ]
  },
  {
   "cell_type": "code",
   "execution_count": null,
   "metadata": {},
   "outputs": [],
   "source": [
    "shapiro.test(dados$mnO2)\n",
    "lillie.test(dados$mnO2)"
   ]
  },
  {
   "cell_type": "markdown",
   "metadata": {},
   "source": [
    "#### A variável mnO2 não pode ser considerada com distribuição normal pelas evidências do histograma e sua densidade estimada, assimetria e curtose, box-plot e os dois testes de hipóteses realizados rejeitaram normalidade, com isso o valor a ser imputado será a mediana."
   ]
  },
  {
   "cell_type": "code",
   "execution_count": null,
   "metadata": {},
   "outputs": [],
   "source": [
    "x=which(is.na(dados$mnO2))\n",
    "dados$mnO2[x]=median(dados$mnO2,na.rm=T)"
   ]
  },
  {
   "cell_type": "code",
   "execution_count": null,
   "metadata": {},
   "outputs": [],
   "source": [
    "apply(dados,2,function(x) sum(is.na(x)))"
   ]
  },
  {
   "cell_type": "markdown",
   "metadata": {},
   "source": [
    "### Variável Cl"
   ]
  },
  {
   "cell_type": "code",
   "execution_count": null,
   "metadata": {},
   "outputs": [],
   "source": [
    "(ggplot(dados)+aes(Cl)+geom_histogram(aes(y=..density..),color=\"black\",fill=\"#00AFBB\")\n",
    "  +geom_rug()+geom_density()+theme_test())"
   ]
  },
  {
   "cell_type": "code",
   "execution_count": null,
   "metadata": {},
   "outputs": [],
   "source": [
    "skewness(dados$Cl,na.rm=T)\n",
    "kurtosis(dados$Cl,na.rm=T)"
   ]
  },
  {
   "cell_type": "code",
   "execution_count": null,
   "metadata": {},
   "outputs": [],
   "source": [
    "(ggplot(dados)+aes(1,Cl)+geom_boxplot(fill=\"#00AFBB\",color=\"black\")\n",
    "  +geom_rug()+geom_hline(aes(yintercept=mean(dados$Cl,na.rm=T),color=\"red\"))+theme_test())"
   ]
  },
  {
   "cell_type": "code",
   "execution_count": null,
   "metadata": {},
   "outputs": [],
   "source": [
    "qqnorm(dados$Cl)\n",
    "qqline(dados$Cl,col=\"red\")"
   ]
  },
  {
   "cell_type": "code",
   "execution_count": null,
   "metadata": {},
   "outputs": [],
   "source": [
    "shapiro.test(dados$Cl)\n",
    "lillie.test(dados$Cl)"
   ]
  },
  {
   "cell_type": "markdown",
   "metadata": {},
   "source": [
    "####  A variável Cl não pode ser considerada com distribuição normal pelas evidências do histograma e sua densidade estimada, assimetria e calda bem mais pesado que a normal, box-plot e os dois testes de hipóteses realizados rejeitaram normalidade, com isso o valor a ser imputado será a mediana por ser mais robusta nessa situação."
   ]
  },
  {
   "cell_type": "code",
   "execution_count": null,
   "metadata": {},
   "outputs": [],
   "source": [
    "dados$Cl[which(is.na(dados$Cl))]=median(dados$Cl,na.rm=T)"
   ]
  },
  {
   "cell_type": "code",
   "execution_count": null,
   "metadata": {},
   "outputs": [],
   "source": [
    "apply(dados,2,function(x) sum(is.na(x)))"
   ]
  },
  {
   "cell_type": "markdown",
   "metadata": {},
   "source": [
    "# Variável PO4"
   ]
  },
  {
   "cell_type": "code",
   "execution_count": null,
   "metadata": {},
   "outputs": [],
   "source": [
    "(ggplot(dados)+aes(PO4)+geom_histogram(aes(y=..density..),color=\"black\",fill=\"#00AFBB\")\n",
    "  +geom_rug()+geom_density()+theme_test())"
   ]
  },
  {
   "cell_type": "code",
   "execution_count": null,
   "metadata": {},
   "outputs": [],
   "source": [
    "skewness(dados$PO4,na.rm=T)\n",
    "kurtosis(dados$PO4,na.rm=T)"
   ]
  },
  {
   "cell_type": "code",
   "execution_count": null,
   "metadata": {},
   "outputs": [],
   "source": [
    "(ggplot(dados)+aes(1,PO4)+geom_boxplot(fill=\"#00AFBB\",color=\"black\")\n",
    "  +geom_rug()+geom_hline(aes(yintercept=mean(dados$PO4,na.rm=T),color=\"red\"))+theme_test())"
   ]
  },
  {
   "cell_type": "code",
   "execution_count": null,
   "metadata": {},
   "outputs": [],
   "source": [
    "qqnorm(dados$PO4)\n",
    "qqline(dados$PO4,col=\"red\")"
   ]
  },
  {
   "cell_type": "code",
   "execution_count": null,
   "metadata": {},
   "outputs": [],
   "source": [
    "shapiro.test(dados$PO4)\n",
    "lillie.test(dados$PO4)"
   ]
  },
  {
   "cell_type": "code",
   "execution_count": null,
   "metadata": {},
   "outputs": [],
   "source": [
    "dados$PO4[which(is.na(dados$PO4))]=median(dados$PO4,na.rm=T)"
   ]
  },
  {
   "cell_type": "code",
   "execution_count": null,
   "metadata": {},
   "outputs": [],
   "source": [
    "apply(dados,2,function(x) sum(is.na(x)))"
   ]
  },
  {
   "cell_type": "markdown",
   "metadata": {},
   "source": [
    "#### A variável PO4 não pode ser considerada com distribuição normal pelas evidências do histograma e sua densidade estimada, assimetria e calda bem mais pesado que a normal, box-plot e os dois testes de hipóteses realizados rejeitaram normalidade, com isso o valor a ser imputado será a mediana por ser mais robusta nessa situação.¶"
   ]
  },
  {
   "cell_type": "markdown",
   "metadata": {},
   "source": [
    "### Variável Chla"
   ]
  },
  {
   "cell_type": "code",
   "execution_count": null,
   "metadata": {},
   "outputs": [],
   "source": [
    "(ggplot(dados)+aes(Chla)+geom_histogram(aes(y=..density..),color=\"black\",fill=\"#00AFBB\")\n",
    "  +geom_rug()+geom_density())"
   ]
  },
  {
   "cell_type": "code",
   "execution_count": null,
   "metadata": {},
   "outputs": [],
   "source": [
    "skewness(dados$Chla,na.rm=T)\n",
    "kurtosis(dados$Chla,na.rm=T)"
   ]
  },
  {
   "cell_type": "code",
   "execution_count": null,
   "metadata": {},
   "outputs": [],
   "source": [
    "(ggplot(dados)+aes(1,Chla)+geom_boxplot(fill=\"#00AFBB\",color=\"black\")\n",
    "  +geom_rug()+geom_hline(aes(yintercept=mean(dados$Chla,na.rm=T),color=\"red\")))"
   ]
  },
  {
   "cell_type": "code",
   "execution_count": null,
   "metadata": {},
   "outputs": [],
   "source": [
    "qqnorm(dados$Chla)\n",
    "qqline(dados$Chla,col=\"red\")"
   ]
  },
  {
   "cell_type": "code",
   "execution_count": null,
   "metadata": {},
   "outputs": [],
   "source": [
    "shapiro.test(dados$Chla)\n",
    "lillie.test(dados$Chla)"
   ]
  },
  {
   "cell_type": "markdown",
   "metadata": {},
   "source": [
    "#### A variável Chla não pode ser considerada com distribuição normal pelas evidências do histograma e sua densidade estimada, assimetria e calda bem mais pesado que a normal, box-plot e os dois testes de hipóteses realizados rejeitaram normalidade, com isso o valor a ser imputado será a mediana por ser mais robusta nessa situação."
   ]
  },
  {
   "cell_type": "code",
   "execution_count": null,
   "metadata": {},
   "outputs": [],
   "source": [
    "dados$Chla[which(is.na(dados$Chla))]=median(dados$Chla,na.rm=T)"
   ]
  },
  {
   "cell_type": "code",
   "execution_count": null,
   "metadata": {},
   "outputs": [],
   "source": [
    "apply(dados,2,function(x) sum(is.na(x)))"
   ]
  },
  {
   "cell_type": "markdown",
   "metadata": {},
   "source": [
    "# Estimando pela correlação entre as variáveis"
   ]
  },
  {
   "cell_type": "code",
   "execution_count": 25,
   "metadata": {},
   "outputs": [
    {
     "data": {
      "text/html": [
       "<style>\n",
       ".dl-inline {width: auto; margin:0; padding: 0}\n",
       ".dl-inline>dt, .dl-inline>dd {float: none; width: auto; display: inline-block}\n",
       ".dl-inline>dt::after {content: \":\\0020\"; padding-right: .5ex}\n",
       ".dl-inline>dt:not(:first-of-type) {padding-left: .5ex}\n",
       "</style><dl class=dl-inline><dt>season</dt><dd>0</dd><dt>size</dt><dd>0</dd><dt>speed</dt><dd>0</dd><dt>mxPH</dt><dd>1</dd><dt>mnO2</dt><dd>1</dd><dt>Cl</dt><dd>8</dd><dt>NO3</dt><dd>0</dd><dt>NH4</dt><dd>0</dd><dt>oPO4</dt><dd>0</dd><dt>PO4</dt><dd>1</dd><dt>Chla</dt><dd>10</dd><dt>a1</dt><dd>0</dd><dt>a2</dt><dd>0</dd><dt>a3</dt><dd>0</dd><dt>a4</dt><dd>0</dd><dt>a5</dt><dd>0</dd><dt>a6</dt><dd>0</dd><dt>a7</dt><dd>0</dd></dl>\n"
      ],
      "text/latex": [
       "\\begin{description*}\n",
       "\\item[season] 0\n",
       "\\item[size] 0\n",
       "\\item[speed] 0\n",
       "\\item[mxPH] 1\n",
       "\\item[mnO2] 1\n",
       "\\item[Cl] 8\n",
       "\\item[NO3] 0\n",
       "\\item[NH4] 0\n",
       "\\item[oPO4] 0\n",
       "\\item[PO4] 1\n",
       "\\item[Chla] 10\n",
       "\\item[a1] 0\n",
       "\\item[a2] 0\n",
       "\\item[a3] 0\n",
       "\\item[a4] 0\n",
       "\\item[a5] 0\n",
       "\\item[a6] 0\n",
       "\\item[a7] 0\n",
       "\\end{description*}\n"
      ],
      "text/markdown": [
       "season\n",
       ":   0size\n",
       ":   0speed\n",
       ":   0mxPH\n",
       ":   1mnO2\n",
       ":   1Cl\n",
       ":   8NO3\n",
       ":   0NH4\n",
       ":   0oPO4\n",
       ":   0PO4\n",
       ":   1Chla\n",
       ":   10a1\n",
       ":   0a2\n",
       ":   0a3\n",
       ":   0a4\n",
       ":   0a5\n",
       ":   0a6\n",
       ":   0a7\n",
       ":   0\n",
       "\n"
      ],
      "text/plain": [
       "season   size  speed   mxPH   mnO2     Cl    NO3    NH4   oPO4    PO4   Chla \n",
       "     0      0      0      1      1      8      0      0      0      1     10 \n",
       "    a1     a2     a3     a4     a5     a6     a7 \n",
       "     0      0      0      0      0      0      0 "
      ]
     },
     "metadata": {},
     "output_type": "display_data"
    }
   ],
   "source": [
    "dados=algae[-c(62,199),]\n",
    "apply(dados,2,function(x) sum(is.na(x)))"
   ]
  },
  {
   "cell_type": "markdown",
   "metadata": {},
   "source": [
    "# Matriz de correlações"
   ]
  },
  {
   "cell_type": "code",
   "execution_count": 27,
   "metadata": {},
   "outputs": [
    {
     "data": {
      "text/plain": [
       "     mP mO Cl NO NH o P Ch a1 a2 a3 a4 a5 a6 a7\n",
       "mxPH 1                                         \n",
       "mnO2    1                                      \n",
       "Cl         1                                   \n",
       "NO3           1                                \n",
       "NH4           ,  1                             \n",
       "oPO4    .  .        1                          \n",
       "PO4     .  .        * 1                        \n",
       "Chla .                  1                      \n",
       "a1         .        . .    1                   \n",
       "a2   .                  .     1                \n",
       "a3                               1             \n",
       "a4      .           . .             1          \n",
       "a5                                     1       \n",
       "a6            .  .                     .  1    \n",
       "a7                                           1 \n",
       "attr(,\"legend\")\n",
       "[1] 0 ' ' 0.3 '.' 0.6 ',' 0.8 '+' 0.9 '*' 0.95 'B' 1"
      ]
     },
     "metadata": {},
     "output_type": "display_data"
    }
   ],
   "source": [
    "symnum(cor(dados[,4:18],use=\"complete.obs\"))"
   ]
  },
  {
   "cell_type": "markdown",
   "metadata": {},
   "source": [
    "### Variável PO4"
   ]
  },
  {
   "cell_type": "code",
   "execution_count": 34,
   "metadata": {},
   "outputs": [
    {
     "data": {
      "text/html": [
       "0.914365184272872"
      ],
      "text/latex": [
       "0.914365184272872"
      ],
      "text/markdown": [
       "0.914365184272872"
      ],
      "text/plain": [
       "[1] 0.9143652"
      ]
     },
     "metadata": {},
     "output_type": "display_data"
    }
   ],
   "source": [
    "cor(dados$PO4, dados$oPO4, use = \"complete.obs\")"
   ]
  },
  {
   "cell_type": "code",
   "execution_count": 37,
   "metadata": {},
   "outputs": [
    {
     "name": "stderr",
     "output_type": "stream",
     "text": [
      "`geom_smooth()` using formula 'y ~ x'\n",
      "\n",
      "Warning message:\n",
      "\"Removed 1 rows containing non-finite values (stat_smooth).\"\n",
      "Warning message:\n",
      "\"Removed 1 rows containing missing values (geom_point).\"\n"
     ]
    },
    {
     "data": {
      "image/png": "[encoded data removed]",
      "text/plain": [
       "plot without title"
      ]
     },
     "metadata": {
      "image/png": {
       "height": 420,
       "width": 420
      }
     },
     "output_type": "display_data"
    }
   ],
   "source": [
    "ggplot(dados)+aes(oPO4,PO4)+geom_point()+geom_smooth(method=\"lm\",se=F)+theme_test()"
   ]
  },
  {
   "cell_type": "code",
   "execution_count": 35,
   "metadata": {},
   "outputs": [
    {
     "data": {
      "text/plain": [
       "\n",
       "Call:\n",
       "lm(formula = dados$PO4 ~ dados$oPO4, data = dados)\n",
       "\n",
       "Residuals:\n",
       "    Min      1Q  Median      3Q     Max \n",
       "-110.12  -36.34  -12.68   23.26  216.98 \n",
       "\n",
       "Coefficients:\n",
       "            Estimate Std. Error t value Pr(>|t|)    \n",
       "(Intercept)   42.897      4.808   8.922 3.34e-16 ***\n",
       "dados$oPO4     1.293      0.041  31.535  < 2e-16 ***\n",
       "---\n",
       "Signif. codes:  0 '***' 0.001 '**' 0.01 '*' 0.05 '.' 0.1 ' ' 1\n",
       "\n",
       "Residual standard error: 52.37 on 195 degrees of freedom\n",
       "  (1 observation deleted due to missingness)\n",
       "Multiple R-squared:  0.8361,\tAdjusted R-squared:  0.8352 \n",
       "F-statistic: 994.5 on 1 and 195 DF,  p-value: < 2.2e-16\n"
      ]
     },
     "metadata": {},
     "output_type": "display_data"
    }
   ],
   "source": [
    "model=lm(dados$PO4 ~ dados$oPO4, data=dados)\n",
    "summary(model)"
   ]
  },
  {
   "cell_type": "code",
   "execution_count": 39,
   "metadata": {},
   "outputs": [],
   "source": [
    "pos=which(is.na(dados$PO4))\n",
    "dados$PO4[pos]=model$coefficients%*%t(t(c(1,dados$oPO4[pos])))"
   ]
  },
  {
   "cell_type": "code",
   "execution_count": 40,
   "metadata": {},
   "outputs": [
    {
     "data": {
      "text/html": [
       "<style>\n",
       ".dl-inline {width: auto; margin:0; padding: 0}\n",
       ".dl-inline>dt, .dl-inline>dd {float: none; width: auto; display: inline-block}\n",
       ".dl-inline>dt::after {content: \":\\0020\"; padding-right: .5ex}\n",
       ".dl-inline>dt:not(:first-of-type) {padding-left: .5ex}\n",
       "</style><dl class=dl-inline><dt>season</dt><dd>0</dd><dt>size</dt><dd>0</dd><dt>speed</dt><dd>0</dd><dt>mxPH</dt><dd>1</dd><dt>mnO2</dt><dd>1</dd><dt>Cl</dt><dd>8</dd><dt>NO3</dt><dd>0</dd><dt>NH4</dt><dd>0</dd><dt>oPO4</dt><dd>0</dd><dt>PO4</dt><dd>0</dd><dt>Chla</dt><dd>10</dd><dt>a1</dt><dd>0</dd><dt>a2</dt><dd>0</dd><dt>a3</dt><dd>0</dd><dt>a4</dt><dd>0</dd><dt>a5</dt><dd>0</dd><dt>a6</dt><dd>0</dd><dt>a7</dt><dd>0</dd></dl>\n"
      ],
      "text/latex": [
       "\\begin{description*}\n",
       "\\item[season] 0\n",
       "\\item[size] 0\n",
       "\\item[speed] 0\n",
       "\\item[mxPH] 1\n",
       "\\item[mnO2] 1\n",
       "\\item[Cl] 8\n",
       "\\item[NO3] 0\n",
       "\\item[NH4] 0\n",
       "\\item[oPO4] 0\n",
       "\\item[PO4] 0\n",
       "\\item[Chla] 10\n",
       "\\item[a1] 0\n",
       "\\item[a2] 0\n",
       "\\item[a3] 0\n",
       "\\item[a4] 0\n",
       "\\item[a5] 0\n",
       "\\item[a6] 0\n",
       "\\item[a7] 0\n",
       "\\end{description*}\n"
      ],
      "text/markdown": [
       "season\n",
       ":   0size\n",
       ":   0speed\n",
       ":   0mxPH\n",
       ":   1mnO2\n",
       ":   1Cl\n",
       ":   8NO3\n",
       ":   0NH4\n",
       ":   0oPO4\n",
       ":   0PO4\n",
       ":   0Chla\n",
       ":   10a1\n",
       ":   0a2\n",
       ":   0a3\n",
       ":   0a4\n",
       ":   0a5\n",
       ":   0a6\n",
       ":   0a7\n",
       ":   0\n",
       "\n"
      ],
      "text/plain": [
       "season   size  speed   mxPH   mnO2     Cl    NO3    NH4   oPO4    PO4   Chla \n",
       "     0      0      0      1      1      8      0      0      0      0     10 \n",
       "    a1     a2     a3     a4     a5     a6     a7 \n",
       "     0      0      0      0      0      0      0 "
      ]
     },
     "metadata": {},
     "output_type": "display_data"
    }
   ],
   "source": [
    "apply(dados,2,function(x) sum(is.na(x)))"
   ]
  },
  {
   "cell_type": "markdown",
   "metadata": {},
   "source": [
    "### Variável Chla"
   ]
  },
  {
   "cell_type": "code",
   "execution_count": 41,
   "metadata": {},
   "outputs": [
    {
     "data": {
      "text/html": [
       "0.445961816135677"
      ],
      "text/latex": [
       "0.445961816135677"
      ],
      "text/markdown": [
       "0.445961816135677"
      ],
      "text/plain": [
       "[1] 0.4459618"
      ]
     },
     "metadata": {},
     "output_type": "display_data"
    }
   ],
   "source": [
    "cor(dados$mxPH, dados$Chla, use = \"complete.obs\")"
   ]
  },
  {
   "cell_type": "code",
   "execution_count": 43,
   "metadata": {},
   "outputs": [
    {
     "name": "stderr",
     "output_type": "stream",
     "text": [
      "`geom_smooth()` using formula 'y ~ x'\n",
      "\n",
      "Warning message:\n",
      "\"Removed 11 rows containing non-finite values (stat_smooth).\"\n",
      "Warning message:\n",
      "\"Removed 11 rows containing missing values (geom_point).\"\n"
     ]
    },
    {
     "data": {
      "image/png": "[encoded data removed]",
      "text/plain": [
       "plot without title"
      ]
     },
     "metadata": {
      "image/png": {
       "height": 420,
       "width": 420
      }
     },
     "output_type": "display_data"
    }
   ],
   "source": [
    "ggplot(dados)+aes(mxPH,Chla)+geom_point()+geom_smooth(method=\"lm\",se=F)+theme_test()"
   ]
  },
  {
   "cell_type": "code",
   "execution_count": 44,
   "metadata": {},
   "outputs": [
    {
     "data": {
      "text/plain": [
       "\n",
       "Call:\n",
       "lm(formula = dados$Chla ~ dados$mxPH, data = dados)\n",
       "\n",
       "Residuals:\n",
       "    Min      1Q  Median      3Q     Max \n",
       "-24.894 -10.937  -3.795   4.102  78.864 \n",
       "\n",
       "Coefficients:\n",
       "            Estimate Std. Error t value Pr(>|t|)    \n",
       "(Intercept) -139.365     22.676  -6.146 4.77e-09 ***\n",
       "dados$mxPH    18.995      2.803   6.777 1.59e-10 ***\n",
       "---\n",
       "Signif. codes:  0 '***' 0.001 '**' 0.01 '*' 0.05 '.' 0.1 ' ' 1\n",
       "\n",
       "Residual standard error: 18.42 on 185 degrees of freedom\n",
       "  (11 observations deleted due to missingness)\n",
       "Multiple R-squared:  0.1989,\tAdjusted R-squared:  0.1946 \n",
       "F-statistic: 45.93 on 1 and 185 DF,  p-value: 1.59e-10\n"
      ]
     },
     "metadata": {},
     "output_type": "display_data"
    }
   ],
   "source": [
    "model=lm(dados$Chla ~ dados$mxPH, data=dados)\n",
    "summary(model)"
   ]
  },
  {
   "cell_type": "code",
   "execution_count": 45,
   "metadata": {},
   "outputs": [],
   "source": [
    "pos=which(is.na(dados$Chla))\n",
    "dados$Chla[pos]=cbind(rep(1,length(pos)),dados$mxPH[pos])%*%t(t(model$coefficients))"
   ]
  },
  {
   "cell_type": "code",
   "execution_count": 46,
   "metadata": {},
   "outputs": [
    {
     "data": {
      "text/html": [
       "<style>\n",
       ".dl-inline {width: auto; margin:0; padding: 0}\n",
       ".dl-inline>dt, .dl-inline>dd {float: none; width: auto; display: inline-block}\n",
       ".dl-inline>dt::after {content: \":\\0020\"; padding-right: .5ex}\n",
       ".dl-inline>dt:not(:first-of-type) {padding-left: .5ex}\n",
       "</style><dl class=dl-inline><dt>season</dt><dd>0</dd><dt>size</dt><dd>0</dd><dt>speed</dt><dd>0</dd><dt>mxPH</dt><dd>1</dd><dt>mnO2</dt><dd>1</dd><dt>Cl</dt><dd>8</dd><dt>NO3</dt><dd>0</dd><dt>NH4</dt><dd>0</dd><dt>oPO4</dt><dd>0</dd><dt>PO4</dt><dd>0</dd><dt>Chla</dt><dd>0</dd><dt>a1</dt><dd>0</dd><dt>a2</dt><dd>0</dd><dt>a3</dt><dd>0</dd><dt>a4</dt><dd>0</dd><dt>a5</dt><dd>0</dd><dt>a6</dt><dd>0</dd><dt>a7</dt><dd>0</dd></dl>\n"
      ],
      "text/latex": [
       "\\begin{description*}\n",
       "\\item[season] 0\n",
       "\\item[size] 0\n",
       "\\item[speed] 0\n",
       "\\item[mxPH] 1\n",
       "\\item[mnO2] 1\n",
       "\\item[Cl] 8\n",
       "\\item[NO3] 0\n",
       "\\item[NH4] 0\n",
       "\\item[oPO4] 0\n",
       "\\item[PO4] 0\n",
       "\\item[Chla] 0\n",
       "\\item[a1] 0\n",
       "\\item[a2] 0\n",
       "\\item[a3] 0\n",
       "\\item[a4] 0\n",
       "\\item[a5] 0\n",
       "\\item[a6] 0\n",
       "\\item[a7] 0\n",
       "\\end{description*}\n"
      ],
      "text/markdown": [
       "season\n",
       ":   0size\n",
       ":   0speed\n",
       ":   0mxPH\n",
       ":   1mnO2\n",
       ":   1Cl\n",
       ":   8NO3\n",
       ":   0NH4\n",
       ":   0oPO4\n",
       ":   0PO4\n",
       ":   0Chla\n",
       ":   0a1\n",
       ":   0a2\n",
       ":   0a3\n",
       ":   0a4\n",
       ":   0a5\n",
       ":   0a6\n",
       ":   0a7\n",
       ":   0\n",
       "\n"
      ],
      "text/plain": [
       "season   size  speed   mxPH   mnO2     Cl    NO3    NH4   oPO4    PO4   Chla \n",
       "     0      0      0      1      1      8      0      0      0      0      0 \n",
       "    a1     a2     a3     a4     a5     a6     a7 \n",
       "     0      0      0      0      0      0      0 "
      ]
     },
     "metadata": {},
     "output_type": "display_data"
    }
   ],
   "source": [
    "apply(dados,2,function(x) sum(is.na(x)))"
   ]
  },
  {
   "cell_type": "markdown",
   "metadata": {},
   "source": [
    "# Variável mxPH"
   ]
  },
  {
   "cell_type": "code",
   "execution_count": 47,
   "metadata": {},
   "outputs": [
    {
     "data": {
      "text/html": [
       "0.530784473450774"
      ],
      "text/latex": [
       "0.530784473450774"
      ],
      "text/markdown": [
       "0.530784473450774"
      ],
      "text/plain": [
       "[1] 0.5307845"
      ]
     },
     "metadata": {},
     "output_type": "display_data"
    }
   ],
   "source": [
    "cor(dados$mxPH, dados$Chla, use = \"complete.obs\")"
   ]
  },
  {
   "cell_type": "code",
   "execution_count": 48,
   "metadata": {},
   "outputs": [
    {
     "name": "stderr",
     "output_type": "stream",
     "text": [
      "`geom_smooth()` using formula 'y ~ x'\n",
      "\n",
      "Warning message:\n",
      "\"Removed 1 rows containing non-finite values (stat_smooth).\"\n",
      "Warning message:\n",
      "\"Removed 1 rows containing missing values (geom_point).\"\n"
     ]
    },
    {
     "data": {
      "image/png": "[encoded data removed]",
      "text/plain": [
       "plot without title"
      ]
     },
     "metadata": {
      "image/png": {
       "height": 420,
       "width": 420
      }
     },
     "output_type": "display_data"
    }
   ],
   "source": [
    "ggplot(dados)+aes(Chla,mxPH)+geom_point()+geom_smooth(method=\"lm\",se=F)+theme_test()"
   ]
  },
  {
   "cell_type": "code",
   "execution_count": 49,
   "metadata": {},
   "outputs": [
    {
     "data": {
      "text/plain": [
       "\n",
       "Call:\n",
       "lm(formula = dados$mxPH ~ dados$Chla, data = dados)\n",
       "\n",
       "Residuals:\n",
       "     Min       1Q   Median       3Q      Max \n",
       "-1.73819 -0.32837  0.07676  0.35335  1.20671 \n",
       "\n",
       "Coefficients:\n",
       "            Estimate Std. Error t value Pr(>|t|)    \n",
       "(Intercept) 7.827511   0.041961 186.543  < 2e-16 ***\n",
       "dados$Chla  0.014832   0.001696   8.746 1.03e-15 ***\n",
       "---\n",
       "Signif. codes:  0 '***' 0.001 '**' 0.01 '*' 0.05 '.' 0.1 ' ' 1\n",
       "\n",
       "Residual standard error: 0.5015 on 195 degrees of freedom\n",
       "  (1 observation deleted due to missingness)\n",
       "Multiple R-squared:  0.2817,\tAdjusted R-squared:  0.278 \n",
       "F-statistic: 76.49 on 1 and 195 DF,  p-value: 1.033e-15\n"
      ]
     },
     "metadata": {},
     "output_type": "display_data"
    }
   ],
   "source": [
    "model=lm(dados$mxPH ~ dados$Chla, data=dados)\n",
    "summary(model)"
   ]
  },
  {
   "cell_type": "code",
   "execution_count": 50,
   "metadata": {},
   "outputs": [],
   "source": [
    "pos=which(is.na(dados$mxPH))\n",
    "dados$mxPH[pos]=cbind(rep(1,length(pos)),dados$Chla[pos])%*%t(t(model$coefficients))"
   ]
  },
  {
   "cell_type": "code",
   "execution_count": 51,
   "metadata": {},
   "outputs": [
    {
     "data": {
      "text/html": [
       "<style>\n",
       ".dl-inline {width: auto; margin:0; padding: 0}\n",
       ".dl-inline>dt, .dl-inline>dd {float: none; width: auto; display: inline-block}\n",
       ".dl-inline>dt::after {content: \":\\0020\"; padding-right: .5ex}\n",
       ".dl-inline>dt:not(:first-of-type) {padding-left: .5ex}\n",
       "</style><dl class=dl-inline><dt>season</dt><dd>0</dd><dt>size</dt><dd>0</dd><dt>speed</dt><dd>0</dd><dt>mxPH</dt><dd>0</dd><dt>mnO2</dt><dd>1</dd><dt>Cl</dt><dd>8</dd><dt>NO3</dt><dd>0</dd><dt>NH4</dt><dd>0</dd><dt>oPO4</dt><dd>0</dd><dt>PO4</dt><dd>0</dd><dt>Chla</dt><dd>0</dd><dt>a1</dt><dd>0</dd><dt>a2</dt><dd>0</dd><dt>a3</dt><dd>0</dd><dt>a4</dt><dd>0</dd><dt>a5</dt><dd>0</dd><dt>a6</dt><dd>0</dd><dt>a7</dt><dd>0</dd></dl>\n"
      ],
      "text/latex": [
       "\\begin{description*}\n",
       "\\item[season] 0\n",
       "\\item[size] 0\n",
       "\\item[speed] 0\n",
       "\\item[mxPH] 0\n",
       "\\item[mnO2] 1\n",
       "\\item[Cl] 8\n",
       "\\item[NO3] 0\n",
       "\\item[NH4] 0\n",
       "\\item[oPO4] 0\n",
       "\\item[PO4] 0\n",
       "\\item[Chla] 0\n",
       "\\item[a1] 0\n",
       "\\item[a2] 0\n",
       "\\item[a3] 0\n",
       "\\item[a4] 0\n",
       "\\item[a5] 0\n",
       "\\item[a6] 0\n",
       "\\item[a7] 0\n",
       "\\end{description*}\n"
      ],
      "text/markdown": [
       "season\n",
       ":   0size\n",
       ":   0speed\n",
       ":   0mxPH\n",
       ":   0mnO2\n",
       ":   1Cl\n",
       ":   8NO3\n",
       ":   0NH4\n",
       ":   0oPO4\n",
       ":   0PO4\n",
       ":   0Chla\n",
       ":   0a1\n",
       ":   0a2\n",
       ":   0a3\n",
       ":   0a4\n",
       ":   0a5\n",
       ":   0a6\n",
       ":   0a7\n",
       ":   0\n",
       "\n"
      ],
      "text/plain": [
       "season   size  speed   mxPH   mnO2     Cl    NO3    NH4   oPO4    PO4   Chla \n",
       "     0      0      0      0      1      8      0      0      0      0      0 \n",
       "    a1     a2     a3     a4     a5     a6     a7 \n",
       "     0      0      0      0      0      0      0 "
      ]
     },
     "metadata": {},
     "output_type": "display_data"
    }
   ],
   "source": [
    "apply(dados,2,function(x) sum(is.na(x)))"
   ]
  },
  {
   "cell_type": "markdown",
   "metadata": {},
   "source": [
    "# Variável Cl"
   ]
  },
  {
   "cell_type": "code",
   "execution_count": 53,
   "metadata": {},
   "outputs": [
    {
     "data": {
      "text/html": [
       "0.459013872867477"
      ],
      "text/latex": [
       "0.459013872867477"
      ],
      "text/markdown": [
       "0.459013872867477"
      ],
      "text/plain": [
       "[1] 0.4590139"
      ]
     },
     "metadata": {},
     "output_type": "display_data"
    }
   ],
   "source": [
    "cor(dados$Cl, dados$PO4, use = \"complete.obs\")"
   ]
  },
  {
   "cell_type": "code",
   "execution_count": 54,
   "metadata": {},
   "outputs": [
    {
     "name": "stderr",
     "output_type": "stream",
     "text": [
      "`geom_smooth()` using formula 'y ~ x'\n",
      "\n",
      "Warning message:\n",
      "\"Removed 8 rows containing non-finite values (stat_smooth).\"\n",
      "Warning message:\n",
      "\"Removed 8 rows containing missing values (geom_point).\"\n"
     ]
    },
    {
     "data": {
      "image/png": "[encoded data removed]",
      "text/plain": [
       "plot without title"
      ]
     },
     "metadata": {
      "image/png": {
       "height": 420,
       "width": 420
      }
     },
     "output_type": "display_data"
    }
   ],
   "source": [
    "ggplot(dados)+aes(PO4,Cl)+geom_point()+geom_smooth(method=\"lm\",se=F)+theme_test()"
   ]
  },
  {
   "cell_type": "code",
   "execution_count": 55,
   "metadata": {},
   "outputs": [
    {
     "data": {
      "text/plain": [
       "\n",
       "Call:\n",
       "lm(formula = dados$Cl ~ dados$PO4, data = dados)\n",
       "\n",
       "Residuals:\n",
       "   Min     1Q Median     3Q    Max \n",
       "-84.47 -19.31 -12.22   8.83 318.80 \n",
       "\n",
       "Coefficients:\n",
       "            Estimate Std. Error t value Pr(>|t|)    \n",
       "(Intercept) 19.86369    4.51893   4.396 1.84e-05 ***\n",
       "dados$PO4    0.16667    0.02353   7.084 2.72e-11 ***\n",
       "---\n",
       "Signif. codes:  0 '***' 0.001 '**' 0.01 '*' 0.05 '.' 0.1 ' ' 1\n",
       "\n",
       "Residual standard error: 41.72 on 188 degrees of freedom\n",
       "  (8 observations deleted due to missingness)\n",
       "Multiple R-squared:  0.2107,\tAdjusted R-squared:  0.2065 \n",
       "F-statistic: 50.18 on 1 and 188 DF,  p-value: 2.725e-11\n"
      ]
     },
     "metadata": {},
     "output_type": "display_data"
    }
   ],
   "source": [
    "model=lm(dados$Cl ~ dados$PO4, data=dados)\n",
    "summary(model)"
   ]
  },
  {
   "cell_type": "code",
   "execution_count": 56,
   "metadata": {},
   "outputs": [],
   "source": [
    "pos=which(is.na(dados$Cl))\n",
    "dados$Cl[pos]=cbind(rep(1,length(pos)),dados$PO4[pos])%*%t(t(model$coefficients))"
   ]
  },
  {
   "cell_type": "code",
   "execution_count": 57,
   "metadata": {},
   "outputs": [
    {
     "data": {
      "text/html": [
       "<style>\n",
       ".dl-inline {width: auto; margin:0; padding: 0}\n",
       ".dl-inline>dt, .dl-inline>dd {float: none; width: auto; display: inline-block}\n",
       ".dl-inline>dt::after {content: \":\\0020\"; padding-right: .5ex}\n",
       ".dl-inline>dt:not(:first-of-type) {padding-left: .5ex}\n",
       "</style><dl class=dl-inline><dt>season</dt><dd>0</dd><dt>size</dt><dd>0</dd><dt>speed</dt><dd>0</dd><dt>mxPH</dt><dd>0</dd><dt>mnO2</dt><dd>1</dd><dt>Cl</dt><dd>0</dd><dt>NO3</dt><dd>0</dd><dt>NH4</dt><dd>0</dd><dt>oPO4</dt><dd>0</dd><dt>PO4</dt><dd>0</dd><dt>Chla</dt><dd>0</dd><dt>a1</dt><dd>0</dd><dt>a2</dt><dd>0</dd><dt>a3</dt><dd>0</dd><dt>a4</dt><dd>0</dd><dt>a5</dt><dd>0</dd><dt>a6</dt><dd>0</dd><dt>a7</dt><dd>0</dd></dl>\n"
      ],
      "text/latex": [
       "\\begin{description*}\n",
       "\\item[season] 0\n",
       "\\item[size] 0\n",
       "\\item[speed] 0\n",
       "\\item[mxPH] 0\n",
       "\\item[mnO2] 1\n",
       "\\item[Cl] 0\n",
       "\\item[NO3] 0\n",
       "\\item[NH4] 0\n",
       "\\item[oPO4] 0\n",
       "\\item[PO4] 0\n",
       "\\item[Chla] 0\n",
       "\\item[a1] 0\n",
       "\\item[a2] 0\n",
       "\\item[a3] 0\n",
       "\\item[a4] 0\n",
       "\\item[a5] 0\n",
       "\\item[a6] 0\n",
       "\\item[a7] 0\n",
       "\\end{description*}\n"
      ],
      "text/markdown": [
       "season\n",
       ":   0size\n",
       ":   0speed\n",
       ":   0mxPH\n",
       ":   0mnO2\n",
       ":   1Cl\n",
       ":   0NO3\n",
       ":   0NH4\n",
       ":   0oPO4\n",
       ":   0PO4\n",
       ":   0Chla\n",
       ":   0a1\n",
       ":   0a2\n",
       ":   0a3\n",
       ":   0a4\n",
       ":   0a5\n",
       ":   0a6\n",
       ":   0a7\n",
       ":   0\n",
       "\n"
      ],
      "text/plain": [
       "season   size  speed   mxPH   mnO2     Cl    NO3    NH4   oPO4    PO4   Chla \n",
       "     0      0      0      0      1      0      0      0      0      0      0 \n",
       "    a1     a2     a3     a4     a5     a6     a7 \n",
       "     0      0      0      0      0      0      0 "
      ]
     },
     "metadata": {},
     "output_type": "display_data"
    }
   ],
   "source": [
    "apply(dados,2,function(x) sum(is.na(x)))"
   ]
  },
  {
   "cell_type": "markdown",
   "metadata": {},
   "source": [
    "# Variável mnO2"
   ]
  },
  {
   "cell_type": "code",
   "execution_count": 58,
   "metadata": {},
   "outputs": [
    {
     "data": {
      "text/html": [
       "-0.48899314156285"
      ],
      "text/latex": [
       "-0.48899314156285"
      ],
      "text/markdown": [
       "-0.48899314156285"
      ],
      "text/plain": [
       "[1] -0.4889931"
      ]
     },
     "metadata": {},
     "output_type": "display_data"
    }
   ],
   "source": [
    "cor(dados$mnO2, dados$PO4, use = \"complete.obs\")"
   ]
  },
  {
   "cell_type": "code",
   "execution_count": 59,
   "metadata": {},
   "outputs": [
    {
     "name": "stderr",
     "output_type": "stream",
     "text": [
      "`geom_smooth()` using formula 'y ~ x'\n",
      "\n",
      "Warning message:\n",
      "\"Removed 1 rows containing non-finite values (stat_smooth).\"\n",
      "Warning message:\n",
      "\"Removed 1 rows containing missing values (geom_point).\"\n"
     ]
    },
    {
     "data": {
      "image/png": "[encoded data removed]",
      "text/plain": [
       "plot without title"
      ]
     },
     "metadata": {
      "image/png": {
       "height": 420,
       "width": 420
      }
     },
     "output_type": "display_data"
    }
   ],
   "source": [
    "ggplot(dados)+aes(PO4,mnO2)+geom_point()+geom_smooth(method=\"lm\",se=F)+theme_test()"
   ]
  },
  {
   "cell_type": "code",
   "execution_count": 60,
   "metadata": {},
   "outputs": [
    {
     "data": {
      "text/plain": [
       "\n",
       "Call:\n",
       "lm(formula = dados$mnO2 ~ dados$PO4, data = dados)\n",
       "\n",
       "Residuals:\n",
       "    Min      1Q  Median      3Q     Max \n",
       "-6.3413 -1.1655  0.3462  1.3995  5.6406 \n",
       "\n",
       "Coefficients:\n",
       "             Estimate Std. Error t value Pr(>|t|)    \n",
       "(Intercept) 10.386779   0.219605  47.297  < 2e-16 ***\n",
       "dados$PO4   -0.009091   0.001161  -7.828 3.08e-13 ***\n",
       "---\n",
       "Signif. codes:  0 '***' 0.001 '**' 0.01 '*' 0.05 '.' 0.1 ' ' 1\n",
       "\n",
       "Residual standard error: 2.094 on 195 degrees of freedom\n",
       "  (1 observation deleted due to missingness)\n",
       "Multiple R-squared:  0.2391,\tAdjusted R-squared:  0.2352 \n",
       "F-statistic: 61.28 on 1 and 195 DF,  p-value: 3.083e-13\n"
      ]
     },
     "metadata": {},
     "output_type": "display_data"
    }
   ],
   "source": [
    "model=lm(dados$mnO2 ~ dados$PO4, data=dados)\n",
    "summary(model)"
   ]
  },
  {
   "cell_type": "code",
   "execution_count": 61,
   "metadata": {},
   "outputs": [],
   "source": [
    "pos=which(is.na(dados$mnO2))\n",
    "dados$mnO2[pos]=cbind(rep(1,length(pos)),dados$PO4[pos])%*%t(t(model$coefficients))"
   ]
  },
  {
   "cell_type": "code",
   "execution_count": 62,
   "metadata": {},
   "outputs": [
    {
     "data": {
      "text/html": [
       "<style>\n",
       ".dl-inline {width: auto; margin:0; padding: 0}\n",
       ".dl-inline>dt, .dl-inline>dd {float: none; width: auto; display: inline-block}\n",
       ".dl-inline>dt::after {content: \":\\0020\"; padding-right: .5ex}\n",
       ".dl-inline>dt:not(:first-of-type) {padding-left: .5ex}\n",
       "</style><dl class=dl-inline><dt>season</dt><dd>0</dd><dt>size</dt><dd>0</dd><dt>speed</dt><dd>0</dd><dt>mxPH</dt><dd>0</dd><dt>mnO2</dt><dd>0</dd><dt>Cl</dt><dd>0</dd><dt>NO3</dt><dd>0</dd><dt>NH4</dt><dd>0</dd><dt>oPO4</dt><dd>0</dd><dt>PO4</dt><dd>0</dd><dt>Chla</dt><dd>0</dd><dt>a1</dt><dd>0</dd><dt>a2</dt><dd>0</dd><dt>a3</dt><dd>0</dd><dt>a4</dt><dd>0</dd><dt>a5</dt><dd>0</dd><dt>a6</dt><dd>0</dd><dt>a7</dt><dd>0</dd></dl>\n"
      ],
      "text/latex": [
       "\\begin{description*}\n",
       "\\item[season] 0\n",
       "\\item[size] 0\n",
       "\\item[speed] 0\n",
       "\\item[mxPH] 0\n",
       "\\item[mnO2] 0\n",
       "\\item[Cl] 0\n",
       "\\item[NO3] 0\n",
       "\\item[NH4] 0\n",
       "\\item[oPO4] 0\n",
       "\\item[PO4] 0\n",
       "\\item[Chla] 0\n",
       "\\item[a1] 0\n",
       "\\item[a2] 0\n",
       "\\item[a3] 0\n",
       "\\item[a4] 0\n",
       "\\item[a5] 0\n",
       "\\item[a6] 0\n",
       "\\item[a7] 0\n",
       "\\end{description*}\n"
      ],
      "text/markdown": [
       "season\n",
       ":   0size\n",
       ":   0speed\n",
       ":   0mxPH\n",
       ":   0mnO2\n",
       ":   0Cl\n",
       ":   0NO3\n",
       ":   0NH4\n",
       ":   0oPO4\n",
       ":   0PO4\n",
       ":   0Chla\n",
       ":   0a1\n",
       ":   0a2\n",
       ":   0a3\n",
       ":   0a4\n",
       ":   0a5\n",
       ":   0a6\n",
       ":   0a7\n",
       ":   0\n",
       "\n"
      ],
      "text/plain": [
       "season   size  speed   mxPH   mnO2     Cl    NO3    NH4   oPO4    PO4   Chla \n",
       "     0      0      0      0      0      0      0      0      0      0      0 \n",
       "    a1     a2     a3     a4     a5     a6     a7 \n",
       "     0      0      0      0      0      0      0 "
      ]
     },
     "metadata": {},
     "output_type": "display_data"
    }
   ],
   "source": [
    "apply(dados,2,function(x) sum(is.na(x)))"
   ]
  },
  {
   "cell_type": "markdown",
   "metadata": {},
   "source": [
    "# Imputação KNN"
   ]
  },
  {
   "cell_type": "code",
   "execution_count": 63,
   "metadata": {},
   "outputs": [
    {
     "data": {
      "text/html": [
       "<style>\n",
       ".dl-inline {width: auto; margin:0; padding: 0}\n",
       ".dl-inline>dt, .dl-inline>dd {float: none; width: auto; display: inline-block}\n",
       ".dl-inline>dt::after {content: \":\\0020\"; padding-right: .5ex}\n",
       ".dl-inline>dt:not(:first-of-type) {padding-left: .5ex}\n",
       "</style><dl class=dl-inline><dt>season</dt><dd>0</dd><dt>size</dt><dd>0</dd><dt>speed</dt><dd>0</dd><dt>mxPH</dt><dd>1</dd><dt>mnO2</dt><dd>1</dd><dt>Cl</dt><dd>8</dd><dt>NO3</dt><dd>0</dd><dt>NH4</dt><dd>0</dd><dt>oPO4</dt><dd>0</dd><dt>PO4</dt><dd>1</dd><dt>Chla</dt><dd>10</dd><dt>a1</dt><dd>0</dd><dt>a2</dt><dd>0</dd><dt>a3</dt><dd>0</dd><dt>a4</dt><dd>0</dd><dt>a5</dt><dd>0</dd><dt>a6</dt><dd>0</dd><dt>a7</dt><dd>0</dd></dl>\n"
      ],
      "text/latex": [
       "\\begin{description*}\n",
       "\\item[season] 0\n",
       "\\item[size] 0\n",
       "\\item[speed] 0\n",
       "\\item[mxPH] 1\n",
       "\\item[mnO2] 1\n",
       "\\item[Cl] 8\n",
       "\\item[NO3] 0\n",
       "\\item[NH4] 0\n",
       "\\item[oPO4] 0\n",
       "\\item[PO4] 1\n",
       "\\item[Chla] 10\n",
       "\\item[a1] 0\n",
       "\\item[a2] 0\n",
       "\\item[a3] 0\n",
       "\\item[a4] 0\n",
       "\\item[a5] 0\n",
       "\\item[a6] 0\n",
       "\\item[a7] 0\n",
       "\\end{description*}\n"
      ],
      "text/markdown": [
       "season\n",
       ":   0size\n",
       ":   0speed\n",
       ":   0mxPH\n",
       ":   1mnO2\n",
       ":   1Cl\n",
       ":   8NO3\n",
       ":   0NH4\n",
       ":   0oPO4\n",
       ":   0PO4\n",
       ":   1Chla\n",
       ":   10a1\n",
       ":   0a2\n",
       ":   0a3\n",
       ":   0a4\n",
       ":   0a5\n",
       ":   0a6\n",
       ":   0a7\n",
       ":   0\n",
       "\n"
      ],
      "text/plain": [
       "season   size  speed   mxPH   mnO2     Cl    NO3    NH4   oPO4    PO4   Chla \n",
       "     0      0      0      1      1      8      0      0      0      1     10 \n",
       "    a1     a2     a3     a4     a5     a6     a7 \n",
       "     0      0      0      0      0      0      0 "
      ]
     },
     "metadata": {},
     "output_type": "display_data"
    }
   ],
   "source": [
    "dados=algae[-c(62,199),]\n",
    "apply(dados,2,function(x) sum(is.na(x)))"
   ]
  },
  {
   "cell_type": "markdown",
   "metadata": {},
   "source": [
    "### 1 Vizinho mais próximo"
   ]
  },
  {
   "cell_type": "code",
   "execution_count": 64,
   "metadata": {},
   "outputs": [
    {
     "data": {
      "text/html": [
       "<style>\n",
       ".dl-inline {width: auto; margin:0; padding: 0}\n",
       ".dl-inline>dt, .dl-inline>dd {float: none; width: auto; display: inline-block}\n",
       ".dl-inline>dt::after {content: \":\\0020\"; padding-right: .5ex}\n",
       ".dl-inline>dt:not(:first-of-type) {padding-left: .5ex}\n",
       "</style><dl class=dl-inline><dt>season</dt><dd>0</dd><dt>size</dt><dd>0</dd><dt>speed</dt><dd>0</dd><dt>mxPH</dt><dd>0</dd><dt>mnO2</dt><dd>0</dd><dt>Cl</dt><dd>0</dd><dt>NO3</dt><dd>0</dd><dt>NH4</dt><dd>0</dd><dt>oPO4</dt><dd>0</dd><dt>PO4</dt><dd>0</dd><dt>Chla</dt><dd>0</dd><dt>a1</dt><dd>0</dd><dt>a2</dt><dd>0</dd><dt>a3</dt><dd>0</dd><dt>a4</dt><dd>0</dd><dt>a5</dt><dd>0</dd><dt>a6</dt><dd>0</dd><dt>a7</dt><dd>0</dd></dl>\n"
      ],
      "text/latex": [
       "\\begin{description*}\n",
       "\\item[season] 0\n",
       "\\item[size] 0\n",
       "\\item[speed] 0\n",
       "\\item[mxPH] 0\n",
       "\\item[mnO2] 0\n",
       "\\item[Cl] 0\n",
       "\\item[NO3] 0\n",
       "\\item[NH4] 0\n",
       "\\item[oPO4] 0\n",
       "\\item[PO4] 0\n",
       "\\item[Chla] 0\n",
       "\\item[a1] 0\n",
       "\\item[a2] 0\n",
       "\\item[a3] 0\n",
       "\\item[a4] 0\n",
       "\\item[a5] 0\n",
       "\\item[a6] 0\n",
       "\\item[a7] 0\n",
       "\\end{description*}\n"
      ],
      "text/markdown": [
       "season\n",
       ":   0size\n",
       ":   0speed\n",
       ":   0mxPH\n",
       ":   0mnO2\n",
       ":   0Cl\n",
       ":   0NO3\n",
       ":   0NH4\n",
       ":   0oPO4\n",
       ":   0PO4\n",
       ":   0Chla\n",
       ":   0a1\n",
       ":   0a2\n",
       ":   0a3\n",
       ":   0a4\n",
       ":   0a5\n",
       ":   0a6\n",
       ":   0a7\n",
       ":   0\n",
       "\n"
      ],
      "text/plain": [
       "season   size  speed   mxPH   mnO2     Cl    NO3    NH4   oPO4    PO4   Chla \n",
       "     0      0      0      0      0      0      0      0      0      0      0 \n",
       "    a1     a2     a3     a4     a5     a6     a7 \n",
       "     0      0      0      0      0      0      0 "
      ]
     },
     "metadata": {},
     "output_type": "display_data"
    }
   ],
   "source": [
    "dados=knnImputation(dados,1,scale=T,meth=\"median\")\n",
    "apply(dados,2,function(x) sum(is.na(x)))"
   ]
  },
  {
   "cell_type": "markdown",
   "metadata": {},
   "source": [
    "### 10 Vizinhos mais próximos"
   ]
  },
  {
   "cell_type": "code",
   "execution_count": 65,
   "metadata": {},
   "outputs": [
    {
     "data": {
      "text/html": [
       "<style>\n",
       ".dl-inline {width: auto; margin:0; padding: 0}\n",
       ".dl-inline>dt, .dl-inline>dd {float: none; width: auto; display: inline-block}\n",
       ".dl-inline>dt::after {content: \":\\0020\"; padding-right: .5ex}\n",
       ".dl-inline>dt:not(:first-of-type) {padding-left: .5ex}\n",
       "</style><dl class=dl-inline><dt>season</dt><dd>0</dd><dt>size</dt><dd>0</dd><dt>speed</dt><dd>0</dd><dt>mxPH</dt><dd>1</dd><dt>mnO2</dt><dd>1</dd><dt>Cl</dt><dd>8</dd><dt>NO3</dt><dd>0</dd><dt>NH4</dt><dd>0</dd><dt>oPO4</dt><dd>0</dd><dt>PO4</dt><dd>1</dd><dt>Chla</dt><dd>10</dd><dt>a1</dt><dd>0</dd><dt>a2</dt><dd>0</dd><dt>a3</dt><dd>0</dd><dt>a4</dt><dd>0</dd><dt>a5</dt><dd>0</dd><dt>a6</dt><dd>0</dd><dt>a7</dt><dd>0</dd></dl>\n"
      ],
      "text/latex": [
       "\\begin{description*}\n",
       "\\item[season] 0\n",
       "\\item[size] 0\n",
       "\\item[speed] 0\n",
       "\\item[mxPH] 1\n",
       "\\item[mnO2] 1\n",
       "\\item[Cl] 8\n",
       "\\item[NO3] 0\n",
       "\\item[NH4] 0\n",
       "\\item[oPO4] 0\n",
       "\\item[PO4] 1\n",
       "\\item[Chla] 10\n",
       "\\item[a1] 0\n",
       "\\item[a2] 0\n",
       "\\item[a3] 0\n",
       "\\item[a4] 0\n",
       "\\item[a5] 0\n",
       "\\item[a6] 0\n",
       "\\item[a7] 0\n",
       "\\end{description*}\n"
      ],
      "text/markdown": [
       "season\n",
       ":   0size\n",
       ":   0speed\n",
       ":   0mxPH\n",
       ":   1mnO2\n",
       ":   1Cl\n",
       ":   8NO3\n",
       ":   0NH4\n",
       ":   0oPO4\n",
       ":   0PO4\n",
       ":   1Chla\n",
       ":   10a1\n",
       ":   0a2\n",
       ":   0a3\n",
       ":   0a4\n",
       ":   0a5\n",
       ":   0a6\n",
       ":   0a7\n",
       ":   0\n",
       "\n"
      ],
      "text/plain": [
       "season   size  speed   mxPH   mnO2     Cl    NO3    NH4   oPO4    PO4   Chla \n",
       "     0      0      0      1      1      8      0      0      0      1     10 \n",
       "    a1     a2     a3     a4     a5     a6     a7 \n",
       "     0      0      0      0      0      0      0 "
      ]
     },
     "metadata": {},
     "output_type": "display_data"
    }
   ],
   "source": [
    "dados=algae[-c(62,199),]\n",
    "apply(dados,2,function(x) sum(is.na(x)))"
   ]
  },
  {
   "cell_type": "code",
   "execution_count": 66,
   "metadata": {},
   "outputs": [
    {
     "data": {
      "text/html": [
       "<style>\n",
       ".dl-inline {width: auto; margin:0; padding: 0}\n",
       ".dl-inline>dt, .dl-inline>dd {float: none; width: auto; display: inline-block}\n",
       ".dl-inline>dt::after {content: \":\\0020\"; padding-right: .5ex}\n",
       ".dl-inline>dt:not(:first-of-type) {padding-left: .5ex}\n",
       "</style><dl class=dl-inline><dt>season</dt><dd>0</dd><dt>size</dt><dd>0</dd><dt>speed</dt><dd>0</dd><dt>mxPH</dt><dd>0</dd><dt>mnO2</dt><dd>0</dd><dt>Cl</dt><dd>0</dd><dt>NO3</dt><dd>0</dd><dt>NH4</dt><dd>0</dd><dt>oPO4</dt><dd>0</dd><dt>PO4</dt><dd>0</dd><dt>Chla</dt><dd>0</dd><dt>a1</dt><dd>0</dd><dt>a2</dt><dd>0</dd><dt>a3</dt><dd>0</dd><dt>a4</dt><dd>0</dd><dt>a5</dt><dd>0</dd><dt>a6</dt><dd>0</dd><dt>a7</dt><dd>0</dd></dl>\n"
      ],
      "text/latex": [
       "\\begin{description*}\n",
       "\\item[season] 0\n",
       "\\item[size] 0\n",
       "\\item[speed] 0\n",
       "\\item[mxPH] 0\n",
       "\\item[mnO2] 0\n",
       "\\item[Cl] 0\n",
       "\\item[NO3] 0\n",
       "\\item[NH4] 0\n",
       "\\item[oPO4] 0\n",
       "\\item[PO4] 0\n",
       "\\item[Chla] 0\n",
       "\\item[a1] 0\n",
       "\\item[a2] 0\n",
       "\\item[a3] 0\n",
       "\\item[a4] 0\n",
       "\\item[a5] 0\n",
       "\\item[a6] 0\n",
       "\\item[a7] 0\n",
       "\\end{description*}\n"
      ],
      "text/markdown": [
       "season\n",
       ":   0size\n",
       ":   0speed\n",
       ":   0mxPH\n",
       ":   0mnO2\n",
       ":   0Cl\n",
       ":   0NO3\n",
       ":   0NH4\n",
       ":   0oPO4\n",
       ":   0PO4\n",
       ":   0Chla\n",
       ":   0a1\n",
       ":   0a2\n",
       ":   0a3\n",
       ":   0a4\n",
       ":   0a5\n",
       ":   0a6\n",
       ":   0a7\n",
       ":   0\n",
       "\n"
      ],
      "text/plain": [
       "season   size  speed   mxPH   mnO2     Cl    NO3    NH4   oPO4    PO4   Chla \n",
       "     0      0      0      0      0      0      0      0      0      0      0 \n",
       "    a1     a2     a3     a4     a5     a6     a7 \n",
       "     0      0      0      0      0      0      0 "
      ]
     },
     "metadata": {},
     "output_type": "display_data"
    }
   ],
   "source": [
    "dados=knnImputation(dados,10,scale=T,meth=\"weighAvg\")\n",
    "apply(dados,2,function(x) sum(is.na(x)))"
   ]
  },
  {
   "cell_type": "markdown",
   "metadata": {},
   "source": [
    "### Imputaçao multipla"
   ]
  },
  {
   "cell_type": "code",
   "execution_count": 67,
   "metadata": {},
   "outputs": [
    {
     "data": {
      "text/html": [
       "<style>\n",
       ".dl-inline {width: auto; margin:0; padding: 0}\n",
       ".dl-inline>dt, .dl-inline>dd {float: none; width: auto; display: inline-block}\n",
       ".dl-inline>dt::after {content: \":\\0020\"; padding-right: .5ex}\n",
       ".dl-inline>dt:not(:first-of-type) {padding-left: .5ex}\n",
       "</style><dl class=dl-inline><dt>season</dt><dd>0</dd><dt>size</dt><dd>0</dd><dt>speed</dt><dd>0</dd><dt>mxPH</dt><dd>1</dd><dt>mnO2</dt><dd>1</dd><dt>Cl</dt><dd>8</dd><dt>NO3</dt><dd>0</dd><dt>NH4</dt><dd>0</dd><dt>oPO4</dt><dd>0</dd><dt>PO4</dt><dd>1</dd><dt>Chla</dt><dd>10</dd><dt>a1</dt><dd>0</dd><dt>a2</dt><dd>0</dd><dt>a3</dt><dd>0</dd><dt>a4</dt><dd>0</dd><dt>a5</dt><dd>0</dd><dt>a6</dt><dd>0</dd><dt>a7</dt><dd>0</dd></dl>\n"
      ],
      "text/latex": [
       "\\begin{description*}\n",
       "\\item[season] 0\n",
       "\\item[size] 0\n",
       "\\item[speed] 0\n",
       "\\item[mxPH] 1\n",
       "\\item[mnO2] 1\n",
       "\\item[Cl] 8\n",
       "\\item[NO3] 0\n",
       "\\item[NH4] 0\n",
       "\\item[oPO4] 0\n",
       "\\item[PO4] 1\n",
       "\\item[Chla] 10\n",
       "\\item[a1] 0\n",
       "\\item[a2] 0\n",
       "\\item[a3] 0\n",
       "\\item[a4] 0\n",
       "\\item[a5] 0\n",
       "\\item[a6] 0\n",
       "\\item[a7] 0\n",
       "\\end{description*}\n"
      ],
      "text/markdown": [
       "season\n",
       ":   0size\n",
       ":   0speed\n",
       ":   0mxPH\n",
       ":   1mnO2\n",
       ":   1Cl\n",
       ":   8NO3\n",
       ":   0NH4\n",
       ":   0oPO4\n",
       ":   0PO4\n",
       ":   1Chla\n",
       ":   10a1\n",
       ":   0a2\n",
       ":   0a3\n",
       ":   0a4\n",
       ":   0a5\n",
       ":   0a6\n",
       ":   0a7\n",
       ":   0\n",
       "\n"
      ],
      "text/plain": [
       "season   size  speed   mxPH   mnO2     Cl    NO3    NH4   oPO4    PO4   Chla \n",
       "     0      0      0      1      1      8      0      0      0      1     10 \n",
       "    a1     a2     a3     a4     a5     a6     a7 \n",
       "     0      0      0      0      0      0      0 "
      ]
     },
     "metadata": {},
     "output_type": "display_data"
    }
   ],
   "source": [
    "dados=algae[-c(62,199),]\n",
    "apply(dados,2,function(x) sum(is.na(x)))"
   ]
  },
  {
   "cell_type": "code",
   "execution_count": null,
   "metadata": {},
   "outputs": [],
   "source": [
    "#dados=AjeitaDados(dados)\n",
    "nrow(dados)"
   ]
  },
  {
   "cell_type": "code",
   "execution_count": 68,
   "metadata": {},
   "outputs": [
    {
     "data": {
      "text/html": [
       "<table class=\"dataframe\">\n",
       "<caption>A matrix: 8 × 19 of type dbl</caption>\n",
       "<thead>\n",
       "\t<tr><th></th><th scope=col>season</th><th scope=col>size</th><th scope=col>speed</th><th scope=col>NO3</th><th scope=col>NH4</th><th scope=col>oPO4</th><th scope=col>a1</th><th scope=col>a2</th><th scope=col>a3</th><th scope=col>a4</th><th scope=col>a5</th><th scope=col>a6</th><th scope=col>a7</th><th scope=col>mxPH</th><th scope=col>mnO2</th><th scope=col>PO4</th><th scope=col>Cl</th><th scope=col>Chla</th><th scope=col></th></tr>\n",
       "</thead>\n",
       "<tbody>\n",
       "\t<tr><th scope=row>184</th><td>1</td><td>1</td><td>1</td><td>1</td><td>1</td><td>1</td><td>1</td><td>1</td><td>1</td><td>1</td><td>1</td><td>1</td><td>1</td><td>1</td><td>1</td><td>1</td><td>1</td><td> 1</td><td> 0</td></tr>\n",
       "\t<tr><th scope=row>3</th><td>1</td><td>1</td><td>1</td><td>1</td><td>1</td><td>1</td><td>1</td><td>1</td><td>1</td><td>1</td><td>1</td><td>1</td><td>1</td><td>1</td><td>1</td><td>1</td><td>1</td><td> 0</td><td> 1</td></tr>\n",
       "\t<tr><th scope=row>1</th><td>1</td><td>1</td><td>1</td><td>1</td><td>1</td><td>1</td><td>1</td><td>1</td><td>1</td><td>1</td><td>1</td><td>1</td><td>1</td><td>1</td><td>1</td><td>1</td><td>0</td><td> 1</td><td> 1</td></tr>\n",
       "\t<tr><th scope=row>7</th><td>1</td><td>1</td><td>1</td><td>1</td><td>1</td><td>1</td><td>1</td><td>1</td><td>1</td><td>1</td><td>1</td><td>1</td><td>1</td><td>1</td><td>1</td><td>1</td><td>0</td><td> 0</td><td> 2</td></tr>\n",
       "\t<tr><th scope=row>1</th><td>1</td><td>1</td><td>1</td><td>1</td><td>1</td><td>1</td><td>1</td><td>1</td><td>1</td><td>1</td><td>1</td><td>1</td><td>1</td><td>1</td><td>1</td><td>0</td><td>1</td><td> 1</td><td> 1</td></tr>\n",
       "\t<tr><th scope=row>1</th><td>1</td><td>1</td><td>1</td><td>1</td><td>1</td><td>1</td><td>1</td><td>1</td><td>1</td><td>1</td><td>1</td><td>1</td><td>1</td><td>1</td><td>0</td><td>1</td><td>1</td><td> 1</td><td> 1</td></tr>\n",
       "\t<tr><th scope=row>1</th><td>1</td><td>1</td><td>1</td><td>1</td><td>1</td><td>1</td><td>1</td><td>1</td><td>1</td><td>1</td><td>1</td><td>1</td><td>1</td><td>0</td><td>1</td><td>1</td><td>1</td><td> 1</td><td> 1</td></tr>\n",
       "\t<tr><th scope=row></th><td>0</td><td>0</td><td>0</td><td>0</td><td>0</td><td>0</td><td>0</td><td>0</td><td>0</td><td>0</td><td>0</td><td>0</td><td>0</td><td>1</td><td>1</td><td>1</td><td>8</td><td>10</td><td>21</td></tr>\n",
       "</tbody>\n",
       "</table>\n"
      ],
      "text/latex": [
       "A matrix: 8 × 19 of type dbl\n",
       "\\begin{tabular}{r|lllllllllllllllllll}\n",
       "  & season & size & speed & NO3 & NH4 & oPO4 & a1 & a2 & a3 & a4 & a5 & a6 & a7 & mxPH & mnO2 & PO4 & Cl & Chla & \\\\\n",
       "\\hline\n",
       "\t184 & 1 & 1 & 1 & 1 & 1 & 1 & 1 & 1 & 1 & 1 & 1 & 1 & 1 & 1 & 1 & 1 & 1 &  1 &  0\\\\\n",
       "\t3 & 1 & 1 & 1 & 1 & 1 & 1 & 1 & 1 & 1 & 1 & 1 & 1 & 1 & 1 & 1 & 1 & 1 &  0 &  1\\\\\n",
       "\t1 & 1 & 1 & 1 & 1 & 1 & 1 & 1 & 1 & 1 & 1 & 1 & 1 & 1 & 1 & 1 & 1 & 0 &  1 &  1\\\\\n",
       "\t7 & 1 & 1 & 1 & 1 & 1 & 1 & 1 & 1 & 1 & 1 & 1 & 1 & 1 & 1 & 1 & 1 & 0 &  0 &  2\\\\\n",
       "\t1 & 1 & 1 & 1 & 1 & 1 & 1 & 1 & 1 & 1 & 1 & 1 & 1 & 1 & 1 & 1 & 0 & 1 &  1 &  1\\\\\n",
       "\t1 & 1 & 1 & 1 & 1 & 1 & 1 & 1 & 1 & 1 & 1 & 1 & 1 & 1 & 1 & 0 & 1 & 1 &  1 &  1\\\\\n",
       "\t1 & 1 & 1 & 1 & 1 & 1 & 1 & 1 & 1 & 1 & 1 & 1 & 1 & 1 & 0 & 1 & 1 & 1 &  1 &  1\\\\\n",
       "\t & 0 & 0 & 0 & 0 & 0 & 0 & 0 & 0 & 0 & 0 & 0 & 0 & 0 & 1 & 1 & 1 & 8 & 10 & 21\\\\\n",
       "\\end{tabular}\n"
      ],
      "text/markdown": [
       "\n",
       "A matrix: 8 × 19 of type dbl\n",
       "\n",
       "| <!--/--> | season | size | speed | NO3 | NH4 | oPO4 | a1 | a2 | a3 | a4 | a5 | a6 | a7 | mxPH | mnO2 | PO4 | Cl | Chla | <!----> |\n",
       "|---|---|---|---|---|---|---|---|---|---|---|---|---|---|---|---|---|---|---|---|\n",
       "| 184 | 1 | 1 | 1 | 1 | 1 | 1 | 1 | 1 | 1 | 1 | 1 | 1 | 1 | 1 | 1 | 1 | 1 |  1 |  0 |\n",
       "| 3 | 1 | 1 | 1 | 1 | 1 | 1 | 1 | 1 | 1 | 1 | 1 | 1 | 1 | 1 | 1 | 1 | 1 |  0 |  1 |\n",
       "| 1 | 1 | 1 | 1 | 1 | 1 | 1 | 1 | 1 | 1 | 1 | 1 | 1 | 1 | 1 | 1 | 1 | 0 |  1 |  1 |\n",
       "| 7 | 1 | 1 | 1 | 1 | 1 | 1 | 1 | 1 | 1 | 1 | 1 | 1 | 1 | 1 | 1 | 1 | 0 |  0 |  2 |\n",
       "| 1 | 1 | 1 | 1 | 1 | 1 | 1 | 1 | 1 | 1 | 1 | 1 | 1 | 1 | 1 | 1 | 0 | 1 |  1 |  1 |\n",
       "| 1 | 1 | 1 | 1 | 1 | 1 | 1 | 1 | 1 | 1 | 1 | 1 | 1 | 1 | 1 | 0 | 1 | 1 |  1 |  1 |\n",
       "| 1 | 1 | 1 | 1 | 1 | 1 | 1 | 1 | 1 | 1 | 1 | 1 | 1 | 1 | 0 | 1 | 1 | 1 |  1 |  1 |\n",
       "| <!----> | 0 | 0 | 0 | 0 | 0 | 0 | 0 | 0 | 0 | 0 | 0 | 0 | 0 | 1 | 1 | 1 | 8 | 10 | 21 |\n",
       "\n"
      ],
      "text/plain": [
       "    season size speed NO3 NH4 oPO4 a1 a2 a3 a4 a5 a6 a7 mxPH mnO2 PO4 Cl Chla\n",
       "184 1      1    1     1   1   1    1  1  1  1  1  1  1  1    1    1   1   1  \n",
       "3   1      1    1     1   1   1    1  1  1  1  1  1  1  1    1    1   1   0  \n",
       "1   1      1    1     1   1   1    1  1  1  1  1  1  1  1    1    1   0   1  \n",
       "7   1      1    1     1   1   1    1  1  1  1  1  1  1  1    1    1   0   0  \n",
       "1   1      1    1     1   1   1    1  1  1  1  1  1  1  1    1    0   1   1  \n",
       "1   1      1    1     1   1   1    1  1  1  1  1  1  1  1    0    1   1   1  \n",
       "1   1      1    1     1   1   1    1  1  1  1  1  1  1  0    1    1   1   1  \n",
       "    0      0    0     0   0   0    0  0  0  0  0  0  0  1    1    1   8  10  \n",
       "      \n",
       "184  0\n",
       "3    1\n",
       "1    1\n",
       "7    2\n",
       "1    1\n",
       "1    1\n",
       "1    1\n",
       "    21"
      ]
     },
     "metadata": {},
     "output_type": "display_data"
    },
    {
     "data": {
      "image/png": "[encoded data removed]",
      "text/plain": [
       "plot without title"
      ]
     },
     "metadata": {
      "image/png": {
       "height": 420,
       "width": 420
      }
     },
     "output_type": "display_data"
    }
   ],
   "source": [
    "md.pattern(dados)"
   ]
  },
  {
   "cell_type": "code",
   "execution_count": 69,
   "metadata": {},
   "outputs": [
    {
     "name": "stdout",
     "output_type": "stream",
     "text": [
      "\n",
      " iter imp variable\n",
      "  1   1  mxPH  mnO2  Cl  PO4  Chla\n",
      "  1   2  mxPH  mnO2  Cl  PO4  Chla\n",
      "  1   3  mxPH  mnO2  Cl  PO4  Chla\n",
      "  1   4  mxPH  mnO2  Cl  PO4  Chla\n",
      "  1   5  mxPH  mnO2  Cl  PO4  Chla\n",
      "  2   1  mxPH  mnO2  Cl  PO4  Chla\n",
      "  2   2  mxPH  mnO2  Cl  PO4  Chla\n",
      "  2   3  mxPH  mnO2  Cl  PO4  Chla\n",
      "  2   4  mxPH  mnO2  Cl  PO4  Chla\n",
      "  2   5  mxPH  mnO2  Cl  PO4  Chla\n",
      "  3   1  mxPH  mnO2  Cl  PO4  Chla\n",
      "  3   2  mxPH  mnO2  Cl  PO4  Chla\n",
      "  3   3  mxPH  mnO2  Cl  PO4  Chla\n",
      "  3   4  mxPH  mnO2  Cl  PO4  Chla\n",
      "  3   5  mxPH  mnO2  Cl  PO4  Chla\n",
      "  4   1  mxPH  mnO2  Cl  PO4  Chla\n",
      "  4   2  mxPH  mnO2  Cl  PO4  Chla\n",
      "  4   3  mxPH  mnO2  Cl  PO4  Chla\n",
      "  4   4  mxPH  mnO2  Cl  PO4  Chla\n",
      "  4   5  mxPH  mnO2  Cl  PO4  Chla\n",
      "  5   1  mxPH  mnO2  Cl  PO4  Chla\n",
      "  5   2  mxPH  mnO2  Cl  PO4  Chla\n",
      "  5   3  mxPH  mnO2  Cl  PO4  Chla\n",
      "  5   4  mxPH  mnO2  Cl  PO4  Chla\n",
      "  5   5  mxPH  mnO2  Cl  PO4  Chla\n",
      "  6   1  mxPH  mnO2  Cl  PO4  Chla\n",
      "  6   2  mxPH  mnO2  Cl  PO4  Chla\n",
      "  6   3  mxPH  mnO2  Cl  PO4  Chla\n",
      "  6   4  mxPH  mnO2  Cl  PO4  Chla\n",
      "  6   5  mxPH  mnO2  Cl  PO4  Chla\n",
      "  7   1  mxPH  mnO2  Cl  PO4  Chla\n",
      "  7   2  mxPH  mnO2  Cl  PO4  Chla\n",
      "  7   3  mxPH  mnO2  Cl  PO4  Chla\n",
      "  7   4  mxPH  mnO2  Cl  PO4  Chla\n",
      "  7   5  mxPH  mnO2  Cl  PO4  Chla\n",
      "  8   1  mxPH  mnO2  Cl  PO4  Chla\n",
      "  8   2  mxPH  mnO2  Cl  PO4  Chla\n",
      "  8   3  mxPH  mnO2  Cl  PO4  Chla\n",
      "  8   4  mxPH  mnO2  Cl  PO4  Chla\n",
      "  8   5  mxPH  mnO2  Cl  PO4  Chla\n",
      "  9   1  mxPH  mnO2  Cl  PO4  Chla\n",
      "  9   2  mxPH  mnO2  Cl  PO4  Chla\n",
      "  9   3  mxPH  mnO2  Cl  PO4  Chla\n",
      "  9   4  mxPH  mnO2  Cl  PO4  Chla\n",
      "  9   5  mxPH  mnO2  Cl  PO4  Chla\n",
      "  10   1  mxPH  mnO2  Cl  PO4  Chla\n",
      "  10   2  mxPH  mnO2  Cl  PO4  Chla\n",
      "  10   3  mxPH  mnO2  Cl  PO4  Chla\n",
      "  10   4  mxPH  mnO2  Cl  PO4  Chla\n",
      "  10   5  mxPH  mnO2  Cl  PO4  Chla\n",
      "  11   1  mxPH  mnO2  Cl  PO4  Chla\n",
      "  11   2  mxPH  mnO2  Cl  PO4  Chla\n",
      "  11   3  mxPH  mnO2  Cl  PO4  Chla\n",
      "  11   4  mxPH  mnO2  Cl  PO4  Chla\n",
      "  11   5  mxPH  mnO2  Cl  PO4  Chla\n",
      "  12   1  mxPH  mnO2  Cl  PO4  Chla\n",
      "  12   2  mxPH  mnO2  Cl  PO4  Chla\n",
      "  12   3  mxPH  mnO2  Cl  PO4  Chla\n",
      "  12   4  mxPH  mnO2  Cl  PO4  Chla\n",
      "  12   5  mxPH  mnO2  Cl  PO4  Chla\n",
      "  13   1  mxPH  mnO2  Cl  PO4  Chla\n",
      "  13   2  mxPH  mnO2  Cl  PO4  Chla\n",
      "  13   3  mxPH  mnO2  Cl  PO4  Chla\n",
      "  13   4  mxPH  mnO2  Cl  PO4  Chla\n",
      "  13   5  mxPH  mnO2  Cl  PO4  Chla\n",
      "  14   1  mxPH  mnO2  Cl  PO4  Chla\n",
      "  14   2  mxPH  mnO2  Cl  PO4  Chla\n",
      "  14   3  mxPH  mnO2  Cl  PO4  Chla\n",
      "  14   4  mxPH  mnO2  Cl  PO4  Chla\n",
      "  14   5  mxPH  mnO2  Cl  PO4  Chla\n",
      "  15   1  mxPH  mnO2  Cl  PO4  Chla\n",
      "  15   2  mxPH  mnO2  Cl  PO4  Chla\n",
      "  15   3  mxPH  mnO2  Cl  PO4  Chla\n",
      "  15   4  mxPH  mnO2  Cl  PO4  Chla\n",
      "  15   5  mxPH  mnO2  Cl  PO4  Chla\n",
      "  16   1  mxPH  mnO2  Cl  PO4  Chla\n",
      "  16   2  mxPH  mnO2  Cl  PO4  Chla\n",
      "  16   3  mxPH  mnO2  Cl  PO4  Chla\n",
      "  16   4  mxPH  mnO2  Cl  PO4  Chla\n",
      "  16   5  mxPH  mnO2  Cl  PO4  Chla\n",
      "  17   1  mxPH  mnO2  Cl  PO4  Chla\n",
      "  17   2  mxPH  mnO2  Cl  PO4  Chla\n",
      "  17   3  mxPH  mnO2  Cl  PO4  Chla\n",
      "  17   4  mxPH  mnO2  Cl  PO4  Chla\n",
      "  17   5  mxPH  mnO2  Cl  PO4  Chla\n",
      "  18   1  mxPH  mnO2  Cl  PO4  Chla\n",
      "  18   2  mxPH  mnO2  Cl  PO4  Chla\n",
      "  18   3  mxPH  mnO2  Cl  PO4  Chla\n",
      "  18   4  mxPH  mnO2  Cl  PO4  Chla\n",
      "  18   5  mxPH  mnO2  Cl  PO4  Chla\n",
      "  19   1  mxPH  mnO2  Cl  PO4  Chla\n",
      "  19   2  mxPH  mnO2  Cl  PO4  Chla\n",
      "  19   3  mxPH  mnO2  Cl  PO4  Chla\n",
      "  19   4  mxPH  mnO2  Cl  PO4  Chla\n",
      "  19   5  mxPH  mnO2  Cl  PO4  Chla\n",
      "  20   1  mxPH  mnO2  Cl  PO4  Chla\n",
      "  20   2  mxPH  mnO2  Cl  PO4  Chla\n",
      "  20   3  mxPH  mnO2  Cl  PO4  Chla\n",
      "  20   4  mxPH  mnO2  Cl  PO4  Chla\n",
      "  20   5  mxPH  mnO2  Cl  PO4  Chla\n",
      "  21   1  mxPH  mnO2  Cl  PO4  Chla\n",
      "  21   2  mxPH  mnO2  Cl  PO4  Chla\n",
      "  21   3  mxPH  mnO2  Cl  PO4  Chla\n",
      "  21   4  mxPH  mnO2  Cl  PO4  Chla\n",
      "  21   5  mxPH  mnO2  Cl  PO4  Chla\n",
      "  22   1  mxPH  mnO2  Cl  PO4  Chla\n",
      "  22   2  mxPH  mnO2  Cl  PO4  Chla\n",
      "  22   3  mxPH  mnO2  Cl  PO4  Chla\n",
      "  22   4  mxPH  mnO2  Cl  PO4  Chla\n",
      "  22   5  mxPH  mnO2  Cl  PO4  Chla\n",
      "  23   1  mxPH  mnO2  Cl  PO4  Chla\n",
      "  23   2  mxPH  mnO2  Cl  PO4  Chla\n",
      "  23   3  mxPH  mnO2  Cl  PO4  Chla\n",
      "  23   4  mxPH  mnO2  Cl  PO4  Chla\n",
      "  23   5  mxPH  mnO2  Cl  PO4  Chla\n",
      "  24   1  mxPH  mnO2  Cl  PO4  Chla\n",
      "  24   2  mxPH  mnO2  Cl  PO4  Chla\n",
      "  24   3  mxPH  mnO2  Cl  PO4  Chla\n",
      "  24   4  mxPH  mnO2  Cl  PO4  Chla\n",
      "  24   5  mxPH  mnO2  Cl  PO4  Chla\n",
      "  25   1  mxPH  mnO2  Cl  PO4  Chla\n",
      "  25   2  mxPH  mnO2  Cl  PO4  Chla\n",
      "  25   3  mxPH  mnO2  Cl  PO4  Chla\n",
      "  25   4  mxPH  mnO2  Cl  PO4  Chla\n",
      "  25   5  mxPH  mnO2  Cl  PO4  Chla\n",
      "  26   1  mxPH  mnO2  Cl  PO4  Chla\n",
      "  26   2  mxPH  mnO2  Cl  PO4  Chla\n",
      "  26   3  mxPH  mnO2  Cl  PO4  Chla\n",
      "  26   4  mxPH  mnO2  Cl  PO4  Chla\n",
      "  26   5  mxPH  mnO2  Cl  PO4  Chla\n",
      "  27   1  mxPH  mnO2  Cl  PO4  Chla\n",
      "  27   2  mxPH  mnO2  Cl  PO4  Chla\n",
      "  27   3  mxPH  mnO2  Cl  PO4  Chla\n",
      "  27   4  mxPH  mnO2  Cl  PO4  Chla\n",
      "  27   5  mxPH  mnO2  Cl  PO4  Chla\n",
      "  28   1  mxPH  mnO2  Cl  PO4  Chla\n",
      "  28   2  mxPH  mnO2  Cl  PO4  Chla\n",
      "  28   3  mxPH  mnO2  Cl  PO4  Chla\n",
      "  28   4  mxPH  mnO2  Cl  PO4  Chla\n",
      "  28   5  mxPH  mnO2  Cl  PO4  Chla\n",
      "  29   1  mxPH  mnO2  Cl  PO4  Chla\n",
      "  29   2  mxPH  mnO2  Cl  PO4  Chla\n",
      "  29   3  mxPH  mnO2  Cl  PO4  Chla\n",
      "  29   4  mxPH  mnO2  Cl  PO4  Chla\n",
      "  29   5  mxPH  mnO2  Cl  PO4  Chla\n",
      "  30   1  mxPH  mnO2  Cl  PO4  Chla\n",
      "  30   2  mxPH  mnO2  Cl  PO4  Chla\n",
      "  30   3  mxPH  mnO2  Cl  PO4  Chla\n",
      "  30   4  mxPH  mnO2  Cl  PO4  Chla\n",
      "  30   5  mxPH  mnO2  Cl  PO4  Chla\n",
      "  31   1  mxPH  mnO2  Cl  PO4  Chla\n",
      "  31   2  mxPH  mnO2  Cl  PO4  Chla\n",
      "  31   3  mxPH  mnO2  Cl  PO4  Chla\n",
      "  31   4  mxPH  mnO2  Cl  PO4  Chla\n",
      "  31   5  mxPH  mnO2  Cl  PO4  Chla\n",
      "  32   1  mxPH  mnO2  Cl  PO4  Chla\n",
      "  32   2  mxPH  mnO2  Cl  PO4  Chla\n",
      "  32   3  mxPH  mnO2  Cl  PO4  Chla\n",
      "  32   4  mxPH  mnO2  Cl  PO4  Chla\n",
      "  32   5  mxPH  mnO2  Cl  PO4  Chla\n",
      "  33   1  mxPH  mnO2  Cl  PO4  Chla\n",
      "  33   2  mxPH  mnO2  Cl  PO4  Chla\n",
      "  33   3  mxPH  mnO2  Cl  PO4  Chla\n",
      "  33   4  mxPH  mnO2  Cl  PO4  Chla\n",
      "  33   5  mxPH  mnO2  Cl  PO4  Chla\n",
      "  34   1  mxPH  mnO2  Cl  PO4  Chla\n",
      "  34   2  mxPH  mnO2  Cl  PO4  Chla\n",
      "  34   3  mxPH  mnO2  Cl  PO4  Chla\n",
      "  34   4  mxPH  mnO2  Cl  PO4  Chla\n",
      "  34   5  mxPH  mnO2  Cl  PO4  Chla\n",
      "  35   1  mxPH  mnO2  Cl  PO4  Chla\n",
      "  35   2  mxPH  mnO2  Cl  PO4  Chla\n",
      "  35   3  mxPH  mnO2  Cl  PO4  Chla\n",
      "  35   4  mxPH  mnO2  Cl  PO4  Chla\n",
      "  35   5  mxPH  mnO2  Cl  PO4  Chla\n",
      "  36   1  mxPH  mnO2  Cl  PO4  Chla\n",
      "  36   2  mxPH  mnO2  Cl  PO4  Chla\n",
      "  36   3  mxPH  mnO2  Cl  PO4  Chla\n",
      "  36   4  mxPH  mnO2  Cl  PO4  Chla\n",
      "  36   5  mxPH  mnO2  Cl  PO4  Chla\n",
      "  37   1  mxPH  mnO2  Cl  PO4  Chla\n",
      "  37   2  mxPH  mnO2  Cl  PO4  Chla\n",
      "  37   3  mxPH  mnO2  Cl  PO4  Chla\n",
      "  37   4  mxPH  mnO2  Cl  PO4  Chla\n",
      "  37   5  mxPH  mnO2  Cl  PO4  Chla\n",
      "  38   1  mxPH  mnO2  Cl  PO4  Chla\n",
      "  38   2  mxPH  mnO2  Cl  PO4  Chla\n",
      "  38   3  mxPH  mnO2  Cl  PO4  Chla\n",
      "  38   4  mxPH  mnO2  Cl  PO4  Chla\n",
      "  38   5  mxPH  mnO2  Cl  PO4  Chla\n",
      "  39   1  mxPH  mnO2  Cl  PO4  Chla\n",
      "  39   2  mxPH  mnO2  Cl  PO4  Chla\n",
      "  39   3  mxPH  mnO2  Cl  PO4  Chla\n",
      "  39   4  mxPH  mnO2  Cl  PO4  Chla\n",
      "  39   5  mxPH  mnO2  Cl  PO4  Chla\n",
      "  40   1  mxPH  mnO2  Cl  PO4  Chla\n",
      "  40   2  mxPH  mnO2  Cl  PO4  Chla\n",
      "  40   3  mxPH  mnO2  Cl  PO4  Chla\n",
      "  40   4  mxPH  mnO2  Cl  PO4  Chla\n",
      "  40   5  mxPH  mnO2  Cl  PO4  Chla\n",
      "  41   1  mxPH  mnO2  Cl  PO4  Chla\n",
      "  41   2  mxPH  mnO2  Cl  PO4  Chla\n",
      "  41   3  mxPH  mnO2  Cl  PO4  Chla\n",
      "  41   4  mxPH  mnO2  Cl  PO4  Chla\n",
      "  41   5  mxPH  mnO2  Cl  PO4  Chla\n",
      "  42   1  mxPH  mnO2  Cl  PO4  Chla\n",
      "  42   2  mxPH  mnO2  Cl  PO4  Chla\n",
      "  42   3  mxPH  mnO2  Cl  PO4  Chla\n",
      "  42   4  mxPH  mnO2  Cl  PO4  Chla\n",
      "  42   5  mxPH  mnO2  Cl  PO4  Chla\n",
      "  43   1  mxPH  mnO2  Cl  PO4  Chla\n",
      "  43   2  mxPH  mnO2  Cl  PO4  Chla\n",
      "  43   3  mxPH  mnO2  Cl  PO4  Chla\n",
      "  43   4  mxPH  mnO2  Cl  PO4  Chla\n",
      "  43   5  mxPH  mnO2  Cl  PO4  Chla\n",
      "  44   1  mxPH  mnO2  Cl  PO4  Chla\n",
      "  44   2  mxPH  mnO2  Cl  PO4  Chla\n",
      "  44   3  mxPH  mnO2  Cl  PO4  Chla\n",
      "  44   4  mxPH  mnO2  Cl  PO4  Chla\n",
      "  44   5  mxPH  mnO2  Cl  PO4  Chla\n",
      "  45   1  mxPH  mnO2  Cl  PO4  Chla\n",
      "  45   2  mxPH  mnO2  Cl  PO4  Chla\n",
      "  45   3  mxPH  mnO2  Cl  PO4  Chla\n",
      "  45   4  mxPH  mnO2  Cl  PO4  Chla\n",
      "  45   5  mxPH  mnO2  Cl  PO4  Chla\n",
      "  46   1  mxPH  mnO2  Cl  PO4  Chla\n",
      "  46   2  mxPH  mnO2  Cl  PO4  Chla\n",
      "  46   3  mxPH  mnO2  Cl  PO4  Chla\n",
      "  46   4  mxPH  mnO2  Cl  PO4  Chla\n",
      "  46   5  mxPH  mnO2  Cl  PO4  Chla\n",
      "  47   1  mxPH  mnO2  Cl  PO4  Chla\n",
      "  47   2  mxPH  mnO2  Cl  PO4  Chla\n",
      "  47   3  mxPH  mnO2  Cl  PO4  Chla\n",
      "  47   4  mxPH  mnO2  Cl  PO4  Chla\n",
      "  47   5  mxPH  mnO2  Cl  PO4  Chla\n",
      "  48   1  mxPH  mnO2  Cl  PO4  Chla\n",
      "  48   2  mxPH  mnO2  Cl  PO4  Chla\n",
      "  48   3  mxPH  mnO2  Cl  PO4  Chla\n",
      "  48   4  mxPH  mnO2  Cl  PO4  Chla\n",
      "  48   5  mxPH  mnO2  Cl  PO4  Chla\n",
      "  49   1  mxPH  mnO2  Cl  PO4  Chla\n",
      "  49   2  mxPH  mnO2  Cl  PO4  Chla\n",
      "  49   3  mxPH  mnO2  Cl  PO4  Chla\n",
      "  49   4  mxPH  mnO2  Cl  PO4  Chla\n",
      "  49   5  mxPH  mnO2  Cl  PO4  Chla\n",
      "  50   1  mxPH  mnO2  Cl  PO4  Chla\n",
      "  50   2  mxPH  mnO2  Cl  PO4  Chla\n",
      "  50   3  mxPH  mnO2  Cl  PO4  Chla\n",
      "  50   4  mxPH  mnO2  Cl  PO4  Chla\n",
      "  50   5  mxPH  mnO2  Cl  PO4  Chla\n"
     ]
    }
   ],
   "source": [
    "imputacao=mice(dados,m=5,method=\"pmm\",maxit=50)"
   ]
  },
  {
   "cell_type": "code",
   "execution_count": 70,
   "metadata": {},
   "outputs": [
    {
     "name": "stdout",
     "output_type": "stream",
     "text": [
      "Class: mids\n",
      "Number of multiple imputations:  5 \n",
      "Imputation methods:\n",
      "season   size  speed   mxPH   mnO2     Cl    NO3    NH4   oPO4    PO4   Chla \n",
      "    \"\"     \"\"     \"\"  \"pmm\"  \"pmm\"  \"pmm\"     \"\"     \"\"     \"\"  \"pmm\"  \"pmm\" \n",
      "    a1     a2     a3     a4     a5     a6     a7 \n",
      "    \"\"     \"\"     \"\"     \"\"     \"\"     \"\"     \"\" \n",
      "PredictorMatrix:\n",
      "       season size speed mxPH mnO2 Cl NO3 NH4 oPO4 PO4 Chla a1 a2 a3 a4 a5 a6\n",
      "season      0    1     1    1    1  1   1   1    1   1    1  1  1  1  1  1  1\n",
      "size        1    0     1    1    1  1   1   1    1   1    1  1  1  1  1  1  1\n",
      "speed       1    1     0    1    1  1   1   1    1   1    1  1  1  1  1  1  1\n",
      "mxPH        1    1     1    0    1  1   1   1    1   1    1  1  1  1  1  1  1\n",
      "mnO2        1    1     1    1    0  1   1   1    1   1    1  1  1  1  1  1  1\n",
      "Cl          1    1     1    1    1  0   1   1    1   1    1  1  1  1  1  1  1\n",
      "       a7\n",
      "season  1\n",
      "size    1\n",
      "speed   1\n",
      "mxPH    1\n",
      "mnO2    1\n",
      "Cl      1\n"
     ]
    }
   ],
   "source": [
    "summary(imputacao)"
   ]
  },
  {
   "cell_type": "code",
   "execution_count": 71,
   "metadata": {},
   "outputs": [
    {
     "data": {
      "text/html": [
       "<dl>\n",
       "\t<dt>$mxPH</dt>\n",
       "\t\t<dd><table class=\"dataframe\">\n",
       "<caption>A data.frame: 1 × 5</caption>\n",
       "<thead>\n",
       "\t<tr><th></th><th scope=col>1</th><th scope=col>2</th><th scope=col>3</th><th scope=col>4</th><th scope=col>5</th></tr>\n",
       "\t<tr><th></th><th scope=col>&lt;dbl&gt;</th><th scope=col>&lt;dbl&gt;</th><th scope=col>&lt;dbl&gt;</th><th scope=col>&lt;dbl&gt;</th><th scope=col>&lt;dbl&gt;</th></tr>\n",
       "</thead>\n",
       "<tbody>\n",
       "\t<tr><th scope=row>48</th><td>8.1</td><td>8</td><td>8.06</td><td>7.29</td><td>8.3</td></tr>\n",
       "</tbody>\n",
       "</table>\n",
       "</dd>\n",
       "\t<dt>$mnO2</dt>\n",
       "\t\t<dd><table class=\"dataframe\">\n",
       "<caption>A data.frame: 1 × 5</caption>\n",
       "<thead>\n",
       "\t<tr><th></th><th scope=col>1</th><th scope=col>2</th><th scope=col>3</th><th scope=col>4</th><th scope=col>5</th></tr>\n",
       "\t<tr><th></th><th scope=col>&lt;dbl&gt;</th><th scope=col>&lt;dbl&gt;</th><th scope=col>&lt;dbl&gt;</th><th scope=col>&lt;dbl&gt;</th><th scope=col>&lt;dbl&gt;</th></tr>\n",
       "</thead>\n",
       "<tbody>\n",
       "\t<tr><th scope=row>38</th><td>11.4</td><td>9.8</td><td>9</td><td>10.7</td><td>9.8</td></tr>\n",
       "</tbody>\n",
       "</table>\n",
       "</dd>\n",
       "\t<dt>$Cl</dt>\n",
       "\t\t<dd><table class=\"dataframe\">\n",
       "<caption>A data.frame: 8 × 5</caption>\n",
       "<thead>\n",
       "\t<tr><th></th><th scope=col>1</th><th scope=col>2</th><th scope=col>3</th><th scope=col>4</th><th scope=col>5</th></tr>\n",
       "\t<tr><th></th><th scope=col>&lt;dbl&gt;</th><th scope=col>&lt;dbl&gt;</th><th scope=col>&lt;dbl&gt;</th><th scope=col>&lt;dbl&gt;</th><th scope=col>&lt;dbl&gt;</th></tr>\n",
       "</thead>\n",
       "<tbody>\n",
       "\t<tr><th scope=row>55</th><td>11.000</td><td>10.975</td><td>12.536</td><td> 5.273</td><td> 7.613</td></tr>\n",
       "\t<tr><th scope=row>56</th><td> 1.450</td><td> 3.500</td><td> 3.860</td><td>11.867</td><td>61.050</td></tr>\n",
       "\t<tr><th scope=row>57</th><td> 2.750</td><td>66.300</td><td>47.778</td><td>47.000</td><td>46.167</td></tr>\n",
       "\t<tr><th scope=row>58</th><td> 3.500</td><td>69.750</td><td>35.750</td><td> 7.333</td><td>41.163</td></tr>\n",
       "\t<tr><th scope=row>59</th><td> 9.000</td><td>10.500</td><td>37.600</td><td> 9.000</td><td> 5.889</td></tr>\n",
       "\t<tr><th scope=row>60</th><td> 3.500</td><td>41.250</td><td>11.000</td><td> 0.222</td><td>13.000</td></tr>\n",
       "\t<tr><th scope=row>61</th><td>12.536</td><td>47.000</td><td>47.778</td><td>59.067</td><td>12.778</td></tr>\n",
       "\t<tr><th scope=row>160</th><td>43.970</td><td>40.020</td><td>49.625</td><td>47.229</td><td>54.190</td></tr>\n",
       "</tbody>\n",
       "</table>\n",
       "</dd>\n",
       "\t<dt>$PO4</dt>\n",
       "\t\t<dd><table class=\"dataframe\">\n",
       "<caption>A data.frame: 1 × 5</caption>\n",
       "<thead>\n",
       "\t<tr><th></th><th scope=col>1</th><th scope=col>2</th><th scope=col>3</th><th scope=col>4</th><th scope=col>5</th></tr>\n",
       "\t<tr><th></th><th scope=col>&lt;dbl&gt;</th><th scope=col>&lt;dbl&gt;</th><th scope=col>&lt;dbl&gt;</th><th scope=col>&lt;dbl&gt;</th><th scope=col>&lt;dbl&gt;</th></tr>\n",
       "</thead>\n",
       "<tbody>\n",
       "\t<tr><th scope=row>28</th><td>7.654</td><td>6.2</td><td>7.2</td><td>6</td><td>7.654</td></tr>\n",
       "</tbody>\n",
       "</table>\n",
       "</dd>\n",
       "\t<dt>$Chla</dt>\n",
       "\t\t<dd><table class=\"dataframe\">\n",
       "<caption>A data.frame: 10 × 5</caption>\n",
       "<thead>\n",
       "\t<tr><th></th><th scope=col>1</th><th scope=col>2</th><th scope=col>3</th><th scope=col>4</th><th scope=col>5</th></tr>\n",
       "\t<tr><th></th><th scope=col>&lt;dbl&gt;</th><th scope=col>&lt;dbl&gt;</th><th scope=col>&lt;dbl&gt;</th><th scope=col>&lt;dbl&gt;</th><th scope=col>&lt;dbl&gt;</th></tr>\n",
       "</thead>\n",
       "<tbody>\n",
       "\t<tr><th scope=row>55</th><td> 0.50</td><td> 2.700</td><td> 0.500</td><td> 2.7</td><td> 1.000</td></tr>\n",
       "\t<tr><th scope=row>56</th><td> 2.70</td><td> 0.500</td><td> 0.800</td><td> 2.7</td><td> 2.500</td></tr>\n",
       "\t<tr><th scope=row>57</th><td> 0.80</td><td> 2.700</td><td> 2.700</td><td> 3.3</td><td> 2.500</td></tr>\n",
       "\t<tr><th scope=row>58</th><td>12.10</td><td> 0.800</td><td> 2.500</td><td> 0.8</td><td> 5.111</td></tr>\n",
       "\t<tr><th scope=row>59</th><td> 2.70</td><td>12.100</td><td> 0.800</td><td> 0.8</td><td>20.578</td></tr>\n",
       "\t<tr><th scope=row>60</th><td> 0.80</td><td> 0.800</td><td> 0.800</td><td> 0.5</td><td> 2.500</td></tr>\n",
       "\t<tr><th scope=row>61</th><td> 2.70</td><td> 0.500</td><td> 0.800</td><td> 0.5</td><td> 4.500</td></tr>\n",
       "\t<tr><th scope=row>62</th><td> 3.00</td><td> 1.300</td><td> 3.000</td><td> 0.5</td><td> 1.000</td></tr>\n",
       "\t<tr><th scope=row>115</th><td>11.84</td><td>22.700</td><td>24.556</td><td>25.0</td><td>13.200</td></tr>\n",
       "\t<tr><th scope=row>183</th><td> 4.30</td><td>20.578</td><td>22.700</td><td> 3.2</td><td>32.000</td></tr>\n",
       "</tbody>\n",
       "</table>\n",
       "</dd>\n",
       "</dl>\n"
      ],
      "text/latex": [
       "\\begin{description}\n",
       "\\item[\\$mxPH] A data.frame: 1 × 5\n",
       "\\begin{tabular}{r|lllll}\n",
       "  & 1 & 2 & 3 & 4 & 5\\\\\n",
       "  & <dbl> & <dbl> & <dbl> & <dbl> & <dbl>\\\\\n",
       "\\hline\n",
       "\t48 & 8.1 & 8 & 8.06 & 7.29 & 8.3\\\\\n",
       "\\end{tabular}\n",
       "\n",
       "\\item[\\$mnO2] A data.frame: 1 × 5\n",
       "\\begin{tabular}{r|lllll}\n",
       "  & 1 & 2 & 3 & 4 & 5\\\\\n",
       "  & <dbl> & <dbl> & <dbl> & <dbl> & <dbl>\\\\\n",
       "\\hline\n",
       "\t38 & 11.4 & 9.8 & 9 & 10.7 & 9.8\\\\\n",
       "\\end{tabular}\n",
       "\n",
       "\\item[\\$Cl] A data.frame: 8 × 5\n",
       "\\begin{tabular}{r|lllll}\n",
       "  & 1 & 2 & 3 & 4 & 5\\\\\n",
       "  & <dbl> & <dbl> & <dbl> & <dbl> & <dbl>\\\\\n",
       "\\hline\n",
       "\t55 & 11.000 & 10.975 & 12.536 &  5.273 &  7.613\\\\\n",
       "\t56 &  1.450 &  3.500 &  3.860 & 11.867 & 61.050\\\\\n",
       "\t57 &  2.750 & 66.300 & 47.778 & 47.000 & 46.167\\\\\n",
       "\t58 &  3.500 & 69.750 & 35.750 &  7.333 & 41.163\\\\\n",
       "\t59 &  9.000 & 10.500 & 37.600 &  9.000 &  5.889\\\\\n",
       "\t60 &  3.500 & 41.250 & 11.000 &  0.222 & 13.000\\\\\n",
       "\t61 & 12.536 & 47.000 & 47.778 & 59.067 & 12.778\\\\\n",
       "\t160 & 43.970 & 40.020 & 49.625 & 47.229 & 54.190\\\\\n",
       "\\end{tabular}\n",
       "\n",
       "\\item[\\$PO4] A data.frame: 1 × 5\n",
       "\\begin{tabular}{r|lllll}\n",
       "  & 1 & 2 & 3 & 4 & 5\\\\\n",
       "  & <dbl> & <dbl> & <dbl> & <dbl> & <dbl>\\\\\n",
       "\\hline\n",
       "\t28 & 7.654 & 6.2 & 7.2 & 6 & 7.654\\\\\n",
       "\\end{tabular}\n",
       "\n",
       "\\item[\\$Chla] A data.frame: 10 × 5\n",
       "\\begin{tabular}{r|lllll}\n",
       "  & 1 & 2 & 3 & 4 & 5\\\\\n",
       "  & <dbl> & <dbl> & <dbl> & <dbl> & <dbl>\\\\\n",
       "\\hline\n",
       "\t55 &  0.50 &  2.700 &  0.500 &  2.7 &  1.000\\\\\n",
       "\t56 &  2.70 &  0.500 &  0.800 &  2.7 &  2.500\\\\\n",
       "\t57 &  0.80 &  2.700 &  2.700 &  3.3 &  2.500\\\\\n",
       "\t58 & 12.10 &  0.800 &  2.500 &  0.8 &  5.111\\\\\n",
       "\t59 &  2.70 & 12.100 &  0.800 &  0.8 & 20.578\\\\\n",
       "\t60 &  0.80 &  0.800 &  0.800 &  0.5 &  2.500\\\\\n",
       "\t61 &  2.70 &  0.500 &  0.800 &  0.5 &  4.500\\\\\n",
       "\t62 &  3.00 &  1.300 &  3.000 &  0.5 &  1.000\\\\\n",
       "\t115 & 11.84 & 22.700 & 24.556 & 25.0 & 13.200\\\\\n",
       "\t183 &  4.30 & 20.578 & 22.700 &  3.2 & 32.000\\\\\n",
       "\\end{tabular}\n",
       "\n",
       "\\end{description}\n"
      ],
      "text/markdown": [
       "$mxPH\n",
       ":   \n",
       "A data.frame: 1 × 5\n",
       "\n",
       "| <!--/--> | 1 &lt;dbl&gt; | 2 &lt;dbl&gt; | 3 &lt;dbl&gt; | 4 &lt;dbl&gt; | 5 &lt;dbl&gt; |\n",
       "|---|---|---|---|---|---|\n",
       "| 48 | 8.1 | 8 | 8.06 | 7.29 | 8.3 |\n",
       "\n",
       "\n",
       "$mnO2\n",
       ":   \n",
       "A data.frame: 1 × 5\n",
       "\n",
       "| <!--/--> | 1 &lt;dbl&gt; | 2 &lt;dbl&gt; | 3 &lt;dbl&gt; | 4 &lt;dbl&gt; | 5 &lt;dbl&gt; |\n",
       "|---|---|---|---|---|---|\n",
       "| 38 | 11.4 | 9.8 | 9 | 10.7 | 9.8 |\n",
       "\n",
       "\n",
       "$Cl\n",
       ":   \n",
       "A data.frame: 8 × 5\n",
       "\n",
       "| <!--/--> | 1 &lt;dbl&gt; | 2 &lt;dbl&gt; | 3 &lt;dbl&gt; | 4 &lt;dbl&gt; | 5 &lt;dbl&gt; |\n",
       "|---|---|---|---|---|---|\n",
       "| 55 | 11.000 | 10.975 | 12.536 |  5.273 |  7.613 |\n",
       "| 56 |  1.450 |  3.500 |  3.860 | 11.867 | 61.050 |\n",
       "| 57 |  2.750 | 66.300 | 47.778 | 47.000 | 46.167 |\n",
       "| 58 |  3.500 | 69.750 | 35.750 |  7.333 | 41.163 |\n",
       "| 59 |  9.000 | 10.500 | 37.600 |  9.000 |  5.889 |\n",
       "| 60 |  3.500 | 41.250 | 11.000 |  0.222 | 13.000 |\n",
       "| 61 | 12.536 | 47.000 | 47.778 | 59.067 | 12.778 |\n",
       "| 160 | 43.970 | 40.020 | 49.625 | 47.229 | 54.190 |\n",
       "\n",
       "\n",
       "$PO4\n",
       ":   \n",
       "A data.frame: 1 × 5\n",
       "\n",
       "| <!--/--> | 1 &lt;dbl&gt; | 2 &lt;dbl&gt; | 3 &lt;dbl&gt; | 4 &lt;dbl&gt; | 5 &lt;dbl&gt; |\n",
       "|---|---|---|---|---|---|\n",
       "| 28 | 7.654 | 6.2 | 7.2 | 6 | 7.654 |\n",
       "\n",
       "\n",
       "$Chla\n",
       ":   \n",
       "A data.frame: 10 × 5\n",
       "\n",
       "| <!--/--> | 1 &lt;dbl&gt; | 2 &lt;dbl&gt; | 3 &lt;dbl&gt; | 4 &lt;dbl&gt; | 5 &lt;dbl&gt; |\n",
       "|---|---|---|---|---|---|\n",
       "| 55 |  0.50 |  2.700 |  0.500 |  2.7 |  1.000 |\n",
       "| 56 |  2.70 |  0.500 |  0.800 |  2.7 |  2.500 |\n",
       "| 57 |  0.80 |  2.700 |  2.700 |  3.3 |  2.500 |\n",
       "| 58 | 12.10 |  0.800 |  2.500 |  0.8 |  5.111 |\n",
       "| 59 |  2.70 | 12.100 |  0.800 |  0.8 | 20.578 |\n",
       "| 60 |  0.80 |  0.800 |  0.800 |  0.5 |  2.500 |\n",
       "| 61 |  2.70 |  0.500 |  0.800 |  0.5 |  4.500 |\n",
       "| 62 |  3.00 |  1.300 |  3.000 |  0.5 |  1.000 |\n",
       "| 115 | 11.84 | 22.700 | 24.556 | 25.0 | 13.200 |\n",
       "| 183 |  4.30 | 20.578 | 22.700 |  3.2 | 32.000 |\n",
       "\n",
       "\n",
       "\n",
       "\n"
      ],
      "text/plain": [
       "$mxPH\n",
       "     1 2    3    4   5\n",
       "48 8.1 8 8.06 7.29 8.3\n",
       "\n",
       "$mnO2\n",
       "      1   2 3    4   5\n",
       "38 11.4 9.8 9 10.7 9.8\n",
       "\n",
       "$Cl\n",
       "         1      2      3      4      5\n",
       "55  11.000 10.975 12.536  5.273  7.613\n",
       "56   1.450  3.500  3.860 11.867 61.050\n",
       "57   2.750 66.300 47.778 47.000 46.167\n",
       "58   3.500 69.750 35.750  7.333 41.163\n",
       "59   9.000 10.500 37.600  9.000  5.889\n",
       "60   3.500 41.250 11.000  0.222 13.000\n",
       "61  12.536 47.000 47.778 59.067 12.778\n",
       "160 43.970 40.020 49.625 47.229 54.190\n",
       "\n",
       "$PO4\n",
       "       1   2   3 4     5\n",
       "28 7.654 6.2 7.2 6 7.654\n",
       "\n",
       "$Chla\n",
       "        1      2      3    4      5\n",
       "55   0.50  2.700  0.500  2.7  1.000\n",
       "56   2.70  0.500  0.800  2.7  2.500\n",
       "57   0.80  2.700  2.700  3.3  2.500\n",
       "58  12.10  0.800  2.500  0.8  5.111\n",
       "59   2.70 12.100  0.800  0.8 20.578\n",
       "60   0.80  0.800  0.800  0.5  2.500\n",
       "61   2.70  0.500  0.800  0.5  4.500\n",
       "62   3.00  1.300  3.000  0.5  1.000\n",
       "115 11.84 22.700 24.556 25.0 13.200\n",
       "183  4.30 20.578 22.700  3.2 32.000\n"
      ]
     },
     "metadata": {},
     "output_type": "display_data"
    }
   ],
   "source": [
    "imputacao$imp[c(4,5,6,10,11)]"
   ]
  },
  {
   "cell_type": "code",
   "execution_count": 72,
   "metadata": {},
   "outputs": [
    {
     "data": {
      "text/html": [
       "<table class=\"dataframe\">\n",
       "<caption>A data.frame: 6 × 18</caption>\n",
       "<thead>\n",
       "\t<tr><th></th><th scope=col>season</th><th scope=col>size</th><th scope=col>speed</th><th scope=col>mxPH</th><th scope=col>mnO2</th><th scope=col>Cl</th><th scope=col>NO3</th><th scope=col>NH4</th><th scope=col>oPO4</th><th scope=col>PO4</th><th scope=col>Chla</th><th scope=col>a1</th><th scope=col>a2</th><th scope=col>a3</th><th scope=col>a4</th><th scope=col>a5</th><th scope=col>a6</th><th scope=col>a7</th></tr>\n",
       "\t<tr><th></th><th scope=col>&lt;fct&gt;</th><th scope=col>&lt;fct&gt;</th><th scope=col>&lt;fct&gt;</th><th scope=col>&lt;dbl&gt;</th><th scope=col>&lt;dbl&gt;</th><th scope=col>&lt;dbl&gt;</th><th scope=col>&lt;dbl&gt;</th><th scope=col>&lt;dbl&gt;</th><th scope=col>&lt;dbl&gt;</th><th scope=col>&lt;dbl&gt;</th><th scope=col>&lt;dbl&gt;</th><th scope=col>&lt;dbl&gt;</th><th scope=col>&lt;dbl&gt;</th><th scope=col>&lt;dbl&gt;</th><th scope=col>&lt;dbl&gt;</th><th scope=col>&lt;dbl&gt;</th><th scope=col>&lt;dbl&gt;</th><th scope=col>&lt;dbl&gt;</th></tr>\n",
       "</thead>\n",
       "<tbody>\n",
       "\t<tr><th scope=row>1</th><td>winter</td><td>small</td><td>medium</td><td>8.00</td><td> 9.8</td><td>60.800</td><td> 6.238</td><td>578.000</td><td>105.000</td><td>170.000</td><td>50.0</td><td> 0.0</td><td> 0.0</td><td> 0.0</td><td>0.0</td><td>34.2</td><td> 8.3</td><td>0.0</td></tr>\n",
       "\t<tr><th scope=row>2</th><td>spring</td><td>small</td><td>medium</td><td>8.35</td><td> 8.0</td><td>57.750</td><td> 1.288</td><td>370.000</td><td>428.750</td><td>558.750</td><td> 1.3</td><td> 1.4</td><td> 7.6</td><td> 4.8</td><td>1.9</td><td> 6.7</td><td> 0.0</td><td>2.1</td></tr>\n",
       "\t<tr><th scope=row>3</th><td>autumn</td><td>small</td><td>medium</td><td>8.10</td><td>11.4</td><td>40.020</td><td> 5.330</td><td>346.667</td><td>125.667</td><td>187.057</td><td>15.6</td><td> 3.3</td><td>53.6</td><td> 1.9</td><td>0.0</td><td> 0.0</td><td> 0.0</td><td>9.7</td></tr>\n",
       "\t<tr><th scope=row>4</th><td>spring</td><td>small</td><td>medium</td><td>8.07</td><td> 4.8</td><td>77.364</td><td> 2.302</td><td> 98.182</td><td> 61.182</td><td>138.700</td><td> 1.4</td><td> 3.1</td><td>41.0</td><td>18.9</td><td>0.0</td><td> 1.4</td><td> 0.0</td><td>1.4</td></tr>\n",
       "\t<tr><th scope=row>5</th><td>autumn</td><td>small</td><td>medium</td><td>8.06</td><td> 9.0</td><td>55.350</td><td>10.416</td><td>233.700</td><td> 58.222</td><td> 97.580</td><td>10.5</td><td> 9.2</td><td> 2.9</td><td> 7.5</td><td>0.0</td><td> 7.5</td><td> 4.1</td><td>1.0</td></tr>\n",
       "\t<tr><th scope=row>6</th><td>winter</td><td>small</td><td>high  </td><td>8.25</td><td>13.1</td><td>65.750</td><td> 9.248</td><td>430.000</td><td> 18.250</td><td> 56.667</td><td>28.4</td><td>15.1</td><td>14.6</td><td> 1.4</td><td>0.0</td><td>22.5</td><td>12.6</td><td>2.9</td></tr>\n",
       "</tbody>\n",
       "</table>\n"
      ],
      "text/latex": [
       "A data.frame: 6 × 18\n",
       "\\begin{tabular}{r|llllllllllllllllll}\n",
       "  & season & size & speed & mxPH & mnO2 & Cl & NO3 & NH4 & oPO4 & PO4 & Chla & a1 & a2 & a3 & a4 & a5 & a6 & a7\\\\\n",
       "  & <fct> & <fct> & <fct> & <dbl> & <dbl> & <dbl> & <dbl> & <dbl> & <dbl> & <dbl> & <dbl> & <dbl> & <dbl> & <dbl> & <dbl> & <dbl> & <dbl> & <dbl>\\\\\n",
       "\\hline\n",
       "\t1 & winter & small & medium & 8.00 &  9.8 & 60.800 &  6.238 & 578.000 & 105.000 & 170.000 & 50.0 &  0.0 &  0.0 &  0.0 & 0.0 & 34.2 &  8.3 & 0.0\\\\\n",
       "\t2 & spring & small & medium & 8.35 &  8.0 & 57.750 &  1.288 & 370.000 & 428.750 & 558.750 &  1.3 &  1.4 &  7.6 &  4.8 & 1.9 &  6.7 &  0.0 & 2.1\\\\\n",
       "\t3 & autumn & small & medium & 8.10 & 11.4 & 40.020 &  5.330 & 346.667 & 125.667 & 187.057 & 15.6 &  3.3 & 53.6 &  1.9 & 0.0 &  0.0 &  0.0 & 9.7\\\\\n",
       "\t4 & spring & small & medium & 8.07 &  4.8 & 77.364 &  2.302 &  98.182 &  61.182 & 138.700 &  1.4 &  3.1 & 41.0 & 18.9 & 0.0 &  1.4 &  0.0 & 1.4\\\\\n",
       "\t5 & autumn & small & medium & 8.06 &  9.0 & 55.350 & 10.416 & 233.700 &  58.222 &  97.580 & 10.5 &  9.2 &  2.9 &  7.5 & 0.0 &  7.5 &  4.1 & 1.0\\\\\n",
       "\t6 & winter & small & high   & 8.25 & 13.1 & 65.750 &  9.248 & 430.000 &  18.250 &  56.667 & 28.4 & 15.1 & 14.6 &  1.4 & 0.0 & 22.5 & 12.6 & 2.9\\\\\n",
       "\\end{tabular}\n"
      ],
      "text/markdown": [
       "\n",
       "A data.frame: 6 × 18\n",
       "\n",
       "| <!--/--> | season &lt;fct&gt; | size &lt;fct&gt; | speed &lt;fct&gt; | mxPH &lt;dbl&gt; | mnO2 &lt;dbl&gt; | Cl &lt;dbl&gt; | NO3 &lt;dbl&gt; | NH4 &lt;dbl&gt; | oPO4 &lt;dbl&gt; | PO4 &lt;dbl&gt; | Chla &lt;dbl&gt; | a1 &lt;dbl&gt; | a2 &lt;dbl&gt; | a3 &lt;dbl&gt; | a4 &lt;dbl&gt; | a5 &lt;dbl&gt; | a6 &lt;dbl&gt; | a7 &lt;dbl&gt; |\n",
       "|---|---|---|---|---|---|---|---|---|---|---|---|---|---|---|---|---|---|---|\n",
       "| 1 | winter | small | medium | 8.00 |  9.8 | 60.800 |  6.238 | 578.000 | 105.000 | 170.000 | 50.0 |  0.0 |  0.0 |  0.0 | 0.0 | 34.2 |  8.3 | 0.0 |\n",
       "| 2 | spring | small | medium | 8.35 |  8.0 | 57.750 |  1.288 | 370.000 | 428.750 | 558.750 |  1.3 |  1.4 |  7.6 |  4.8 | 1.9 |  6.7 |  0.0 | 2.1 |\n",
       "| 3 | autumn | small | medium | 8.10 | 11.4 | 40.020 |  5.330 | 346.667 | 125.667 | 187.057 | 15.6 |  3.3 | 53.6 |  1.9 | 0.0 |  0.0 |  0.0 | 9.7 |\n",
       "| 4 | spring | small | medium | 8.07 |  4.8 | 77.364 |  2.302 |  98.182 |  61.182 | 138.700 |  1.4 |  3.1 | 41.0 | 18.9 | 0.0 |  1.4 |  0.0 | 1.4 |\n",
       "| 5 | autumn | small | medium | 8.06 |  9.0 | 55.350 | 10.416 | 233.700 |  58.222 |  97.580 | 10.5 |  9.2 |  2.9 |  7.5 | 0.0 |  7.5 |  4.1 | 1.0 |\n",
       "| 6 | winter | small | high   | 8.25 | 13.1 | 65.750 |  9.248 | 430.000 |  18.250 |  56.667 | 28.4 | 15.1 | 14.6 |  1.4 | 0.0 | 22.5 | 12.6 | 2.9 |\n",
       "\n"
      ],
      "text/plain": [
       "  season size  speed  mxPH mnO2 Cl     NO3    NH4     oPO4    PO4     Chla a1  \n",
       "1 winter small medium 8.00  9.8 60.800  6.238 578.000 105.000 170.000 50.0  0.0\n",
       "2 spring small medium 8.35  8.0 57.750  1.288 370.000 428.750 558.750  1.3  1.4\n",
       "3 autumn small medium 8.10 11.4 40.020  5.330 346.667 125.667 187.057 15.6  3.3\n",
       "4 spring small medium 8.07  4.8 77.364  2.302  98.182  61.182 138.700  1.4  3.1\n",
       "5 autumn small medium 8.06  9.0 55.350 10.416 233.700  58.222  97.580 10.5  9.2\n",
       "6 winter small high   8.25 13.1 65.750  9.248 430.000  18.250  56.667 28.4 15.1\n",
       "  a2   a3   a4  a5   a6   a7 \n",
       "1  0.0  0.0 0.0 34.2  8.3 0.0\n",
       "2  7.6  4.8 1.9  6.7  0.0 2.1\n",
       "3 53.6  1.9 0.0  0.0  0.0 9.7\n",
       "4 41.0 18.9 0.0  1.4  0.0 1.4\n",
       "5  2.9  7.5 0.0  7.5  4.1 1.0\n",
       "6 14.6  1.4 0.0 22.5 12.6 2.9"
      ]
     },
     "metadata": {},
     "output_type": "display_data"
    }
   ],
   "source": [
    "# Banco de dados específico\n",
    "head(complete(imputacao,4))"
   ]
  }
 ],
 "metadata": {
  "kernelspec": {
   "display_name": "R",
   "language": "R",
   "name": "ir"
  },
  "language_info": {
   "codemirror_mode": "r",
   "file_extension": ".r",
   "mimetype": "text/x-r-source",
   "name": "R",
   "pygments_lexer": "r",
   "version": "3.6.1"
  }
 },
 "nbformat": 4,
 "nbformat_minor": 2
}
